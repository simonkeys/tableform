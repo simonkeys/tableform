{
 "cells": [
  {
   "cell_type": "code",
   "execution_count": null,
   "id": "78caf150-1a86-476c-b72b-1bd3021590c4",
   "metadata": {},
   "outputs": [],
   "source": [
    "#| default_exp core"
   ]
  },
  {
   "cell_type": "markdown",
   "id": "22d06c13-5b39-4f0e-a119-02c5f2b51e6d",
   "metadata": {},
   "source": [
    "## tableform\n",
    "> `_repr_html_` for nested data"
   ]
  },
  {
   "cell_type": "code",
   "execution_count": null,
   "id": "befe0b4d-8d38-4b7e-b73c-356bb513bab5",
   "metadata": {},
   "outputs": [],
   "source": [
    "#|export\n",
    "import warnings\n",
    "import sys\n",
    "from numbers import Integral"
   ]
  },
  {
   "cell_type": "code",
   "execution_count": null,
   "id": "10c597f8-e214-49da-a177-ef3b0da8198f",
   "metadata": {},
   "outputs": [],
   "source": [
    "#|export\n",
    "def get_or_last(l, i):\n",
    "    try: return l[i]\n",
    "    except:\n",
    "        try: return l[-1]\n",
    "        except: return l"
   ]
  },
  {
   "cell_type": "code",
   "execution_count": null,
   "id": "5d24ceae-35b3-434a-a92d-de239045d1ae",
   "metadata": {},
   "outputs": [],
   "source": [
    "#|export\n",
    "def is_astropy_quantity(a):\n",
    "    return str(a.__class__) == \"<class 'astropy.units.quantity.Quantity'>\""
   ]
  },
  {
   "cell_type": "code",
   "execution_count": null,
   "id": "d46ac628-58d1-48f7-a15a-13f9334b5cd5",
   "metadata": {},
   "outputs": [],
   "source": [
    "#|export\n",
    "class TableForm:\n",
    "    def __init__(self, a=None, fmt='.2f', border_color=\"Gray\", width=\"auto\", edgeitems=3, font_size=12, padding=2):\n",
    "        self.a = a\n",
    "        self.fmt = fmt\n",
    "        if border_color == 'auto':\n",
    "            border_color = ['#1f77b4', '#ff7f0e', '#2ca02c', '#d62728', '#9467bd', '#8c564b', '#e377c2', '#7f7f7f', '#bcbd22', '#17becf']\n",
    "        elif isinstance(border_color, str):\n",
    "            border_color = [border_color]\n",
    "        self.border_color = border_color\n",
    "        self.width = width\n",
    "        self.font_size = font_size\n",
    "        self.padding = padding\n",
    "        self.edgeitems = edgeitems\n",
    "\n",
    "    def table_tag(self, content, depth, brackets=False):\n",
    "        return (\n",
    "            (f'<div style=\"font-size:{self.font_size}px\">{self.table_caption()}</div>' if depth == 0 else '') + \n",
    "            '<table style=\"display:inline-table; text-align: center;' +\n",
    "            self.font_style() +\n",
    "            self.table_width(depth) +\n",
    "            self.table_border(depth) +\n",
    "            (self.table_brackets() if brackets else \"\") +\n",
    "            self.table_padding() +\n",
    "            self.table_margin(depth) +\n",
    "            '\">' +\n",
    "            content +\n",
    "            '</table>'\n",
    "        )\n",
    "\n",
    "    def table_caption(self):\n",
    "        caption = self.a.__class__.__name__\n",
    "        try: caption += f' {tuple(self.a.shape)} {self.a.dtype}'\n",
    "        except: pass\n",
    "        return caption\n",
    "            \n",
    "    def table_padding(self):\n",
    "        return f'padding: {self.padding}px;'\n",
    "        \n",
    "    def font_style(self):\n",
    "        return f'font-size:{self.font_size}px;'\n",
    "        \n",
    "    def table_width(self, depth):\n",
    "        return f'width: {get_or_last(self.width, depth)};'\n",
    "\n",
    "    def table_border(self, depth):\n",
    "        return f'border: 1.5px solid {self.border_color[depth % len(self.border_color)]};'\n",
    "\n",
    "    def table_brackets(self):\n",
    "        return (\n",
    "            \"border-top-style: none;\" +  \n",
    "            \"border-bottom-style: none;\" +\n",
    "            \"border-radius: 5px;\" +\n",
    "            \"border-spacing: 0px;\" +\n",
    "            \"border-collapse:separate;\" \n",
    "        )\n",
    "\n",
    "    def table_margin(self, depth):\n",
    "        return f'margin: 0px {\"0\" if depth == 0 else \"auto\"};'\n",
    "    \n",
    "    def caption_tag(self, content):\n",
    "        return f'<caption style=\"white-space: nowrap\">{content}</caption>'\n",
    "    \n",
    "    def td_tag(self, content):\n",
    "        return f'<td style=\"padding: {self.padding}px; text-align: center;\">{content}</td>'\n",
    "    \n",
    "    def tr_tag(self, content):\n",
    "        return f'<tr style=\"padding: 0; margin: 0\">{content}</tr>'\n",
    "    \n",
    "    def abbreviate(self, a, symbol='…'):\n",
    "        try: # For some reason numpy masked arrays throw error here, otherwise wouldn't need try block\n",
    "            if a[0] in ['…', '︙']: return a\n",
    "        except ValueError: pass\n",
    "        l = self.edgeitems\n",
    "        if l and len(a) > 2 * l + 1:\n",
    "            head = a[:l]\n",
    "            tail = a[-l:]\n",
    "            try: \n",
    "                if len(a[l - 1]) <= 2 * l + 1:\n",
    "                    ellipses = [symbol] * len(a[l - 1])\n",
    "                else:\n",
    "                    ellipses = [symbol] * l + [\"⋱\"] + [symbol] * l\n",
    "            except: ellipses = symbol\n",
    "            return [*head, ellipses, *tail]\n",
    "        return a\n",
    "    \n",
    "    def make_entry(self, d, depth=0):\n",
    "        with warnings.catch_warnings():\n",
    "            warnings.simplefilter('ignore')\n",
    "            try:\n",
    "                if d == '⋱': return d\n",
    "                if set(d) <= {'…', '⋱'}: return '…'\n",
    "            except: pass\n",
    "            try: return self.make_table(d, depth+1)\n",
    "            except:\n",
    "                if isinstance(d, Integral): return d\n",
    "                try: return format(d, self.fmt)\n",
    "                except: return d\n",
    "    \n",
    "    def make_row(self, a, depth=0):\n",
    "        if isinstance(a, str): raise TypeError\n",
    "        a = self.abbreviate(a, '…')\n",
    "        return self.tr_tag(''.join(self.td_tag(self.make_entry(entry, depth)) for entry in a))\n",
    "    \n",
    "    def make_rows(self, a, depth=0):\n",
    "        a = self.abbreviate(a, \"︙\")\n",
    "        return \"\\n\".join(self.make_row(row, depth) for row in a)\n",
    "    \n",
    "    def make_table(self, a, depth=0):\n",
    "        if isinstance(a, str): raise TypeError\n",
    "        try:\n",
    "            return self.table_tag(self.make_rows(a, depth), depth, brackets=False)\n",
    "        except:\n",
    "            return self.table_tag(self.make_row(a, depth), depth, brackets=True) \n",
    "        \n",
    "    def _repr_html_(self):\n",
    "        if is_astropy_quantity(self.a):\n",
    "            return self.make_entry(self.a.value, depth=-1) + \"&nbsp;\" +self.a.unit.to_string('unicode')\n",
    "        return self.make_entry(self.a, depth=-1)\n",
    "\n",
    "    @classmethod\n",
    "    def register(cls, *types):\n",
    "        \"\"\"Register `types` in IPython to display using `TableForm`.\"\"\"\n",
    "        try: \n",
    "            formatter = get_ipython().display_formatter.formatters['text/html']\n",
    "            for _type in types: formatter.for_type(_type, lambda o: cls(o)._repr_html_())\n",
    "        except NameError: pass"
   ]
  },
  {
   "cell_type": "code",
   "execution_count": null,
   "id": "4e1d6a92-58de-49b1-b9a9-1b04e89b63ca",
   "metadata": {},
   "outputs": [],
   "source": [
    "import numpy as np"
   ]
  },
  {
   "cell_type": "code",
   "execution_count": null,
   "id": "02e0ebbf-e748-43f7-882c-f36681bf5504",
   "metadata": {},
   "outputs": [
    {
     "data": {
      "text/html": [
       "<div style=\"font-size:12px\">ndarray (2,) int64</div><table style=\"display:inline-table; text-align: center;font-size:12px;width: a;border: 1.5px solid Gray;border-top-style: none;border-bottom-style: none;border-radius: 5px;border-spacing: 0px;border-collapse:separate;padding: 2px;margin: 0px 0;\"><tr style=\"padding: 0; margin: 0\"><td style=\"padding: 2px; text-align: center;\">0</td><td style=\"padding: 2px; text-align: center;\">1</td></tr></table>"
      ],
      "text/plain": [
       "<__main__.TableForm>"
      ]
     },
     "execution_count": null,
     "metadata": {},
     "output_type": "execute_result"
    }
   ],
   "source": [
    "TableForm(np.arange(2))"
   ]
  },
  {
   "cell_type": "code",
   "execution_count": null,
   "id": "29446873-25cf-4ea5-9673-5ab24ad6944c",
   "metadata": {},
   "outputs": [
    {
     "data": {
      "text/html": [
       "<div style=\"font-size:12px\">list</div><table style=\"display:inline-table; text-align: center;font-size:12px;width: a;border: 1.5px solid #1f77b4;border-top-style: none;border-bottom-style: none;border-radius: 5px;border-spacing: 0px;border-collapse:separate;padding: 10px;margin: 0px 0;\"><tr style=\"padding: 0; margin: 0\"><td style=\"padding: 10px; text-align: center;\">1</td><td style=\"padding: 10px; text-align: center;\"><table style=\"display:inline-table; text-align: center;font-size:12px;width: u;border: 1.5px solid #ff7f0e;border-top-style: none;border-bottom-style: none;border-radius: 5px;border-spacing: 0px;border-collapse:separate;padding: 10px;margin: 0px auto;\"><tr style=\"padding: 0; margin: 0\"><td style=\"padding: 10px; text-align: center;\">1</td><td style=\"padding: 10px; text-align: center;\"><table style=\"display:inline-table; text-align: center;font-size:12px;width: t;border: 1.5px solid #2ca02c;padding: 10px;margin: 0px auto;\"><tr style=\"padding: 0; margin: 0\"><td style=\"padding: 10px; text-align: center;\">1</td><td style=\"padding: 10px; text-align: center;\">2</td><td style=\"padding: 10px; text-align: center;\"><table style=\"display:inline-table; text-align: center;font-size:12px;width: o;border: 1.5px solid #d62728;border-top-style: none;border-bottom-style: none;border-radius: 5px;border-spacing: 0px;border-collapse:separate;padding: 10px;margin: 0px auto;\"><tr style=\"padding: 0; margin: 0\"><td style=\"padding: 10px; text-align: center;\"><table style=\"display:inline-table; text-align: center;font-size:12px;width: o;border: 1.5px solid #9467bd;border-top-style: none;border-bottom-style: none;border-radius: 5px;border-spacing: 0px;border-collapse:separate;padding: 10px;margin: 0px auto;\"><tr style=\"padding: 0; margin: 0\"><td style=\"padding: 10px; text-align: center;\">1</td></tr></table></td><td style=\"padding: 10px; text-align: center;\">2</td></tr></table></td></tr></table></td></tr></table></td></tr></table>"
      ],
      "text/plain": [
       "<__main__.TableForm>"
      ]
     },
     "execution_count": null,
     "metadata": {},
     "output_type": "execute_result"
    }
   ],
   "source": [
    "TableForm([1, [1, [[1, 2, [[1], 2]]]]], border_color='auto', padding=10)"
   ]
  },
  {
   "cell_type": "code",
   "execution_count": null,
   "id": "a816ee99-42ed-4195-827a-a41b6f980efa",
   "metadata": {},
   "outputs": [
    {
     "data": {
      "text/html": [
       "<div style=\"font-size:12px\">ndarray (4, 5, 4, 3, 4) int64</div><table style=\"display:inline-table; text-align: center;font-size:12px;width: a;border: 1.5px solid red;padding: 2px;margin: 0px 0;\"><tr style=\"padding: 0; margin: 0\"><td style=\"padding: 2px; text-align: center;\"><table style=\"display:inline-table; text-align: center;font-size:12px;width: u;border: 1.5px solid green;padding: 2px;margin: 0px auto;\"><tr style=\"padding: 0; margin: 0\"><td style=\"padding: 2px; text-align: center;\"><table style=\"display:inline-table; text-align: center;font-size:12px;width: t;border: 1.5px solid blue;border-top-style: none;border-bottom-style: none;border-radius: 5px;border-spacing: 0px;border-collapse:separate;padding: 2px;margin: 0px auto;\"><tr style=\"padding: 0; margin: 0\"><td style=\"padding: 2px; text-align: center;\">0</td><td style=\"padding: 2px; text-align: center;\">…</td><td style=\"padding: 2px; text-align: center;\">15</td></tr></table></td><td style=\"padding: 2px; text-align: center;\"><table style=\"display:inline-table; text-align: center;font-size:12px;width: t;border: 1.5px solid blue;border-top-style: none;border-bottom-style: none;border-radius: 5px;border-spacing: 0px;border-collapse:separate;padding: 2px;margin: 0px auto;\"><tr style=\"padding: 0; margin: 0\"><td style=\"padding: 2px; text-align: center;\">20</td><td style=\"padding: 2px; text-align: center;\">…</td><td style=\"padding: 2px; text-align: center;\">35</td></tr></table></td><td style=\"padding: 2px; text-align: center;\"><table style=\"display:inline-table; text-align: center;font-size:12px;width: t;border: 1.5px solid blue;border-top-style: none;border-bottom-style: none;border-radius: 5px;border-spacing: 0px;border-collapse:separate;padding: 2px;margin: 0px auto;\"><tr style=\"padding: 0; margin: 0\"><td style=\"padding: 2px; text-align: center;\">40</td><td style=\"padding: 2px; text-align: center;\">…</td><td style=\"padding: 2px; text-align: center;\">55</td></tr></table></td></tr>\n",
       "<tr style=\"padding: 0; margin: 0\"><td style=\"padding: 2px; text-align: center;\">︙</td><td style=\"padding: 2px; text-align: center;\">︙</td><td style=\"padding: 2px; text-align: center;\">︙</td></tr>\n",
       "<tr style=\"padding: 0; margin: 0\"><td style=\"padding: 2px; text-align: center;\"><table style=\"display:inline-table; text-align: center;font-size:12px;width: t;border: 1.5px solid blue;border-top-style: none;border-bottom-style: none;border-radius: 5px;border-spacing: 0px;border-collapse:separate;padding: 2px;margin: 0px auto;\"><tr style=\"padding: 0; margin: 0\"><td style=\"padding: 2px; text-align: center;\">180</td><td style=\"padding: 2px; text-align: center;\">…</td><td style=\"padding: 2px; text-align: center;\">195</td></tr></table></td><td style=\"padding: 2px; text-align: center;\"><table style=\"display:inline-table; text-align: center;font-size:12px;width: t;border: 1.5px solid blue;border-top-style: none;border-bottom-style: none;border-radius: 5px;border-spacing: 0px;border-collapse:separate;padding: 2px;margin: 0px auto;\"><tr style=\"padding: 0; margin: 0\"><td style=\"padding: 2px; text-align: center;\">200</td><td style=\"padding: 2px; text-align: center;\">…</td><td style=\"padding: 2px; text-align: center;\">215</td></tr></table></td><td style=\"padding: 2px; text-align: center;\"><table style=\"display:inline-table; text-align: center;font-size:12px;width: t;border: 1.5px solid blue;border-top-style: none;border-bottom-style: none;border-radius: 5px;border-spacing: 0px;border-collapse:separate;padding: 2px;margin: 0px auto;\"><tr style=\"padding: 0; margin: 0\"><td style=\"padding: 2px; text-align: center;\">220</td><td style=\"padding: 2px; text-align: center;\">…</td><td style=\"padding: 2px; text-align: center;\">235</td></tr></table></td></tr></table></td><td style=\"padding: 2px; text-align: center;\">…</td><td style=\"padding: 2px; text-align: center;\"><table style=\"display:inline-table; text-align: center;font-size:12px;width: u;border: 1.5px solid green;padding: 2px;margin: 0px auto;\"><tr style=\"padding: 0; margin: 0\"><td style=\"padding: 2px; text-align: center;\"><table style=\"display:inline-table; text-align: center;font-size:12px;width: t;border: 1.5px solid blue;border-top-style: none;border-bottom-style: none;border-radius: 5px;border-spacing: 0px;border-collapse:separate;padding: 2px;margin: 0px auto;\"><tr style=\"padding: 0; margin: 0\"><td style=\"padding: 2px; text-align: center;\">960</td><td style=\"padding: 2px; text-align: center;\">…</td><td style=\"padding: 2px; text-align: center;\">975</td></tr></table></td><td style=\"padding: 2px; text-align: center;\"><table style=\"display:inline-table; text-align: center;font-size:12px;width: t;border: 1.5px solid blue;border-top-style: none;border-bottom-style: none;border-radius: 5px;border-spacing: 0px;border-collapse:separate;padding: 2px;margin: 0px auto;\"><tr style=\"padding: 0; margin: 0\"><td style=\"padding: 2px; text-align: center;\">980</td><td style=\"padding: 2px; text-align: center;\">…</td><td style=\"padding: 2px; text-align: center;\">995</td></tr></table></td><td style=\"padding: 2px; text-align: center;\"><table style=\"display:inline-table; text-align: center;font-size:12px;width: t;border: 1.5px solid blue;border-top-style: none;border-bottom-style: none;border-radius: 5px;border-spacing: 0px;border-collapse:separate;padding: 2px;margin: 0px auto;\"><tr style=\"padding: 0; margin: 0\"><td style=\"padding: 2px; text-align: center;\">1000</td><td style=\"padding: 2px; text-align: center;\">…</td><td style=\"padding: 2px; text-align: center;\">1015</td></tr></table></td></tr>\n",
       "<tr style=\"padding: 0; margin: 0\"><td style=\"padding: 2px; text-align: center;\">︙</td><td style=\"padding: 2px; text-align: center;\">︙</td><td style=\"padding: 2px; text-align: center;\">︙</td></tr>\n",
       "<tr style=\"padding: 0; margin: 0\"><td style=\"padding: 2px; text-align: center;\"><table style=\"display:inline-table; text-align: center;font-size:12px;width: t;border: 1.5px solid blue;border-top-style: none;border-bottom-style: none;border-radius: 5px;border-spacing: 0px;border-collapse:separate;padding: 2px;margin: 0px auto;\"><tr style=\"padding: 0; margin: 0\"><td style=\"padding: 2px; text-align: center;\">1140</td><td style=\"padding: 2px; text-align: center;\">…</td><td style=\"padding: 2px; text-align: center;\">1155</td></tr></table></td><td style=\"padding: 2px; text-align: center;\"><table style=\"display:inline-table; text-align: center;font-size:12px;width: t;border: 1.5px solid blue;border-top-style: none;border-bottom-style: none;border-radius: 5px;border-spacing: 0px;border-collapse:separate;padding: 2px;margin: 0px auto;\"><tr style=\"padding: 0; margin: 0\"><td style=\"padding: 2px; text-align: center;\">1160</td><td style=\"padding: 2px; text-align: center;\">…</td><td style=\"padding: 2px; text-align: center;\">1175</td></tr></table></td><td style=\"padding: 2px; text-align: center;\"><table style=\"display:inline-table; text-align: center;font-size:12px;width: t;border: 1.5px solid blue;border-top-style: none;border-bottom-style: none;border-radius: 5px;border-spacing: 0px;border-collapse:separate;padding: 2px;margin: 0px auto;\"><tr style=\"padding: 0; margin: 0\"><td style=\"padding: 2px; text-align: center;\">1180</td><td style=\"padding: 2px; text-align: center;\">…</td><td style=\"padding: 2px; text-align: center;\">1195</td></tr></table></td></tr></table></td></tr>\n",
       "<tr style=\"padding: 0; margin: 0\"><td style=\"padding: 2px; text-align: center;\">︙</td><td style=\"padding: 2px; text-align: center;\">⋱</td><td style=\"padding: 2px; text-align: center;\">︙</td></tr>\n",
       "<tr style=\"padding: 0; margin: 0\"><td style=\"padding: 2px; text-align: center;\"><table style=\"display:inline-table; text-align: center;font-size:12px;width: u;border: 1.5px solid green;padding: 2px;margin: 0px auto;\"><tr style=\"padding: 0; margin: 0\"><td style=\"padding: 2px; text-align: center;\"><table style=\"display:inline-table; text-align: center;font-size:12px;width: t;border: 1.5px solid blue;border-top-style: none;border-bottom-style: none;border-radius: 5px;border-spacing: 0px;border-collapse:separate;padding: 2px;margin: 0px auto;\"><tr style=\"padding: 0; margin: 0\"><td style=\"padding: 2px; text-align: center;\">3600</td><td style=\"padding: 2px; text-align: center;\">…</td><td style=\"padding: 2px; text-align: center;\">3615</td></tr></table></td><td style=\"padding: 2px; text-align: center;\"><table style=\"display:inline-table; text-align: center;font-size:12px;width: t;border: 1.5px solid blue;border-top-style: none;border-bottom-style: none;border-radius: 5px;border-spacing: 0px;border-collapse:separate;padding: 2px;margin: 0px auto;\"><tr style=\"padding: 0; margin: 0\"><td style=\"padding: 2px; text-align: center;\">3620</td><td style=\"padding: 2px; text-align: center;\">…</td><td style=\"padding: 2px; text-align: center;\">3635</td></tr></table></td><td style=\"padding: 2px; text-align: center;\"><table style=\"display:inline-table; text-align: center;font-size:12px;width: t;border: 1.5px solid blue;border-top-style: none;border-bottom-style: none;border-radius: 5px;border-spacing: 0px;border-collapse:separate;padding: 2px;margin: 0px auto;\"><tr style=\"padding: 0; margin: 0\"><td style=\"padding: 2px; text-align: center;\">3640</td><td style=\"padding: 2px; text-align: center;\">…</td><td style=\"padding: 2px; text-align: center;\">3655</td></tr></table></td></tr>\n",
       "<tr style=\"padding: 0; margin: 0\"><td style=\"padding: 2px; text-align: center;\">︙</td><td style=\"padding: 2px; text-align: center;\">︙</td><td style=\"padding: 2px; text-align: center;\">︙</td></tr>\n",
       "<tr style=\"padding: 0; margin: 0\"><td style=\"padding: 2px; text-align: center;\"><table style=\"display:inline-table; text-align: center;font-size:12px;width: t;border: 1.5px solid blue;border-top-style: none;border-bottom-style: none;border-radius: 5px;border-spacing: 0px;border-collapse:separate;padding: 2px;margin: 0px auto;\"><tr style=\"padding: 0; margin: 0\"><td style=\"padding: 2px; text-align: center;\">3780</td><td style=\"padding: 2px; text-align: center;\">…</td><td style=\"padding: 2px; text-align: center;\">3795</td></tr></table></td><td style=\"padding: 2px; text-align: center;\"><table style=\"display:inline-table; text-align: center;font-size:12px;width: t;border: 1.5px solid blue;border-top-style: none;border-bottom-style: none;border-radius: 5px;border-spacing: 0px;border-collapse:separate;padding: 2px;margin: 0px auto;\"><tr style=\"padding: 0; margin: 0\"><td style=\"padding: 2px; text-align: center;\">3800</td><td style=\"padding: 2px; text-align: center;\">…</td><td style=\"padding: 2px; text-align: center;\">3815</td></tr></table></td><td style=\"padding: 2px; text-align: center;\"><table style=\"display:inline-table; text-align: center;font-size:12px;width: t;border: 1.5px solid blue;border-top-style: none;border-bottom-style: none;border-radius: 5px;border-spacing: 0px;border-collapse:separate;padding: 2px;margin: 0px auto;\"><tr style=\"padding: 0; margin: 0\"><td style=\"padding: 2px; text-align: center;\">3820</td><td style=\"padding: 2px; text-align: center;\">…</td><td style=\"padding: 2px; text-align: center;\">3835</td></tr></table></td></tr></table></td><td style=\"padding: 2px; text-align: center;\">…</td><td style=\"padding: 2px; text-align: center;\"><table style=\"display:inline-table; text-align: center;font-size:12px;width: u;border: 1.5px solid green;padding: 2px;margin: 0px auto;\"><tr style=\"padding: 0; margin: 0\"><td style=\"padding: 2px; text-align: center;\"><table style=\"display:inline-table; text-align: center;font-size:12px;width: t;border: 1.5px solid blue;border-top-style: none;border-bottom-style: none;border-radius: 5px;border-spacing: 0px;border-collapse:separate;padding: 2px;margin: 0px auto;\"><tr style=\"padding: 0; margin: 0\"><td style=\"padding: 2px; text-align: center;\">4560</td><td style=\"padding: 2px; text-align: center;\">…</td><td style=\"padding: 2px; text-align: center;\">4575</td></tr></table></td><td style=\"padding: 2px; text-align: center;\"><table style=\"display:inline-table; text-align: center;font-size:12px;width: t;border: 1.5px solid blue;border-top-style: none;border-bottom-style: none;border-radius: 5px;border-spacing: 0px;border-collapse:separate;padding: 2px;margin: 0px auto;\"><tr style=\"padding: 0; margin: 0\"><td style=\"padding: 2px; text-align: center;\">4580</td><td style=\"padding: 2px; text-align: center;\">…</td><td style=\"padding: 2px; text-align: center;\">4595</td></tr></table></td><td style=\"padding: 2px; text-align: center;\"><table style=\"display:inline-table; text-align: center;font-size:12px;width: t;border: 1.5px solid blue;border-top-style: none;border-bottom-style: none;border-radius: 5px;border-spacing: 0px;border-collapse:separate;padding: 2px;margin: 0px auto;\"><tr style=\"padding: 0; margin: 0\"><td style=\"padding: 2px; text-align: center;\">4600</td><td style=\"padding: 2px; text-align: center;\">…</td><td style=\"padding: 2px; text-align: center;\">4615</td></tr></table></td></tr>\n",
       "<tr style=\"padding: 0; margin: 0\"><td style=\"padding: 2px; text-align: center;\">︙</td><td style=\"padding: 2px; text-align: center;\">︙</td><td style=\"padding: 2px; text-align: center;\">︙</td></tr>\n",
       "<tr style=\"padding: 0; margin: 0\"><td style=\"padding: 2px; text-align: center;\"><table style=\"display:inline-table; text-align: center;font-size:12px;width: t;border: 1.5px solid blue;border-top-style: none;border-bottom-style: none;border-radius: 5px;border-spacing: 0px;border-collapse:separate;padding: 2px;margin: 0px auto;\"><tr style=\"padding: 0; margin: 0\"><td style=\"padding: 2px; text-align: center;\">4740</td><td style=\"padding: 2px; text-align: center;\">…</td><td style=\"padding: 2px; text-align: center;\">4755</td></tr></table></td><td style=\"padding: 2px; text-align: center;\"><table style=\"display:inline-table; text-align: center;font-size:12px;width: t;border: 1.5px solid blue;border-top-style: none;border-bottom-style: none;border-radius: 5px;border-spacing: 0px;border-collapse:separate;padding: 2px;margin: 0px auto;\"><tr style=\"padding: 0; margin: 0\"><td style=\"padding: 2px; text-align: center;\">4760</td><td style=\"padding: 2px; text-align: center;\">…</td><td style=\"padding: 2px; text-align: center;\">4775</td></tr></table></td><td style=\"padding: 2px; text-align: center;\"><table style=\"display:inline-table; text-align: center;font-size:12px;width: t;border: 1.5px solid blue;border-top-style: none;border-bottom-style: none;border-radius: 5px;border-spacing: 0px;border-collapse:separate;padding: 2px;margin: 0px auto;\"><tr style=\"padding: 0; margin: 0\"><td style=\"padding: 2px; text-align: center;\">4780</td><td style=\"padding: 2px; text-align: center;\">…</td><td style=\"padding: 2px; text-align: center;\">4795</td></tr></table></td></tr></table></td></tr></table>"
      ],
      "text/plain": [
       "<__main__.TableForm>"
      ]
     },
     "execution_count": null,
     "metadata": {},
     "output_type": "execute_result"
    }
   ],
   "source": [
    "TableForm(5 * np.arange(4 * 5 * 4 * 3 * 4).reshape(4, 5, 4, 3, 4), edgeitems=1, border_color=['red', 'green', 'blue'])"
   ]
  },
  {
   "cell_type": "code",
   "execution_count": null,
   "id": "5fe8acf3-ab0e-49b0-bf4c-51c5f40ebb78",
   "metadata": {},
   "outputs": [],
   "source": [
    "import astropy.units as apu"
   ]
  },
  {
   "cell_type": "code",
   "execution_count": null,
   "id": "88237525-1d78-4c6b-b864-fdc505bc3f2d",
   "metadata": {},
   "outputs": [
    {
     "data": {
      "text/html": [
       "<div style=\"font-size:12px\">Quantity (2,) float64</div><table style=\"display:inline-table; text-align: center;font-size:12px;width: a;border: 1.5px solid Gray;border-top-style: none;border-bottom-style: none;border-radius: 5px;border-spacing: 0px;border-collapse:separate;padding: 2px;margin: 0px 0;\"><tr style=\"padding: 0; margin: 0\"><td style=\"padding: 2px; text-align: center;\">1.00</td><td style=\"padding: 2px; text-align: center;\">1.00</td></tr></table>&nbsp;m²"
      ],
      "text/plain": [
       "<__main__.TableForm>"
      ]
     },
     "execution_count": null,
     "metadata": {},
     "output_type": "execute_result"
    }
   ],
   "source": [
    "TableForm(apu.Quantity([1., 1.] , unit=apu.m**2))"
   ]
  },
  {
   "cell_type": "code",
   "execution_count": null,
   "id": "9e92320d-7ce8-48d0-b28b-9ea9be1b3e15",
   "metadata": {},
   "outputs": [
    {
     "data": {
      "text/html": [
       "1.00&nbsp;m²"
      ],
      "text/plain": [
       "<__main__.TableForm>"
      ]
     },
     "execution_count": null,
     "metadata": {},
     "output_type": "execute_result"
    }
   ],
   "source": [
    "TableForm(apu.Quantity(1. , unit=apu.m**2))"
   ]
  },
  {
   "cell_type": "code",
   "execution_count": null,
   "id": "dbd502ff-2ce1-49bb-8ed2-6acd735bf82b",
   "metadata": {},
   "outputs": [],
   "source": [
    "#|export\n",
    "try: TableForm.register(sys.modules['numpy'].ndarray)\n",
    "except KeyError: pass"
   ]
  },
  {
   "cell_type": "code",
   "execution_count": null,
   "id": "e9f3219b-1ce7-4f61-9895-b2abe3739930",
   "metadata": {},
   "outputs": [
    {
     "data": {
      "text/html": [
       "<div style=\"font-size:12px\">MaskedArray (4, 4) float64</div><table style=\"display:inline-table; text-align: center;font-size:12px;width: a;border: 1.5px solid Gray;padding: 2px;margin: 0px 0;\"><tr style=\"padding: 0; margin: 0\"><td style=\"padding: 2px; text-align: center;\">0.01</td><td style=\"padding: 2px; text-align: center;\">--</td><td style=\"padding: 2px; text-align: center;\">--</td><td style=\"padding: 2px; text-align: center;\">--</td></tr>\n",
       "<tr style=\"padding: 0; margin: 0\"><td style=\"padding: 2px; text-align: center;\">0.69</td><td style=\"padding: 2px; text-align: center;\">--</td><td style=\"padding: 2px; text-align: center;\">0.77</td><td style=\"padding: 2px; text-align: center;\">--</td></tr>\n",
       "<tr style=\"padding: 0; margin: 0\"><td style=\"padding: 2px; text-align: center;\">--</td><td style=\"padding: 2px; text-align: center;\">0.17</td><td style=\"padding: 2px; text-align: center;\">0.58</td><td style=\"padding: 2px; text-align: center;\">0.37</td></tr>\n",
       "<tr style=\"padding: 0; margin: 0\"><td style=\"padding: 2px; text-align: center;\">0.36</td><td style=\"padding: 2px; text-align: center;\">--</td><td style=\"padding: 2px; text-align: center;\">--</td><td style=\"padding: 2px; text-align: center;\">--</td></tr></table>"
      ],
      "text/plain": [
       "masked_array(\n",
       "  data=[[0.01307266470596824, --, --, --],\n",
       "        [0.6868612394261047, --, 0.7679974843004657, --],\n",
       "        [--, 0.16543070079287436, 0.583209133229912, 0.366772613357754],\n",
       "        [0.3646132280652141, --, --, --]],\n",
       "  mask=[[False,  True,  True,  True],\n",
       "        [False,  True, False,  True],\n",
       "        [ True, False, False, False],\n",
       "        [False,  True,  True,  True]],\n",
       "  fill_value=1e+20)"
      ]
     },
     "execution_count": null,
     "metadata": {},
     "output_type": "execute_result"
    }
   ],
   "source": [
    "np.ma.array(np.random.rand(4, 4), mask=np.random.randint(2, size=[4, 4]))"
   ]
  },
  {
   "cell_type": "code",
   "execution_count": null,
   "id": "23860ec5-6fcb-42b7-8152-daac8ac6238d",
   "metadata": {},
   "outputs": [
    {
     "data": {
      "text/html": [
       "<div style=\"font-size:12px\">Quantity (2,) float64</div><table style=\"display:inline-table; text-align: center;font-size:12px;width: a;border: 1.5px solid Gray;border-top-style: none;border-bottom-style: none;border-radius: 5px;border-spacing: 0px;border-collapse:separate;padding: 2px;margin: 0px 0;\"><tr style=\"padding: 0; margin: 0\"><td style=\"padding: 2px; text-align: center;\">1.00</td><td style=\"padding: 2px; text-align: center;\">1.00</td></tr></table>&nbsp;m²"
      ],
      "text/latex": [
       "$[1,~1] \\; \\mathrm{m^{2}}$"
      ],
      "text/plain": [
       "<Quantity [1., 1.] m2>"
      ]
     },
     "execution_count": null,
     "metadata": {},
     "output_type": "execute_result"
    }
   ],
   "source": [
    "apu.Quantity([1., 1.] , unit=apu.m**2)"
   ]
  },
  {
   "cell_type": "code",
   "execution_count": null,
   "id": "eb7d67b9",
   "metadata": {},
   "outputs": [],
   "source": [
    "#| hide\n",
    "import nbdev; nbdev.nbdev_export()"
   ]
  },
  {
   "cell_type": "code",
   "execution_count": null,
   "id": "1f03892c-4acd-4cde-9dd5-3b62bdbc39d5",
   "metadata": {},
   "outputs": [],
   "source": []
  }
 ],
 "metadata": {
  "kernelspec": {
   "display_name": "conda-3.9-srt",
   "language": "python",
   "name": "conda-3.9-srt"
  }
 },
 "nbformat": 4,
 "nbformat_minor": 5
}

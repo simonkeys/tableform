{
 "cells": [
  {
   "cell_type": "code",
   "execution_count": null,
   "id": "78caf150-1a86-476c-b72b-1bd3021590c4",
   "metadata": {},
   "outputs": [],
   "source": [
    "#| default_exp core"
   ]
  },
  {
   "cell_type": "markdown",
   "id": "22d06c13-5b39-4f0e-a119-02c5f2b51e6d",
   "metadata": {},
   "source": [
    "## tableform\n",
    "> `_repr_html_` for nested data"
   ]
  },
  {
   "cell_type": "code",
   "execution_count": null,
   "id": "befe0b4d-8d38-4b7e-b73c-356bb513bab5",
   "metadata": {},
   "outputs": [],
   "source": [
    "#|export\n",
    "import warnings\n",
    "import sys\n",
    "from numbers import Integral"
   ]
  },
  {
   "cell_type": "code",
   "execution_count": null,
   "id": "10c597f8-e214-49da-a177-ef3b0da8198f",
   "metadata": {},
   "outputs": [],
   "source": [
    "#|export\n",
    "def _get_or_last(l, i):\n",
    "    try: return l[i]\n",
    "    except:\n",
    "        try: return l[-1]\n",
    "        except: return l"
   ]
  },
  {
   "cell_type": "code",
   "execution_count": null,
   "id": "5d24ceae-35b3-434a-a92d-de239045d1ae",
   "metadata": {},
   "outputs": [],
   "source": [
    "#|export\n",
    "def _is_astropy_quantity(a):\n",
    "    return str(a.__class__) == \"<class 'astropy.units.quantity.Quantity'>\""
   ]
  },
  {
   "cell_type": "code",
   "execution_count": null,
   "id": "0e166900-f80f-43be-9a91-762acdb4522b",
   "metadata": {},
   "outputs": [],
   "source": [
    "#|export\n",
    "def _is_pint_quantity(a):\n",
    "    return str(a.__class__) == \"<class 'pint.Quantity'>\""
   ]
  },
  {
   "cell_type": "code",
   "execution_count": null,
   "id": "7af317db-c9d7-4e7f-8067-1ac52ff393d6",
   "metadata": {},
   "outputs": [],
   "source": [
    "#|export\n",
    "def _package(obj): return obj.__class__.__module__.split('.')[0].replace('__main__', '')"
   ]
  },
  {
   "cell_type": "code",
   "execution_count": null,
   "id": "75a54b51-4c68-4d1d-8896-914818b7d6c1",
   "metadata": {},
   "outputs": [],
   "source": [
    "#|export\n",
    "bracket_class = \"table-form-bracketed\"\n",
    "boxed_class = \"table-form-boxed\"\n",
    "empty_string = ''"
   ]
  },
  {
   "cell_type": "code",
   "execution_count": null,
   "id": "d46ac628-58d1-48f7-a15a-13f9334b5cd5",
   "metadata": {},
   "outputs": [],
   "source": [
    "#|export\n",
    "class TableForm:\n",
    "    def __init__(self, a=None, fmt='.2f', border_color=\"steelblue\", width=\"auto\", edgeitems='auto', font_size=12, padding=3):\n",
    "        self.a = a\n",
    "        self.fmt = fmt\n",
    "        if border_color == 'auto':\n",
    "            border_color = ['#1f77b4', '#ff7f0e', '#2ca02c', '#d62728', '#9467bd', '#8c564b', '#e377c2', '#7f7f7f', '#bcbd22', '#17becf']\n",
    "        elif isinstance(border_color, str):\n",
    "            border_color = [border_color]\n",
    "        self.border_color = border_color\n",
    "        self.width = width\n",
    "        self.font_size = font_size\n",
    "        self.padding = padding\n",
    "        self.edgeitems = edgeitems\n",
    "        self.units = None\n",
    "\n",
    "    def table_tag(self, content, depth, brackets=False, as_div=False):\n",
    "        if as_div:\n",
    "            return (\n",
    "                (f'<div style=\"font-size:{self.font_size}px\">{self.table_caption()}</div>' if depth == 0 else '') + \n",
    "                f'<div style=\"' +\n",
    "                self.font_style() +\n",
    "                '\">' +\n",
    "                content +\n",
    "                '</div>'\n",
    "            )\n",
    "        return (\n",
    "            (f'<div style=\"font-size:{self.font_size}px\">{self.table_caption()}</div>' if depth == 0 else '') + \n",
    "            f'<table data-quarto-disable-processing=\"true\" class=\"table-form {bracket_class if brackets else boxed_class}\" style=\"display:inline-table; text-align:center;' +\n",
    "            self.font_style() +\n",
    "            self.table_width(depth) +\n",
    "            self.table_border(depth) +\n",
    "            (self.table_brackets() if brackets else \"\") +\n",
    "            self.table_padding() +\n",
    "            self.table_margin(depth) +\n",
    "            '\">' +\n",
    "            content +\n",
    "            '</table>'\n",
    "        )\n",
    "\n",
    "    def table_caption(self):\n",
    "        caption = f'{_package(self.a)} {self.a.__class__.__name__}'\n",
    "        try: caption += f' {tuple(self.a.shape)} {self.a.dtype}'\n",
    "        except: pass\n",
    "        if self.units is not None: caption += f' {self.units}'\n",
    "        return caption\n",
    "            \n",
    "    def table_padding(self):\n",
    "        return f'padding: {self.padding}px;'\n",
    "        \n",
    "    def font_style(self):\n",
    "        return f'font-size:{self.font_size}px;'\n",
    "        \n",
    "    def table_width(self, depth):\n",
    "        return f'width: {_get_or_last(self.width, depth)};'\n",
    "\n",
    "    def table_border(self, depth):\n",
    "        return f'border: 1.5px solid {self.border_color[depth % len(self.border_color)]};'\n",
    "\n",
    "    def table_brackets(self):\n",
    "        return (\n",
    "            \"border-top-style: none;\" +  \n",
    "            \"border-bottom-style: none;\" +\n",
    "            \"border-radius: 5px;\" +\n",
    "            \"border-spacing: 0px;\" +\n",
    "            \"border-collapse:separate;\" \n",
    "        )\n",
    "\n",
    "    def table_margin(self, depth):\n",
    "        return f'margin: 0px {\"0\" if depth == 0 else \"auto\"};'\n",
    "    \n",
    "    def caption_tag(self, content):\n",
    "        return f'<caption style=\"white-space: nowrap\">{content}</caption>'\n",
    "    \n",
    "    def td_tag(self, content):\n",
    "        return f'<td style=\"padding: {self.padding}px; text-align: center; white-space: nowrap;\">{content}</td>'\n",
    "    \n",
    "    def tr_tag(self, content):\n",
    "        return f'<tr style=\"padding: 0; margin: 0\">{content}</tr>'\n",
    "    \n",
    "    def abbreviate(self, a, symbol='…'):\n",
    "        try: # For some reason numpy masked arrays throw error here, otherwise wouldn't need try block\n",
    "            if a[0] in ['…', '︙']: return a\n",
    "        except ValueError: pass\n",
    "        l = self._edgeitems\n",
    "        if l and len(a) > 2 * l + 1:\n",
    "            head = a[:l]\n",
    "            tail = a[-l:]\n",
    "            try: \n",
    "                if len(a[l - 1]) <= 2 * l + 1:\n",
    "                    ellipses = [symbol] * len(a[l - 1])\n",
    "                else:\n",
    "                    ellipses = [symbol] * l + [\"⋱\"] + [symbol] * l\n",
    "            except: ellipses = symbol\n",
    "            return [*head, ellipses, *tail]\n",
    "        return a\n",
    "    \n",
    "    def make_entry(self, d, depth=0):\n",
    "        with warnings.catch_warnings():\n",
    "            warnings.simplefilter('ignore')\n",
    "            try:\n",
    "                if d == '⋱': return d\n",
    "                if set(d) <= {'…', '⋱'}: return '…'\n",
    "            except: pass\n",
    "            try: return self.make_table(d, depth+1)\n",
    "            except:\n",
    "                if isinstance(d, Integral): return d\n",
    "                try: return format(d, self.fmt)\n",
    "                except: return d\n",
    "    \n",
    "    def make_row(self, a, depth=0):\n",
    "        if isinstance(a, str): raise TypeError\n",
    "        a = self.abbreviate(a, '…')\n",
    "        return self.tr_tag(''.join(self.td_tag(self.make_entry(entry, depth)) for entry in a))\n",
    "    \n",
    "    def make_rows(self, a, depth=0):\n",
    "        a = self.abbreviate(a, \"︙\")\n",
    "        return \"\\n\".join(self.make_row(row, depth) for row in a)\n",
    "    \n",
    "    def make_table(self, a, depth=0):\n",
    "        if isinstance(a, str): raise TypeError\n",
    "        if hasattr(a, 'ndim') and a.ndim == 0: return self.table_tag(self.make_entry(a.item(), depth), depth, brackets=False, as_div=True) \n",
    "        try:\n",
    "            return self.table_tag(self.make_rows(a, depth), depth, brackets=False)\n",
    "        except:\n",
    "            return self.table_tag(self.make_row(a, depth), depth, brackets=True) \n",
    "\n",
    "    def resolve_edgeitems(self):\n",
    "        if self.edgeitems == 'auto':\n",
    "            try:\n",
    "                if self.a.ndim > 3: self._edgeitems = 1\n",
    "                elif self.a.ndim == 3: self._edgeitems = 2\n",
    "                else: self._edgeitems = 3\n",
    "            except AttributeError: self._edgeitems = 3\n",
    "        else: self._edgeitems = self.edgeitems\n",
    "            \n",
    "    def _repr_html_(self):\n",
    "        # if hasattr(self.a, 'ndim') and self.a.ndim == 0: return self.a._repr_html_()\n",
    "        self.resolve_edgeitems()\n",
    "        value = self.a\n",
    "        if _is_pint_quantity(self.a):\n",
    "            self.units = f'{value.units:~P}'\n",
    "            value = value.magnitude\n",
    "        if _is_astropy_quantity(self.a): \n",
    "            self.units = value.unit.to_string('unicode')\n",
    "            value = value.value\n",
    "            # return f'<table><tr><td>{self.make_entry(mag, depth=-1)}</td><td>{units}</td></tr></table>'\n",
    "        return self.make_entry(value, depth=-1)\n",
    "\n",
    "    @classmethod\n",
    "    def register(cls, *types):\n",
    "        \"\"\"Register `types` in IPython to display using `TableForm`.\"\"\"\n",
    "        try: \n",
    "            formatter = get_ipython().display_formatter.formatters['text/html']\n",
    "            for _type in types: formatter.for_type(_type, lambda o: cls(o)._repr_html_())\n",
    "        except NameError: pass"
   ]
  },
  {
   "cell_type": "markdown",
   "id": "8b9f9edd-9bfa-4e60-acac-5a80e444c0d2",
   "metadata": {},
   "source": [
    "#### lists and tuples"
   ]
  },
  {
   "cell_type": "code",
   "execution_count": null,
   "id": "ab3a2635-9b0f-4956-876a-f1358d113362",
   "metadata": {},
   "outputs": [
    {
     "data": {
      "text/html": [
       "<div style=\"font-size:12px\">builtins list</div><table data-quarto-disable-processing=\"true\" class=\"table-form table-form-bracketed\" style=\"display:inline-table; text-align:center;font-size:12px;width: a;border: 1.5px solid steelblue;border-top-style: none;border-bottom-style: none;border-radius: 5px;border-spacing: 0px;border-collapse:separate;padding: 3px;margin: 0px 0;\"><tr style=\"padding: 0; margin: 0\"><td style=\"padding: 3px; text-align: center; white-space: nowrap;\">1</td><td style=\"padding: 3px; text-align: center; white-space: nowrap;\">2</td></tr></table>"
      ],
      "text/plain": [
       "<__main__.TableForm>"
      ]
     },
     "execution_count": null,
     "metadata": {},
     "output_type": "execute_result"
    }
   ],
   "source": [
    "TableForm([1, 2])"
   ]
  },
  {
   "cell_type": "code",
   "execution_count": null,
   "id": "cfaf4731-8eeb-471f-9d33-9b50ee25ff4f",
   "metadata": {},
   "outputs": [
    {
     "data": {
      "text/html": [
       "<div style=\"font-size:12px\">builtins list</div><table data-quarto-disable-processing=\"true\" class=\"table-form table-form-boxed\" style=\"display:inline-table; text-align:center;font-size:12px;width: a;border: 1.5px solid steelblue;padding: 3px;margin: 0px 0;\"><tr style=\"padding: 0; margin: 0\"><td style=\"padding: 3px; text-align: center; white-space: nowrap;\">1</td><td style=\"padding: 3px; text-align: center; white-space: nowrap;\">2</td></tr></table>"
      ],
      "text/plain": [
       "<__main__.TableForm>"
      ]
     },
     "execution_count": null,
     "metadata": {},
     "output_type": "execute_result"
    }
   ],
   "source": [
    "TableForm([[1, 2]])"
   ]
  },
  {
   "cell_type": "code",
   "execution_count": null,
   "id": "016250bb-715e-4853-9a5c-9a6e86043963",
   "metadata": {},
   "outputs": [
    {
     "data": {
      "text/html": [
       "<div style=\"font-size:12px\">builtins list</div><table data-quarto-disable-processing=\"true\" class=\"table-form table-form-boxed\" style=\"display:inline-table; text-align:center;font-size:12px;width: a;border: 1.5px solid steelblue;padding: 3px;margin: 0px 0;\"><tr style=\"padding: 0; margin: 0\"><td style=\"padding: 3px; text-align: center; white-space: nowrap;\"><table data-quarto-disable-processing=\"true\" class=\"table-form table-form-bracketed\" style=\"display:inline-table; text-align:center;font-size:12px;width: u;border: 1.5px solid steelblue;border-top-style: none;border-bottom-style: none;border-radius: 5px;border-spacing: 0px;border-collapse:separate;padding: 3px;margin: 0px auto;\"><tr style=\"padding: 0; margin: 0\"><td style=\"padding: 3px; text-align: center; white-space: nowrap;\">1</td><td style=\"padding: 3px; text-align: center; white-space: nowrap;\">2</td></tr></table></td></tr></table>"
      ],
      "text/plain": [
       "<__main__.TableForm>"
      ]
     },
     "execution_count": null,
     "metadata": {},
     "output_type": "execute_result"
    }
   ],
   "source": [
    "TableForm([[[1, 2]]])"
   ]
  },
  {
   "cell_type": "code",
   "execution_count": null,
   "id": "4ced6836-63fd-49af-b401-1c0c0b2ea58b",
   "metadata": {},
   "outputs": [
    {
     "data": {
      "text/html": [
       "<div style=\"font-size:12px\">builtins list</div><table data-quarto-disable-processing=\"true\" class=\"table-form table-form-bracketed\" style=\"display:inline-table; text-align:center;font-size:12px;width: a;border: 1.5px solid steelblue;border-top-style: none;border-bottom-style: none;border-radius: 5px;border-spacing: 0px;border-collapse:separate;padding: 3px;margin: 0px 0;\"><tr style=\"padding: 0; margin: 0\"><td style=\"padding: 3px; text-align: center; white-space: nowrap;\">1</td><td style=\"padding: 3px; text-align: center; white-space: nowrap;\"><table data-quarto-disable-processing=\"true\" class=\"table-form table-form-bracketed\" style=\"display:inline-table; text-align:center;font-size:12px;width: u;border: 1.5px solid steelblue;border-top-style: none;border-bottom-style: none;border-radius: 5px;border-spacing: 0px;border-collapse:separate;padding: 3px;margin: 0px auto;\"><tr style=\"padding: 0; margin: 0\"><td style=\"padding: 3px; text-align: center; white-space: nowrap;\">1</td><td style=\"padding: 3px; text-align: center; white-space: nowrap;\"><table data-quarto-disable-processing=\"true\" class=\"table-form table-form-boxed\" style=\"display:inline-table; text-align:center;font-size:12px;width: t;border: 1.5px solid steelblue;padding: 3px;margin: 0px auto;\"><tr style=\"padding: 0; margin: 0\"><td style=\"padding: 3px; text-align: center; white-space: nowrap;\">1</td><td style=\"padding: 3px; text-align: center; white-space: nowrap;\">2</td><td style=\"padding: 3px; text-align: center; white-space: nowrap;\"><table data-quarto-disable-processing=\"true\" class=\"table-form table-form-bracketed\" style=\"display:inline-table; text-align:center;font-size:12px;width: o;border: 1.5px solid steelblue;border-top-style: none;border-bottom-style: none;border-radius: 5px;border-spacing: 0px;border-collapse:separate;padding: 3px;margin: 0px auto;\"><tr style=\"padding: 0; margin: 0\"><td style=\"padding: 3px; text-align: center; white-space: nowrap;\"><table data-quarto-disable-processing=\"true\" class=\"table-form table-form-bracketed\" style=\"display:inline-table; text-align:center;font-size:12px;width: o;border: 1.5px solid steelblue;border-top-style: none;border-bottom-style: none;border-radius: 5px;border-spacing: 0px;border-collapse:separate;padding: 3px;margin: 0px auto;\"><tr style=\"padding: 0; margin: 0\"><td style=\"padding: 3px; text-align: center; white-space: nowrap;\">1</td></tr></table></td><td style=\"padding: 3px; text-align: center; white-space: nowrap;\">2</td></tr></table></td></tr></table></td></tr></table></td></tr></table>"
      ],
      "text/plain": [
       "<__main__.TableForm>"
      ]
     },
     "execution_count": null,
     "metadata": {},
     "output_type": "execute_result"
    }
   ],
   "source": [
    "TableForm([1, [1, [[1, 2, [[1], 2]]]]])"
   ]
  },
  {
   "cell_type": "code",
   "execution_count": null,
   "id": "24afe8fb-2d68-4122-85ed-becd2843b825",
   "metadata": {},
   "outputs": [
    {
     "data": {
      "text/html": [
       "<div style=\"font-size:12px\">builtins tuple</div><table data-quarto-disable-processing=\"true\" class=\"table-form table-form-bracketed\" style=\"display:inline-table; text-align:center;font-size:12px;width: a;border: 1.5px solid steelblue;border-top-style: none;border-bottom-style: none;border-radius: 5px;border-spacing: 0px;border-collapse:separate;padding: 3px;margin: 0px 0;\"><tr style=\"padding: 0; margin: 0\"><td style=\"padding: 3px; text-align: center; white-space: nowrap;\">1</td><td style=\"padding: 3px; text-align: center; white-space: nowrap;\"><table data-quarto-disable-processing=\"true\" class=\"table-form table-form-bracketed\" style=\"display:inline-table; text-align:center;font-size:12px;width: u;border: 1.5px solid steelblue;border-top-style: none;border-bottom-style: none;border-radius: 5px;border-spacing: 0px;border-collapse:separate;padding: 3px;margin: 0px auto;\"><tr style=\"padding: 0; margin: 0\"><td style=\"padding: 3px; text-align: center; white-space: nowrap;\">1</td><td style=\"padding: 3px; text-align: center; white-space: nowrap;\"><table data-quarto-disable-processing=\"true\" class=\"table-form table-form-boxed\" style=\"display:inline-table; text-align:center;font-size:12px;width: t;border: 1.5px solid steelblue;padding: 3px;margin: 0px auto;\"><tr style=\"padding: 0; margin: 0\"><td style=\"padding: 3px; text-align: center; white-space: nowrap;\">1</td><td style=\"padding: 3px; text-align: center; white-space: nowrap;\">2</td><td style=\"padding: 3px; text-align: center; white-space: nowrap;\"><table data-quarto-disable-processing=\"true\" class=\"table-form table-form-bracketed\" style=\"display:inline-table; text-align:center;font-size:12px;width: o;border: 1.5px solid steelblue;border-top-style: none;border-bottom-style: none;border-radius: 5px;border-spacing: 0px;border-collapse:separate;padding: 3px;margin: 0px auto;\"><tr style=\"padding: 0; margin: 0\"><td style=\"padding: 3px; text-align: center; white-space: nowrap;\"><table data-quarto-disable-processing=\"true\" class=\"table-form table-form-bracketed\" style=\"display:inline-table; text-align:center;font-size:12px;width: o;border: 1.5px solid steelblue;border-top-style: none;border-bottom-style: none;border-radius: 5px;border-spacing: 0px;border-collapse:separate;padding: 3px;margin: 0px auto;\"><tr style=\"padding: 0; margin: 0\"><td style=\"padding: 3px; text-align: center; white-space: nowrap;\">1</td></tr></table></td><td style=\"padding: 3px; text-align: center; white-space: nowrap;\">2</td></tr></table></td></tr></table></td></tr></table></td></tr></table>"
      ],
      "text/plain": [
       "<__main__.TableForm>"
      ]
     },
     "execution_count": null,
     "metadata": {},
     "output_type": "execute_result"
    }
   ],
   "source": [
    "TableForm((1, [1, [(1, 2, [[1], 2])]]))"
   ]
  },
  {
   "cell_type": "markdown",
   "id": "17e79d11-887b-4b4b-9346-896850dde5e5",
   "metadata": {},
   "source": [
    "#### numpy arrays"
   ]
  },
  {
   "cell_type": "code",
   "execution_count": null,
   "id": "4e1d6a92-58de-49b1-b9a9-1b04e89b63ca",
   "metadata": {},
   "outputs": [],
   "source": [
    "import numpy as np"
   ]
  },
  {
   "cell_type": "code",
   "execution_count": null,
   "id": "02e0ebbf-e748-43f7-882c-f36681bf5504",
   "metadata": {},
   "outputs": [
    {
     "data": {
      "text/html": [
       "<div style=\"font-size:12px\">numpy ndarray (2,) int64</div><table data-quarto-disable-processing=\"true\" class=\"table-form table-form-bracketed\" style=\"display:inline-table; text-align:center;font-size:12px;width: a;border: 1.5px solid steelblue;border-top-style: none;border-bottom-style: none;border-radius: 5px;border-spacing: 0px;border-collapse:separate;padding: 3px;margin: 0px 0;\"><tr style=\"padding: 0; margin: 0\"><td style=\"padding: 3px; text-align: center; white-space: nowrap;\">0</td><td style=\"padding: 3px; text-align: center; white-space: nowrap;\">1</td></tr></table>"
      ],
      "text/plain": [
       "<__main__.TableForm>"
      ]
     },
     "execution_count": null,
     "metadata": {},
     "output_type": "execute_result"
    }
   ],
   "source": [
    "TableForm(np.arange(2))"
   ]
  },
  {
   "cell_type": "code",
   "execution_count": null,
   "id": "29446873-25cf-4ea5-9673-5ab24ad6944c",
   "metadata": {},
   "outputs": [
    {
     "data": {
      "text/html": [
       "<div style=\"font-size:12px\">builtins list</div><table data-quarto-disable-processing=\"true\" class=\"table-form table-form-bracketed\" style=\"display:inline-table; text-align:center;font-size:12px;width: a;border: 1.5px solid #1f77b4;border-top-style: none;border-bottom-style: none;border-radius: 5px;border-spacing: 0px;border-collapse:separate;padding: 10px;margin: 0px 0;\"><tr style=\"padding: 0; margin: 0\"><td style=\"padding: 10px; text-align: center; white-space: nowrap;\">1</td><td style=\"padding: 10px; text-align: center; white-space: nowrap;\"><table data-quarto-disable-processing=\"true\" class=\"table-form table-form-bracketed\" style=\"display:inline-table; text-align:center;font-size:12px;width: u;border: 1.5px solid #ff7f0e;border-top-style: none;border-bottom-style: none;border-radius: 5px;border-spacing: 0px;border-collapse:separate;padding: 10px;margin: 0px auto;\"><tr style=\"padding: 0; margin: 0\"><td style=\"padding: 10px; text-align: center; white-space: nowrap;\">1</td><td style=\"padding: 10px; text-align: center; white-space: nowrap;\"><table data-quarto-disable-processing=\"true\" class=\"table-form table-form-boxed\" style=\"display:inline-table; text-align:center;font-size:12px;width: t;border: 1.5px solid #2ca02c;padding: 10px;margin: 0px auto;\"><tr style=\"padding: 0; margin: 0\"><td style=\"padding: 10px; text-align: center; white-space: nowrap;\">1</td><td style=\"padding: 10px; text-align: center; white-space: nowrap;\">2</td><td style=\"padding: 10px; text-align: center; white-space: nowrap;\"><table data-quarto-disable-processing=\"true\" class=\"table-form table-form-bracketed\" style=\"display:inline-table; text-align:center;font-size:12px;width: o;border: 1.5px solid #d62728;border-top-style: none;border-bottom-style: none;border-radius: 5px;border-spacing: 0px;border-collapse:separate;padding: 10px;margin: 0px auto;\"><tr style=\"padding: 0; margin: 0\"><td style=\"padding: 10px; text-align: center; white-space: nowrap;\"><table data-quarto-disable-processing=\"true\" class=\"table-form table-form-bracketed\" style=\"display:inline-table; text-align:center;font-size:12px;width: o;border: 1.5px solid #9467bd;border-top-style: none;border-bottom-style: none;border-radius: 5px;border-spacing: 0px;border-collapse:separate;padding: 10px;margin: 0px auto;\"><tr style=\"padding: 0; margin: 0\"><td style=\"padding: 10px; text-align: center; white-space: nowrap;\">1</td></tr></table></td><td style=\"padding: 10px; text-align: center; white-space: nowrap;\">2</td></tr></table></td></tr></table></td></tr></table></td></tr></table>"
      ],
      "text/plain": [
       "<__main__.TableForm>"
      ]
     },
     "execution_count": null,
     "metadata": {},
     "output_type": "execute_result"
    }
   ],
   "source": [
    "TableForm([1, [1, [[1, 2, [[1], 2]]]]], border_color='auto', padding=10)"
   ]
  },
  {
   "cell_type": "code",
   "execution_count": null,
   "id": "a816ee99-42ed-4195-827a-a41b6f980efa",
   "metadata": {},
   "outputs": [
    {
     "data": {
      "text/html": [
       "<div style=\"font-size:12px\">numpy ndarray (4, 5, 4, 3, 4) int64</div><table data-quarto-disable-processing=\"true\" class=\"table-form table-form-boxed\" style=\"display:inline-table; text-align:center;font-size:12px;width: a;border: 1.5px solid red;padding: 3px;margin: 0px 0;\"><tr style=\"padding: 0; margin: 0\"><td style=\"padding: 3px; text-align: center; white-space: nowrap;\"><table data-quarto-disable-processing=\"true\" class=\"table-form table-form-boxed\" style=\"display:inline-table; text-align:center;font-size:12px;width: u;border: 1.5px solid green;padding: 3px;margin: 0px auto;\"><tr style=\"padding: 0; margin: 0\"><td style=\"padding: 3px; text-align: center; white-space: nowrap;\"><table data-quarto-disable-processing=\"true\" class=\"table-form table-form-bracketed\" style=\"display:inline-table; text-align:center;font-size:12px;width: t;border: 1.5px solid blue;border-top-style: none;border-bottom-style: none;border-radius: 5px;border-spacing: 0px;border-collapse:separate;padding: 3px;margin: 0px auto;\"><tr style=\"padding: 0; margin: 0\"><td style=\"padding: 3px; text-align: center; white-space: nowrap;\">0</td><td style=\"padding: 3px; text-align: center; white-space: nowrap;\">…</td><td style=\"padding: 3px; text-align: center; white-space: nowrap;\">15</td></tr></table></td><td style=\"padding: 3px; text-align: center; white-space: nowrap;\"><table data-quarto-disable-processing=\"true\" class=\"table-form table-form-bracketed\" style=\"display:inline-table; text-align:center;font-size:12px;width: t;border: 1.5px solid blue;border-top-style: none;border-bottom-style: none;border-radius: 5px;border-spacing: 0px;border-collapse:separate;padding: 3px;margin: 0px auto;\"><tr style=\"padding: 0; margin: 0\"><td style=\"padding: 3px; text-align: center; white-space: nowrap;\">20</td><td style=\"padding: 3px; text-align: center; white-space: nowrap;\">…</td><td style=\"padding: 3px; text-align: center; white-space: nowrap;\">35</td></tr></table></td><td style=\"padding: 3px; text-align: center; white-space: nowrap;\"><table data-quarto-disable-processing=\"true\" class=\"table-form table-form-bracketed\" style=\"display:inline-table; text-align:center;font-size:12px;width: t;border: 1.5px solid blue;border-top-style: none;border-bottom-style: none;border-radius: 5px;border-spacing: 0px;border-collapse:separate;padding: 3px;margin: 0px auto;\"><tr style=\"padding: 0; margin: 0\"><td style=\"padding: 3px; text-align: center; white-space: nowrap;\">40</td><td style=\"padding: 3px; text-align: center; white-space: nowrap;\">…</td><td style=\"padding: 3px; text-align: center; white-space: nowrap;\">55</td></tr></table></td></tr>\n",
       "<tr style=\"padding: 0; margin: 0\"><td style=\"padding: 3px; text-align: center; white-space: nowrap;\">︙</td><td style=\"padding: 3px; text-align: center; white-space: nowrap;\">︙</td><td style=\"padding: 3px; text-align: center; white-space: nowrap;\">︙</td></tr>\n",
       "<tr style=\"padding: 0; margin: 0\"><td style=\"padding: 3px; text-align: center; white-space: nowrap;\"><table data-quarto-disable-processing=\"true\" class=\"table-form table-form-bracketed\" style=\"display:inline-table; text-align:center;font-size:12px;width: t;border: 1.5px solid blue;border-top-style: none;border-bottom-style: none;border-radius: 5px;border-spacing: 0px;border-collapse:separate;padding: 3px;margin: 0px auto;\"><tr style=\"padding: 0; margin: 0\"><td style=\"padding: 3px; text-align: center; white-space: nowrap;\">180</td><td style=\"padding: 3px; text-align: center; white-space: nowrap;\">…</td><td style=\"padding: 3px; text-align: center; white-space: nowrap;\">195</td></tr></table></td><td style=\"padding: 3px; text-align: center; white-space: nowrap;\"><table data-quarto-disable-processing=\"true\" class=\"table-form table-form-bracketed\" style=\"display:inline-table; text-align:center;font-size:12px;width: t;border: 1.5px solid blue;border-top-style: none;border-bottom-style: none;border-radius: 5px;border-spacing: 0px;border-collapse:separate;padding: 3px;margin: 0px auto;\"><tr style=\"padding: 0; margin: 0\"><td style=\"padding: 3px; text-align: center; white-space: nowrap;\">200</td><td style=\"padding: 3px; text-align: center; white-space: nowrap;\">…</td><td style=\"padding: 3px; text-align: center; white-space: nowrap;\">215</td></tr></table></td><td style=\"padding: 3px; text-align: center; white-space: nowrap;\"><table data-quarto-disable-processing=\"true\" class=\"table-form table-form-bracketed\" style=\"display:inline-table; text-align:center;font-size:12px;width: t;border: 1.5px solid blue;border-top-style: none;border-bottom-style: none;border-radius: 5px;border-spacing: 0px;border-collapse:separate;padding: 3px;margin: 0px auto;\"><tr style=\"padding: 0; margin: 0\"><td style=\"padding: 3px; text-align: center; white-space: nowrap;\">220</td><td style=\"padding: 3px; text-align: center; white-space: nowrap;\">…</td><td style=\"padding: 3px; text-align: center; white-space: nowrap;\">235</td></tr></table></td></tr></table></td><td style=\"padding: 3px; text-align: center; white-space: nowrap;\">…</td><td style=\"padding: 3px; text-align: center; white-space: nowrap;\"><table data-quarto-disable-processing=\"true\" class=\"table-form table-form-boxed\" style=\"display:inline-table; text-align:center;font-size:12px;width: u;border: 1.5px solid green;padding: 3px;margin: 0px auto;\"><tr style=\"padding: 0; margin: 0\"><td style=\"padding: 3px; text-align: center; white-space: nowrap;\"><table data-quarto-disable-processing=\"true\" class=\"table-form table-form-bracketed\" style=\"display:inline-table; text-align:center;font-size:12px;width: t;border: 1.5px solid blue;border-top-style: none;border-bottom-style: none;border-radius: 5px;border-spacing: 0px;border-collapse:separate;padding: 3px;margin: 0px auto;\"><tr style=\"padding: 0; margin: 0\"><td style=\"padding: 3px; text-align: center; white-space: nowrap;\">960</td><td style=\"padding: 3px; text-align: center; white-space: nowrap;\">…</td><td style=\"padding: 3px; text-align: center; white-space: nowrap;\">975</td></tr></table></td><td style=\"padding: 3px; text-align: center; white-space: nowrap;\"><table data-quarto-disable-processing=\"true\" class=\"table-form table-form-bracketed\" style=\"display:inline-table; text-align:center;font-size:12px;width: t;border: 1.5px solid blue;border-top-style: none;border-bottom-style: none;border-radius: 5px;border-spacing: 0px;border-collapse:separate;padding: 3px;margin: 0px auto;\"><tr style=\"padding: 0; margin: 0\"><td style=\"padding: 3px; text-align: center; white-space: nowrap;\">980</td><td style=\"padding: 3px; text-align: center; white-space: nowrap;\">…</td><td style=\"padding: 3px; text-align: center; white-space: nowrap;\">995</td></tr></table></td><td style=\"padding: 3px; text-align: center; white-space: nowrap;\"><table data-quarto-disable-processing=\"true\" class=\"table-form table-form-bracketed\" style=\"display:inline-table; text-align:center;font-size:12px;width: t;border: 1.5px solid blue;border-top-style: none;border-bottom-style: none;border-radius: 5px;border-spacing: 0px;border-collapse:separate;padding: 3px;margin: 0px auto;\"><tr style=\"padding: 0; margin: 0\"><td style=\"padding: 3px; text-align: center; white-space: nowrap;\">1000</td><td style=\"padding: 3px; text-align: center; white-space: nowrap;\">…</td><td style=\"padding: 3px; text-align: center; white-space: nowrap;\">1015</td></tr></table></td></tr>\n",
       "<tr style=\"padding: 0; margin: 0\"><td style=\"padding: 3px; text-align: center; white-space: nowrap;\">︙</td><td style=\"padding: 3px; text-align: center; white-space: nowrap;\">︙</td><td style=\"padding: 3px; text-align: center; white-space: nowrap;\">︙</td></tr>\n",
       "<tr style=\"padding: 0; margin: 0\"><td style=\"padding: 3px; text-align: center; white-space: nowrap;\"><table data-quarto-disable-processing=\"true\" class=\"table-form table-form-bracketed\" style=\"display:inline-table; text-align:center;font-size:12px;width: t;border: 1.5px solid blue;border-top-style: none;border-bottom-style: none;border-radius: 5px;border-spacing: 0px;border-collapse:separate;padding: 3px;margin: 0px auto;\"><tr style=\"padding: 0; margin: 0\"><td style=\"padding: 3px; text-align: center; white-space: nowrap;\">1140</td><td style=\"padding: 3px; text-align: center; white-space: nowrap;\">…</td><td style=\"padding: 3px; text-align: center; white-space: nowrap;\">1155</td></tr></table></td><td style=\"padding: 3px; text-align: center; white-space: nowrap;\"><table data-quarto-disable-processing=\"true\" class=\"table-form table-form-bracketed\" style=\"display:inline-table; text-align:center;font-size:12px;width: t;border: 1.5px solid blue;border-top-style: none;border-bottom-style: none;border-radius: 5px;border-spacing: 0px;border-collapse:separate;padding: 3px;margin: 0px auto;\"><tr style=\"padding: 0; margin: 0\"><td style=\"padding: 3px; text-align: center; white-space: nowrap;\">1160</td><td style=\"padding: 3px; text-align: center; white-space: nowrap;\">…</td><td style=\"padding: 3px; text-align: center; white-space: nowrap;\">1175</td></tr></table></td><td style=\"padding: 3px; text-align: center; white-space: nowrap;\"><table data-quarto-disable-processing=\"true\" class=\"table-form table-form-bracketed\" style=\"display:inline-table; text-align:center;font-size:12px;width: t;border: 1.5px solid blue;border-top-style: none;border-bottom-style: none;border-radius: 5px;border-spacing: 0px;border-collapse:separate;padding: 3px;margin: 0px auto;\"><tr style=\"padding: 0; margin: 0\"><td style=\"padding: 3px; text-align: center; white-space: nowrap;\">1180</td><td style=\"padding: 3px; text-align: center; white-space: nowrap;\">…</td><td style=\"padding: 3px; text-align: center; white-space: nowrap;\">1195</td></tr></table></td></tr></table></td></tr>\n",
       "<tr style=\"padding: 0; margin: 0\"><td style=\"padding: 3px; text-align: center; white-space: nowrap;\">︙</td><td style=\"padding: 3px; text-align: center; white-space: nowrap;\">⋱</td><td style=\"padding: 3px; text-align: center; white-space: nowrap;\">︙</td></tr>\n",
       "<tr style=\"padding: 0; margin: 0\"><td style=\"padding: 3px; text-align: center; white-space: nowrap;\"><table data-quarto-disable-processing=\"true\" class=\"table-form table-form-boxed\" style=\"display:inline-table; text-align:center;font-size:12px;width: u;border: 1.5px solid green;padding: 3px;margin: 0px auto;\"><tr style=\"padding: 0; margin: 0\"><td style=\"padding: 3px; text-align: center; white-space: nowrap;\"><table data-quarto-disable-processing=\"true\" class=\"table-form table-form-bracketed\" style=\"display:inline-table; text-align:center;font-size:12px;width: t;border: 1.5px solid blue;border-top-style: none;border-bottom-style: none;border-radius: 5px;border-spacing: 0px;border-collapse:separate;padding: 3px;margin: 0px auto;\"><tr style=\"padding: 0; margin: 0\"><td style=\"padding: 3px; text-align: center; white-space: nowrap;\">3600</td><td style=\"padding: 3px; text-align: center; white-space: nowrap;\">…</td><td style=\"padding: 3px; text-align: center; white-space: nowrap;\">3615</td></tr></table></td><td style=\"padding: 3px; text-align: center; white-space: nowrap;\"><table data-quarto-disable-processing=\"true\" class=\"table-form table-form-bracketed\" style=\"display:inline-table; text-align:center;font-size:12px;width: t;border: 1.5px solid blue;border-top-style: none;border-bottom-style: none;border-radius: 5px;border-spacing: 0px;border-collapse:separate;padding: 3px;margin: 0px auto;\"><tr style=\"padding: 0; margin: 0\"><td style=\"padding: 3px; text-align: center; white-space: nowrap;\">3620</td><td style=\"padding: 3px; text-align: center; white-space: nowrap;\">…</td><td style=\"padding: 3px; text-align: center; white-space: nowrap;\">3635</td></tr></table></td><td style=\"padding: 3px; text-align: center; white-space: nowrap;\"><table data-quarto-disable-processing=\"true\" class=\"table-form table-form-bracketed\" style=\"display:inline-table; text-align:center;font-size:12px;width: t;border: 1.5px solid blue;border-top-style: none;border-bottom-style: none;border-radius: 5px;border-spacing: 0px;border-collapse:separate;padding: 3px;margin: 0px auto;\"><tr style=\"padding: 0; margin: 0\"><td style=\"padding: 3px; text-align: center; white-space: nowrap;\">3640</td><td style=\"padding: 3px; text-align: center; white-space: nowrap;\">…</td><td style=\"padding: 3px; text-align: center; white-space: nowrap;\">3655</td></tr></table></td></tr>\n",
       "<tr style=\"padding: 0; margin: 0\"><td style=\"padding: 3px; text-align: center; white-space: nowrap;\">︙</td><td style=\"padding: 3px; text-align: center; white-space: nowrap;\">︙</td><td style=\"padding: 3px; text-align: center; white-space: nowrap;\">︙</td></tr>\n",
       "<tr style=\"padding: 0; margin: 0\"><td style=\"padding: 3px; text-align: center; white-space: nowrap;\"><table data-quarto-disable-processing=\"true\" class=\"table-form table-form-bracketed\" style=\"display:inline-table; text-align:center;font-size:12px;width: t;border: 1.5px solid blue;border-top-style: none;border-bottom-style: none;border-radius: 5px;border-spacing: 0px;border-collapse:separate;padding: 3px;margin: 0px auto;\"><tr style=\"padding: 0; margin: 0\"><td style=\"padding: 3px; text-align: center; white-space: nowrap;\">3780</td><td style=\"padding: 3px; text-align: center; white-space: nowrap;\">…</td><td style=\"padding: 3px; text-align: center; white-space: nowrap;\">3795</td></tr></table></td><td style=\"padding: 3px; text-align: center; white-space: nowrap;\"><table data-quarto-disable-processing=\"true\" class=\"table-form table-form-bracketed\" style=\"display:inline-table; text-align:center;font-size:12px;width: t;border: 1.5px solid blue;border-top-style: none;border-bottom-style: none;border-radius: 5px;border-spacing: 0px;border-collapse:separate;padding: 3px;margin: 0px auto;\"><tr style=\"padding: 0; margin: 0\"><td style=\"padding: 3px; text-align: center; white-space: nowrap;\">3800</td><td style=\"padding: 3px; text-align: center; white-space: nowrap;\">…</td><td style=\"padding: 3px; text-align: center; white-space: nowrap;\">3815</td></tr></table></td><td style=\"padding: 3px; text-align: center; white-space: nowrap;\"><table data-quarto-disable-processing=\"true\" class=\"table-form table-form-bracketed\" style=\"display:inline-table; text-align:center;font-size:12px;width: t;border: 1.5px solid blue;border-top-style: none;border-bottom-style: none;border-radius: 5px;border-spacing: 0px;border-collapse:separate;padding: 3px;margin: 0px auto;\"><tr style=\"padding: 0; margin: 0\"><td style=\"padding: 3px; text-align: center; white-space: nowrap;\">3820</td><td style=\"padding: 3px; text-align: center; white-space: nowrap;\">…</td><td style=\"padding: 3px; text-align: center; white-space: nowrap;\">3835</td></tr></table></td></tr></table></td><td style=\"padding: 3px; text-align: center; white-space: nowrap;\">…</td><td style=\"padding: 3px; text-align: center; white-space: nowrap;\"><table data-quarto-disable-processing=\"true\" class=\"table-form table-form-boxed\" style=\"display:inline-table; text-align:center;font-size:12px;width: u;border: 1.5px solid green;padding: 3px;margin: 0px auto;\"><tr style=\"padding: 0; margin: 0\"><td style=\"padding: 3px; text-align: center; white-space: nowrap;\"><table data-quarto-disable-processing=\"true\" class=\"table-form table-form-bracketed\" style=\"display:inline-table; text-align:center;font-size:12px;width: t;border: 1.5px solid blue;border-top-style: none;border-bottom-style: none;border-radius: 5px;border-spacing: 0px;border-collapse:separate;padding: 3px;margin: 0px auto;\"><tr style=\"padding: 0; margin: 0\"><td style=\"padding: 3px; text-align: center; white-space: nowrap;\">4560</td><td style=\"padding: 3px; text-align: center; white-space: nowrap;\">…</td><td style=\"padding: 3px; text-align: center; white-space: nowrap;\">4575</td></tr></table></td><td style=\"padding: 3px; text-align: center; white-space: nowrap;\"><table data-quarto-disable-processing=\"true\" class=\"table-form table-form-bracketed\" style=\"display:inline-table; text-align:center;font-size:12px;width: t;border: 1.5px solid blue;border-top-style: none;border-bottom-style: none;border-radius: 5px;border-spacing: 0px;border-collapse:separate;padding: 3px;margin: 0px auto;\"><tr style=\"padding: 0; margin: 0\"><td style=\"padding: 3px; text-align: center; white-space: nowrap;\">4580</td><td style=\"padding: 3px; text-align: center; white-space: nowrap;\">…</td><td style=\"padding: 3px; text-align: center; white-space: nowrap;\">4595</td></tr></table></td><td style=\"padding: 3px; text-align: center; white-space: nowrap;\"><table data-quarto-disable-processing=\"true\" class=\"table-form table-form-bracketed\" style=\"display:inline-table; text-align:center;font-size:12px;width: t;border: 1.5px solid blue;border-top-style: none;border-bottom-style: none;border-radius: 5px;border-spacing: 0px;border-collapse:separate;padding: 3px;margin: 0px auto;\"><tr style=\"padding: 0; margin: 0\"><td style=\"padding: 3px; text-align: center; white-space: nowrap;\">4600</td><td style=\"padding: 3px; text-align: center; white-space: nowrap;\">…</td><td style=\"padding: 3px; text-align: center; white-space: nowrap;\">4615</td></tr></table></td></tr>\n",
       "<tr style=\"padding: 0; margin: 0\"><td style=\"padding: 3px; text-align: center; white-space: nowrap;\">︙</td><td style=\"padding: 3px; text-align: center; white-space: nowrap;\">︙</td><td style=\"padding: 3px; text-align: center; white-space: nowrap;\">︙</td></tr>\n",
       "<tr style=\"padding: 0; margin: 0\"><td style=\"padding: 3px; text-align: center; white-space: nowrap;\"><table data-quarto-disable-processing=\"true\" class=\"table-form table-form-bracketed\" style=\"display:inline-table; text-align:center;font-size:12px;width: t;border: 1.5px solid blue;border-top-style: none;border-bottom-style: none;border-radius: 5px;border-spacing: 0px;border-collapse:separate;padding: 3px;margin: 0px auto;\"><tr style=\"padding: 0; margin: 0\"><td style=\"padding: 3px; text-align: center; white-space: nowrap;\">4740</td><td style=\"padding: 3px; text-align: center; white-space: nowrap;\">…</td><td style=\"padding: 3px; text-align: center; white-space: nowrap;\">4755</td></tr></table></td><td style=\"padding: 3px; text-align: center; white-space: nowrap;\"><table data-quarto-disable-processing=\"true\" class=\"table-form table-form-bracketed\" style=\"display:inline-table; text-align:center;font-size:12px;width: t;border: 1.5px solid blue;border-top-style: none;border-bottom-style: none;border-radius: 5px;border-spacing: 0px;border-collapse:separate;padding: 3px;margin: 0px auto;\"><tr style=\"padding: 0; margin: 0\"><td style=\"padding: 3px; text-align: center; white-space: nowrap;\">4760</td><td style=\"padding: 3px; text-align: center; white-space: nowrap;\">…</td><td style=\"padding: 3px; text-align: center; white-space: nowrap;\">4775</td></tr></table></td><td style=\"padding: 3px; text-align: center; white-space: nowrap;\"><table data-quarto-disable-processing=\"true\" class=\"table-form table-form-bracketed\" style=\"display:inline-table; text-align:center;font-size:12px;width: t;border: 1.5px solid blue;border-top-style: none;border-bottom-style: none;border-radius: 5px;border-spacing: 0px;border-collapse:separate;padding: 3px;margin: 0px auto;\"><tr style=\"padding: 0; margin: 0\"><td style=\"padding: 3px; text-align: center; white-space: nowrap;\">4780</td><td style=\"padding: 3px; text-align: center; white-space: nowrap;\">…</td><td style=\"padding: 3px; text-align: center; white-space: nowrap;\">4795</td></tr></table></td></tr></table></td></tr></table>"
      ],
      "text/plain": [
       "<__main__.TableForm>"
      ]
     },
     "execution_count": null,
     "metadata": {},
     "output_type": "execute_result"
    }
   ],
   "source": [
    "TableForm(5 * np.arange(4 * 5 * 4 * 3 * 4).reshape(4, 5, 4, 3, 4), edgeitems=1, border_color=['red', 'green', 'blue'])"
   ]
  },
  {
   "cell_type": "markdown",
   "id": "0df5b2bd-3c57-4a82-8f28-141ea915d0fa",
   "metadata": {},
   "source": [
    "`'auto'` setting for `edgeitems`"
   ]
  },
  {
   "cell_type": "code",
   "execution_count": null,
   "id": "219d289f-fa40-4ea1-a757-ee78682d7dc7",
   "metadata": {},
   "outputs": [
    {
     "data": {
      "text/html": [
       "<div style=\"font-size:12px\">numpy ndarray (6,) int64</div><table data-quarto-disable-processing=\"true\" class=\"table-form table-form-bracketed\" style=\"display:inline-table; text-align:center;font-size:12px;width: a;border: 1.5px solid steelblue;border-top-style: none;border-bottom-style: none;border-radius: 5px;border-spacing: 0px;border-collapse:separate;padding: 3px;margin: 0px 0;\"><tr style=\"padding: 0; margin: 0\"><td style=\"padding: 3px; text-align: center; white-space: nowrap;\">0</td><td style=\"padding: 3px; text-align: center; white-space: nowrap;\">1</td><td style=\"padding: 3px; text-align: center; white-space: nowrap;\">2</td><td style=\"padding: 3px; text-align: center; white-space: nowrap;\">3</td><td style=\"padding: 3px; text-align: center; white-space: nowrap;\">4</td><td style=\"padding: 3px; text-align: center; white-space: nowrap;\">5</td></tr></table>"
      ],
      "text/plain": [
       "<__main__.TableForm>"
      ]
     },
     "execution_count": null,
     "metadata": {},
     "output_type": "execute_result"
    }
   ],
   "source": [
    "TableForm(np.arange(6))"
   ]
  },
  {
   "cell_type": "code",
   "execution_count": null,
   "id": "5b57f760-a71f-43e2-a5a0-888872fe85dd",
   "metadata": {},
   "outputs": [
    {
     "data": {
      "text/html": [
       "<div style=\"font-size:12px\">numpy ndarray (6, 6) int64</div><table data-quarto-disable-processing=\"true\" class=\"table-form table-form-boxed\" style=\"display:inline-table; text-align:center;font-size:12px;width: a;border: 1.5px solid steelblue;padding: 3px;margin: 0px 0;\"><tr style=\"padding: 0; margin: 0\"><td style=\"padding: 3px; text-align: center; white-space: nowrap;\">0</td><td style=\"padding: 3px; text-align: center; white-space: nowrap;\">1</td><td style=\"padding: 3px; text-align: center; white-space: nowrap;\">2</td><td style=\"padding: 3px; text-align: center; white-space: nowrap;\">3</td><td style=\"padding: 3px; text-align: center; white-space: nowrap;\">4</td><td style=\"padding: 3px; text-align: center; white-space: nowrap;\">5</td></tr>\n",
       "<tr style=\"padding: 0; margin: 0\"><td style=\"padding: 3px; text-align: center; white-space: nowrap;\">6</td><td style=\"padding: 3px; text-align: center; white-space: nowrap;\">7</td><td style=\"padding: 3px; text-align: center; white-space: nowrap;\">8</td><td style=\"padding: 3px; text-align: center; white-space: nowrap;\">9</td><td style=\"padding: 3px; text-align: center; white-space: nowrap;\">10</td><td style=\"padding: 3px; text-align: center; white-space: nowrap;\">11</td></tr>\n",
       "<tr style=\"padding: 0; margin: 0\"><td style=\"padding: 3px; text-align: center; white-space: nowrap;\">12</td><td style=\"padding: 3px; text-align: center; white-space: nowrap;\">13</td><td style=\"padding: 3px; text-align: center; white-space: nowrap;\">14</td><td style=\"padding: 3px; text-align: center; white-space: nowrap;\">15</td><td style=\"padding: 3px; text-align: center; white-space: nowrap;\">16</td><td style=\"padding: 3px; text-align: center; white-space: nowrap;\">17</td></tr>\n",
       "<tr style=\"padding: 0; margin: 0\"><td style=\"padding: 3px; text-align: center; white-space: nowrap;\">18</td><td style=\"padding: 3px; text-align: center; white-space: nowrap;\">19</td><td style=\"padding: 3px; text-align: center; white-space: nowrap;\">20</td><td style=\"padding: 3px; text-align: center; white-space: nowrap;\">21</td><td style=\"padding: 3px; text-align: center; white-space: nowrap;\">22</td><td style=\"padding: 3px; text-align: center; white-space: nowrap;\">23</td></tr>\n",
       "<tr style=\"padding: 0; margin: 0\"><td style=\"padding: 3px; text-align: center; white-space: nowrap;\">24</td><td style=\"padding: 3px; text-align: center; white-space: nowrap;\">25</td><td style=\"padding: 3px; text-align: center; white-space: nowrap;\">26</td><td style=\"padding: 3px; text-align: center; white-space: nowrap;\">27</td><td style=\"padding: 3px; text-align: center; white-space: nowrap;\">28</td><td style=\"padding: 3px; text-align: center; white-space: nowrap;\">29</td></tr>\n",
       "<tr style=\"padding: 0; margin: 0\"><td style=\"padding: 3px; text-align: center; white-space: nowrap;\">30</td><td style=\"padding: 3px; text-align: center; white-space: nowrap;\">31</td><td style=\"padding: 3px; text-align: center; white-space: nowrap;\">32</td><td style=\"padding: 3px; text-align: center; white-space: nowrap;\">33</td><td style=\"padding: 3px; text-align: center; white-space: nowrap;\">34</td><td style=\"padding: 3px; text-align: center; white-space: nowrap;\">35</td></tr></table>"
      ],
      "text/plain": [
       "<__main__.TableForm>"
      ]
     },
     "execution_count": null,
     "metadata": {},
     "output_type": "execute_result"
    }
   ],
   "source": [
    "TableForm(np.arange(6**2).reshape(6, 6))"
   ]
  },
  {
   "cell_type": "code",
   "execution_count": null,
   "id": "02030ab8-090f-481d-93aa-7a7b6cc9d2ad",
   "metadata": {},
   "outputs": [
    {
     "data": {
      "text/html": [
       "<div style=\"font-size:12px\">numpy ndarray (6, 6, 6) int64</div><table data-quarto-disable-processing=\"true\" class=\"table-form table-form-boxed\" style=\"display:inline-table; text-align:center;font-size:12px;width: a;border: 1.5px solid steelblue;padding: 3px;margin: 0px 0;\"><tr style=\"padding: 0; margin: 0\"><td style=\"padding: 3px; text-align: center; white-space: nowrap;\"><table data-quarto-disable-processing=\"true\" class=\"table-form table-form-bracketed\" style=\"display:inline-table; text-align:center;font-size:12px;width: u;border: 1.5px solid steelblue;border-top-style: none;border-bottom-style: none;border-radius: 5px;border-spacing: 0px;border-collapse:separate;padding: 3px;margin: 0px auto;\"><tr style=\"padding: 0; margin: 0\"><td style=\"padding: 3px; text-align: center; white-space: nowrap;\">0</td><td style=\"padding: 3px; text-align: center; white-space: nowrap;\">1</td><td style=\"padding: 3px; text-align: center; white-space: nowrap;\">…</td><td style=\"padding: 3px; text-align: center; white-space: nowrap;\">4</td><td style=\"padding: 3px; text-align: center; white-space: nowrap;\">5</td></tr></table></td><td style=\"padding: 3px; text-align: center; white-space: nowrap;\"><table data-quarto-disable-processing=\"true\" class=\"table-form table-form-bracketed\" style=\"display:inline-table; text-align:center;font-size:12px;width: u;border: 1.5px solid steelblue;border-top-style: none;border-bottom-style: none;border-radius: 5px;border-spacing: 0px;border-collapse:separate;padding: 3px;margin: 0px auto;\"><tr style=\"padding: 0; margin: 0\"><td style=\"padding: 3px; text-align: center; white-space: nowrap;\">6</td><td style=\"padding: 3px; text-align: center; white-space: nowrap;\">7</td><td style=\"padding: 3px; text-align: center; white-space: nowrap;\">…</td><td style=\"padding: 3px; text-align: center; white-space: nowrap;\">10</td><td style=\"padding: 3px; text-align: center; white-space: nowrap;\">11</td></tr></table></td><td style=\"padding: 3px; text-align: center; white-space: nowrap;\">…</td><td style=\"padding: 3px; text-align: center; white-space: nowrap;\"><table data-quarto-disable-processing=\"true\" class=\"table-form table-form-bracketed\" style=\"display:inline-table; text-align:center;font-size:12px;width: u;border: 1.5px solid steelblue;border-top-style: none;border-bottom-style: none;border-radius: 5px;border-spacing: 0px;border-collapse:separate;padding: 3px;margin: 0px auto;\"><tr style=\"padding: 0; margin: 0\"><td style=\"padding: 3px; text-align: center; white-space: nowrap;\">24</td><td style=\"padding: 3px; text-align: center; white-space: nowrap;\">25</td><td style=\"padding: 3px; text-align: center; white-space: nowrap;\">…</td><td style=\"padding: 3px; text-align: center; white-space: nowrap;\">28</td><td style=\"padding: 3px; text-align: center; white-space: nowrap;\">29</td></tr></table></td><td style=\"padding: 3px; text-align: center; white-space: nowrap;\"><table data-quarto-disable-processing=\"true\" class=\"table-form table-form-bracketed\" style=\"display:inline-table; text-align:center;font-size:12px;width: u;border: 1.5px solid steelblue;border-top-style: none;border-bottom-style: none;border-radius: 5px;border-spacing: 0px;border-collapse:separate;padding: 3px;margin: 0px auto;\"><tr style=\"padding: 0; margin: 0\"><td style=\"padding: 3px; text-align: center; white-space: nowrap;\">30</td><td style=\"padding: 3px; text-align: center; white-space: nowrap;\">31</td><td style=\"padding: 3px; text-align: center; white-space: nowrap;\">…</td><td style=\"padding: 3px; text-align: center; white-space: nowrap;\">34</td><td style=\"padding: 3px; text-align: center; white-space: nowrap;\">35</td></tr></table></td></tr>\n",
       "<tr style=\"padding: 0; margin: 0\"><td style=\"padding: 3px; text-align: center; white-space: nowrap;\"><table data-quarto-disable-processing=\"true\" class=\"table-form table-form-bracketed\" style=\"display:inline-table; text-align:center;font-size:12px;width: u;border: 1.5px solid steelblue;border-top-style: none;border-bottom-style: none;border-radius: 5px;border-spacing: 0px;border-collapse:separate;padding: 3px;margin: 0px auto;\"><tr style=\"padding: 0; margin: 0\"><td style=\"padding: 3px; text-align: center; white-space: nowrap;\">36</td><td style=\"padding: 3px; text-align: center; white-space: nowrap;\">37</td><td style=\"padding: 3px; text-align: center; white-space: nowrap;\">…</td><td style=\"padding: 3px; text-align: center; white-space: nowrap;\">40</td><td style=\"padding: 3px; text-align: center; white-space: nowrap;\">41</td></tr></table></td><td style=\"padding: 3px; text-align: center; white-space: nowrap;\"><table data-quarto-disable-processing=\"true\" class=\"table-form table-form-bracketed\" style=\"display:inline-table; text-align:center;font-size:12px;width: u;border: 1.5px solid steelblue;border-top-style: none;border-bottom-style: none;border-radius: 5px;border-spacing: 0px;border-collapse:separate;padding: 3px;margin: 0px auto;\"><tr style=\"padding: 0; margin: 0\"><td style=\"padding: 3px; text-align: center; white-space: nowrap;\">42</td><td style=\"padding: 3px; text-align: center; white-space: nowrap;\">43</td><td style=\"padding: 3px; text-align: center; white-space: nowrap;\">…</td><td style=\"padding: 3px; text-align: center; white-space: nowrap;\">46</td><td style=\"padding: 3px; text-align: center; white-space: nowrap;\">47</td></tr></table></td><td style=\"padding: 3px; text-align: center; white-space: nowrap;\">…</td><td style=\"padding: 3px; text-align: center; white-space: nowrap;\"><table data-quarto-disable-processing=\"true\" class=\"table-form table-form-bracketed\" style=\"display:inline-table; text-align:center;font-size:12px;width: u;border: 1.5px solid steelblue;border-top-style: none;border-bottom-style: none;border-radius: 5px;border-spacing: 0px;border-collapse:separate;padding: 3px;margin: 0px auto;\"><tr style=\"padding: 0; margin: 0\"><td style=\"padding: 3px; text-align: center; white-space: nowrap;\">60</td><td style=\"padding: 3px; text-align: center; white-space: nowrap;\">61</td><td style=\"padding: 3px; text-align: center; white-space: nowrap;\">…</td><td style=\"padding: 3px; text-align: center; white-space: nowrap;\">64</td><td style=\"padding: 3px; text-align: center; white-space: nowrap;\">65</td></tr></table></td><td style=\"padding: 3px; text-align: center; white-space: nowrap;\"><table data-quarto-disable-processing=\"true\" class=\"table-form table-form-bracketed\" style=\"display:inline-table; text-align:center;font-size:12px;width: u;border: 1.5px solid steelblue;border-top-style: none;border-bottom-style: none;border-radius: 5px;border-spacing: 0px;border-collapse:separate;padding: 3px;margin: 0px auto;\"><tr style=\"padding: 0; margin: 0\"><td style=\"padding: 3px; text-align: center; white-space: nowrap;\">66</td><td style=\"padding: 3px; text-align: center; white-space: nowrap;\">67</td><td style=\"padding: 3px; text-align: center; white-space: nowrap;\">…</td><td style=\"padding: 3px; text-align: center; white-space: nowrap;\">70</td><td style=\"padding: 3px; text-align: center; white-space: nowrap;\">71</td></tr></table></td></tr>\n",
       "<tr style=\"padding: 0; margin: 0\"><td style=\"padding: 3px; text-align: center; white-space: nowrap;\">︙</td><td style=\"padding: 3px; text-align: center; white-space: nowrap;\">︙</td><td style=\"padding: 3px; text-align: center; white-space: nowrap;\">⋱</td><td style=\"padding: 3px; text-align: center; white-space: nowrap;\">︙</td><td style=\"padding: 3px; text-align: center; white-space: nowrap;\">︙</td></tr>\n",
       "<tr style=\"padding: 0; margin: 0\"><td style=\"padding: 3px; text-align: center; white-space: nowrap;\"><table data-quarto-disable-processing=\"true\" class=\"table-form table-form-bracketed\" style=\"display:inline-table; text-align:center;font-size:12px;width: u;border: 1.5px solid steelblue;border-top-style: none;border-bottom-style: none;border-radius: 5px;border-spacing: 0px;border-collapse:separate;padding: 3px;margin: 0px auto;\"><tr style=\"padding: 0; margin: 0\"><td style=\"padding: 3px; text-align: center; white-space: nowrap;\">144</td><td style=\"padding: 3px; text-align: center; white-space: nowrap;\">145</td><td style=\"padding: 3px; text-align: center; white-space: nowrap;\">…</td><td style=\"padding: 3px; text-align: center; white-space: nowrap;\">148</td><td style=\"padding: 3px; text-align: center; white-space: nowrap;\">149</td></tr></table></td><td style=\"padding: 3px; text-align: center; white-space: nowrap;\"><table data-quarto-disable-processing=\"true\" class=\"table-form table-form-bracketed\" style=\"display:inline-table; text-align:center;font-size:12px;width: u;border: 1.5px solid steelblue;border-top-style: none;border-bottom-style: none;border-radius: 5px;border-spacing: 0px;border-collapse:separate;padding: 3px;margin: 0px auto;\"><tr style=\"padding: 0; margin: 0\"><td style=\"padding: 3px; text-align: center; white-space: nowrap;\">150</td><td style=\"padding: 3px; text-align: center; white-space: nowrap;\">151</td><td style=\"padding: 3px; text-align: center; white-space: nowrap;\">…</td><td style=\"padding: 3px; text-align: center; white-space: nowrap;\">154</td><td style=\"padding: 3px; text-align: center; white-space: nowrap;\">155</td></tr></table></td><td style=\"padding: 3px; text-align: center; white-space: nowrap;\">…</td><td style=\"padding: 3px; text-align: center; white-space: nowrap;\"><table data-quarto-disable-processing=\"true\" class=\"table-form table-form-bracketed\" style=\"display:inline-table; text-align:center;font-size:12px;width: u;border: 1.5px solid steelblue;border-top-style: none;border-bottom-style: none;border-radius: 5px;border-spacing: 0px;border-collapse:separate;padding: 3px;margin: 0px auto;\"><tr style=\"padding: 0; margin: 0\"><td style=\"padding: 3px; text-align: center; white-space: nowrap;\">168</td><td style=\"padding: 3px; text-align: center; white-space: nowrap;\">169</td><td style=\"padding: 3px; text-align: center; white-space: nowrap;\">…</td><td style=\"padding: 3px; text-align: center; white-space: nowrap;\">172</td><td style=\"padding: 3px; text-align: center; white-space: nowrap;\">173</td></tr></table></td><td style=\"padding: 3px; text-align: center; white-space: nowrap;\"><table data-quarto-disable-processing=\"true\" class=\"table-form table-form-bracketed\" style=\"display:inline-table; text-align:center;font-size:12px;width: u;border: 1.5px solid steelblue;border-top-style: none;border-bottom-style: none;border-radius: 5px;border-spacing: 0px;border-collapse:separate;padding: 3px;margin: 0px auto;\"><tr style=\"padding: 0; margin: 0\"><td style=\"padding: 3px; text-align: center; white-space: nowrap;\">174</td><td style=\"padding: 3px; text-align: center; white-space: nowrap;\">175</td><td style=\"padding: 3px; text-align: center; white-space: nowrap;\">…</td><td style=\"padding: 3px; text-align: center; white-space: nowrap;\">178</td><td style=\"padding: 3px; text-align: center; white-space: nowrap;\">179</td></tr></table></td></tr>\n",
       "<tr style=\"padding: 0; margin: 0\"><td style=\"padding: 3px; text-align: center; white-space: nowrap;\"><table data-quarto-disable-processing=\"true\" class=\"table-form table-form-bracketed\" style=\"display:inline-table; text-align:center;font-size:12px;width: u;border: 1.5px solid steelblue;border-top-style: none;border-bottom-style: none;border-radius: 5px;border-spacing: 0px;border-collapse:separate;padding: 3px;margin: 0px auto;\"><tr style=\"padding: 0; margin: 0\"><td style=\"padding: 3px; text-align: center; white-space: nowrap;\">180</td><td style=\"padding: 3px; text-align: center; white-space: nowrap;\">181</td><td style=\"padding: 3px; text-align: center; white-space: nowrap;\">…</td><td style=\"padding: 3px; text-align: center; white-space: nowrap;\">184</td><td style=\"padding: 3px; text-align: center; white-space: nowrap;\">185</td></tr></table></td><td style=\"padding: 3px; text-align: center; white-space: nowrap;\"><table data-quarto-disable-processing=\"true\" class=\"table-form table-form-bracketed\" style=\"display:inline-table; text-align:center;font-size:12px;width: u;border: 1.5px solid steelblue;border-top-style: none;border-bottom-style: none;border-radius: 5px;border-spacing: 0px;border-collapse:separate;padding: 3px;margin: 0px auto;\"><tr style=\"padding: 0; margin: 0\"><td style=\"padding: 3px; text-align: center; white-space: nowrap;\">186</td><td style=\"padding: 3px; text-align: center; white-space: nowrap;\">187</td><td style=\"padding: 3px; text-align: center; white-space: nowrap;\">…</td><td style=\"padding: 3px; text-align: center; white-space: nowrap;\">190</td><td style=\"padding: 3px; text-align: center; white-space: nowrap;\">191</td></tr></table></td><td style=\"padding: 3px; text-align: center; white-space: nowrap;\">…</td><td style=\"padding: 3px; text-align: center; white-space: nowrap;\"><table data-quarto-disable-processing=\"true\" class=\"table-form table-form-bracketed\" style=\"display:inline-table; text-align:center;font-size:12px;width: u;border: 1.5px solid steelblue;border-top-style: none;border-bottom-style: none;border-radius: 5px;border-spacing: 0px;border-collapse:separate;padding: 3px;margin: 0px auto;\"><tr style=\"padding: 0; margin: 0\"><td style=\"padding: 3px; text-align: center; white-space: nowrap;\">204</td><td style=\"padding: 3px; text-align: center; white-space: nowrap;\">205</td><td style=\"padding: 3px; text-align: center; white-space: nowrap;\">…</td><td style=\"padding: 3px; text-align: center; white-space: nowrap;\">208</td><td style=\"padding: 3px; text-align: center; white-space: nowrap;\">209</td></tr></table></td><td style=\"padding: 3px; text-align: center; white-space: nowrap;\"><table data-quarto-disable-processing=\"true\" class=\"table-form table-form-bracketed\" style=\"display:inline-table; text-align:center;font-size:12px;width: u;border: 1.5px solid steelblue;border-top-style: none;border-bottom-style: none;border-radius: 5px;border-spacing: 0px;border-collapse:separate;padding: 3px;margin: 0px auto;\"><tr style=\"padding: 0; margin: 0\"><td style=\"padding: 3px; text-align: center; white-space: nowrap;\">210</td><td style=\"padding: 3px; text-align: center; white-space: nowrap;\">211</td><td style=\"padding: 3px; text-align: center; white-space: nowrap;\">…</td><td style=\"padding: 3px; text-align: center; white-space: nowrap;\">214</td><td style=\"padding: 3px; text-align: center; white-space: nowrap;\">215</td></tr></table></td></tr></table>"
      ],
      "text/plain": [
       "<__main__.TableForm>"
      ]
     },
     "execution_count": null,
     "metadata": {},
     "output_type": "execute_result"
    }
   ],
   "source": [
    "TableForm(np.arange(6**3).reshape([6] * 3))"
   ]
  },
  {
   "cell_type": "code",
   "execution_count": null,
   "id": "44586068-6a8f-443e-82b8-114a27d36b84",
   "metadata": {},
   "outputs": [
    {
     "data": {
      "text/html": [
       "<div style=\"font-size:12px\">numpy ndarray (6, 6, 6, 6) int64</div><table data-quarto-disable-processing=\"true\" class=\"table-form table-form-boxed\" style=\"display:inline-table; text-align:center;font-size:12px;width: a;border: 1.5px solid steelblue;padding: 3px;margin: 0px 0;\"><tr style=\"padding: 0; margin: 0\"><td style=\"padding: 3px; text-align: center; white-space: nowrap;\"><table data-quarto-disable-processing=\"true\" class=\"table-form table-form-boxed\" style=\"display:inline-table; text-align:center;font-size:12px;width: u;border: 1.5px solid steelblue;padding: 3px;margin: 0px auto;\"><tr style=\"padding: 0; margin: 0\"><td style=\"padding: 3px; text-align: center; white-space: nowrap;\">0</td><td style=\"padding: 3px; text-align: center; white-space: nowrap;\">…</td><td style=\"padding: 3px; text-align: center; white-space: nowrap;\">5</td></tr>\n",
       "<tr style=\"padding: 0; margin: 0\"><td style=\"padding: 3px; text-align: center; white-space: nowrap;\">︙</td><td style=\"padding: 3px; text-align: center; white-space: nowrap;\">⋱</td><td style=\"padding: 3px; text-align: center; white-space: nowrap;\">︙</td></tr>\n",
       "<tr style=\"padding: 0; margin: 0\"><td style=\"padding: 3px; text-align: center; white-space: nowrap;\">30</td><td style=\"padding: 3px; text-align: center; white-space: nowrap;\">…</td><td style=\"padding: 3px; text-align: center; white-space: nowrap;\">35</td></tr></table></td><td style=\"padding: 3px; text-align: center; white-space: nowrap;\">…</td><td style=\"padding: 3px; text-align: center; white-space: nowrap;\"><table data-quarto-disable-processing=\"true\" class=\"table-form table-form-boxed\" style=\"display:inline-table; text-align:center;font-size:12px;width: u;border: 1.5px solid steelblue;padding: 3px;margin: 0px auto;\"><tr style=\"padding: 0; margin: 0\"><td style=\"padding: 3px; text-align: center; white-space: nowrap;\">180</td><td style=\"padding: 3px; text-align: center; white-space: nowrap;\">…</td><td style=\"padding: 3px; text-align: center; white-space: nowrap;\">185</td></tr>\n",
       "<tr style=\"padding: 0; margin: 0\"><td style=\"padding: 3px; text-align: center; white-space: nowrap;\">︙</td><td style=\"padding: 3px; text-align: center; white-space: nowrap;\">⋱</td><td style=\"padding: 3px; text-align: center; white-space: nowrap;\">︙</td></tr>\n",
       "<tr style=\"padding: 0; margin: 0\"><td style=\"padding: 3px; text-align: center; white-space: nowrap;\">210</td><td style=\"padding: 3px; text-align: center; white-space: nowrap;\">…</td><td style=\"padding: 3px; text-align: center; white-space: nowrap;\">215</td></tr></table></td></tr>\n",
       "<tr style=\"padding: 0; margin: 0\"><td style=\"padding: 3px; text-align: center; white-space: nowrap;\">︙</td><td style=\"padding: 3px; text-align: center; white-space: nowrap;\">⋱</td><td style=\"padding: 3px; text-align: center; white-space: nowrap;\">︙</td></tr>\n",
       "<tr style=\"padding: 0; margin: 0\"><td style=\"padding: 3px; text-align: center; white-space: nowrap;\"><table data-quarto-disable-processing=\"true\" class=\"table-form table-form-boxed\" style=\"display:inline-table; text-align:center;font-size:12px;width: u;border: 1.5px solid steelblue;padding: 3px;margin: 0px auto;\"><tr style=\"padding: 0; margin: 0\"><td style=\"padding: 3px; text-align: center; white-space: nowrap;\">1080</td><td style=\"padding: 3px; text-align: center; white-space: nowrap;\">…</td><td style=\"padding: 3px; text-align: center; white-space: nowrap;\">1085</td></tr>\n",
       "<tr style=\"padding: 0; margin: 0\"><td style=\"padding: 3px; text-align: center; white-space: nowrap;\">︙</td><td style=\"padding: 3px; text-align: center; white-space: nowrap;\">⋱</td><td style=\"padding: 3px; text-align: center; white-space: nowrap;\">︙</td></tr>\n",
       "<tr style=\"padding: 0; margin: 0\"><td style=\"padding: 3px; text-align: center; white-space: nowrap;\">1110</td><td style=\"padding: 3px; text-align: center; white-space: nowrap;\">…</td><td style=\"padding: 3px; text-align: center; white-space: nowrap;\">1115</td></tr></table></td><td style=\"padding: 3px; text-align: center; white-space: nowrap;\">…</td><td style=\"padding: 3px; text-align: center; white-space: nowrap;\"><table data-quarto-disable-processing=\"true\" class=\"table-form table-form-boxed\" style=\"display:inline-table; text-align:center;font-size:12px;width: u;border: 1.5px solid steelblue;padding: 3px;margin: 0px auto;\"><tr style=\"padding: 0; margin: 0\"><td style=\"padding: 3px; text-align: center; white-space: nowrap;\">1260</td><td style=\"padding: 3px; text-align: center; white-space: nowrap;\">…</td><td style=\"padding: 3px; text-align: center; white-space: nowrap;\">1265</td></tr>\n",
       "<tr style=\"padding: 0; margin: 0\"><td style=\"padding: 3px; text-align: center; white-space: nowrap;\">︙</td><td style=\"padding: 3px; text-align: center; white-space: nowrap;\">⋱</td><td style=\"padding: 3px; text-align: center; white-space: nowrap;\">︙</td></tr>\n",
       "<tr style=\"padding: 0; margin: 0\"><td style=\"padding: 3px; text-align: center; white-space: nowrap;\">1290</td><td style=\"padding: 3px; text-align: center; white-space: nowrap;\">…</td><td style=\"padding: 3px; text-align: center; white-space: nowrap;\">1295</td></tr></table></td></tr></table>"
      ],
      "text/plain": [
       "<__main__.TableForm>"
      ]
     },
     "execution_count": null,
     "metadata": {},
     "output_type": "execute_result"
    }
   ],
   "source": [
    "TableForm(np.arange(6**4).reshape([6] * 4))"
   ]
  },
  {
   "cell_type": "code",
   "execution_count": null,
   "id": "3f076178-b440-4064-a3a0-83ee70f6387d",
   "metadata": {},
   "outputs": [
    {
     "data": {
      "text/html": [
       "<div style=\"font-size:12px\">numpy ndarray (6, 6, 6, 6, 6) int64</div><table data-quarto-disable-processing=\"true\" class=\"table-form table-form-boxed\" style=\"display:inline-table; text-align:center;font-size:12px;width: a;border: 1.5px solid steelblue;padding: 3px;margin: 0px 0;\"><tr style=\"padding: 0; margin: 0\"><td style=\"padding: 3px; text-align: center; white-space: nowrap;\"><table data-quarto-disable-processing=\"true\" class=\"table-form table-form-boxed\" style=\"display:inline-table; text-align:center;font-size:12px;width: u;border: 1.5px solid steelblue;padding: 3px;margin: 0px auto;\"><tr style=\"padding: 0; margin: 0\"><td style=\"padding: 3px; text-align: center; white-space: nowrap;\"><table data-quarto-disable-processing=\"true\" class=\"table-form table-form-bracketed\" style=\"display:inline-table; text-align:center;font-size:12px;width: t;border: 1.5px solid steelblue;border-top-style: none;border-bottom-style: none;border-radius: 5px;border-spacing: 0px;border-collapse:separate;padding: 3px;margin: 0px auto;\"><tr style=\"padding: 0; margin: 0\"><td style=\"padding: 3px; text-align: center; white-space: nowrap;\">0</td><td style=\"padding: 3px; text-align: center; white-space: nowrap;\">…</td><td style=\"padding: 3px; text-align: center; white-space: nowrap;\">5</td></tr></table></td><td style=\"padding: 3px; text-align: center; white-space: nowrap;\">…</td><td style=\"padding: 3px; text-align: center; white-space: nowrap;\"><table data-quarto-disable-processing=\"true\" class=\"table-form table-form-bracketed\" style=\"display:inline-table; text-align:center;font-size:12px;width: t;border: 1.5px solid steelblue;border-top-style: none;border-bottom-style: none;border-radius: 5px;border-spacing: 0px;border-collapse:separate;padding: 3px;margin: 0px auto;\"><tr style=\"padding: 0; margin: 0\"><td style=\"padding: 3px; text-align: center; white-space: nowrap;\">30</td><td style=\"padding: 3px; text-align: center; white-space: nowrap;\">…</td><td style=\"padding: 3px; text-align: center; white-space: nowrap;\">35</td></tr></table></td></tr>\n",
       "<tr style=\"padding: 0; margin: 0\"><td style=\"padding: 3px; text-align: center; white-space: nowrap;\">︙</td><td style=\"padding: 3px; text-align: center; white-space: nowrap;\">⋱</td><td style=\"padding: 3px; text-align: center; white-space: nowrap;\">︙</td></tr>\n",
       "<tr style=\"padding: 0; margin: 0\"><td style=\"padding: 3px; text-align: center; white-space: nowrap;\"><table data-quarto-disable-processing=\"true\" class=\"table-form table-form-bracketed\" style=\"display:inline-table; text-align:center;font-size:12px;width: t;border: 1.5px solid steelblue;border-top-style: none;border-bottom-style: none;border-radius: 5px;border-spacing: 0px;border-collapse:separate;padding: 3px;margin: 0px auto;\"><tr style=\"padding: 0; margin: 0\"><td style=\"padding: 3px; text-align: center; white-space: nowrap;\">180</td><td style=\"padding: 3px; text-align: center; white-space: nowrap;\">…</td><td style=\"padding: 3px; text-align: center; white-space: nowrap;\">185</td></tr></table></td><td style=\"padding: 3px; text-align: center; white-space: nowrap;\">…</td><td style=\"padding: 3px; text-align: center; white-space: nowrap;\"><table data-quarto-disable-processing=\"true\" class=\"table-form table-form-bracketed\" style=\"display:inline-table; text-align:center;font-size:12px;width: t;border: 1.5px solid steelblue;border-top-style: none;border-bottom-style: none;border-radius: 5px;border-spacing: 0px;border-collapse:separate;padding: 3px;margin: 0px auto;\"><tr style=\"padding: 0; margin: 0\"><td style=\"padding: 3px; text-align: center; white-space: nowrap;\">210</td><td style=\"padding: 3px; text-align: center; white-space: nowrap;\">…</td><td style=\"padding: 3px; text-align: center; white-space: nowrap;\">215</td></tr></table></td></tr></table></td><td style=\"padding: 3px; text-align: center; white-space: nowrap;\">…</td><td style=\"padding: 3px; text-align: center; white-space: nowrap;\"><table data-quarto-disable-processing=\"true\" class=\"table-form table-form-boxed\" style=\"display:inline-table; text-align:center;font-size:12px;width: u;border: 1.5px solid steelblue;padding: 3px;margin: 0px auto;\"><tr style=\"padding: 0; margin: 0\"><td style=\"padding: 3px; text-align: center; white-space: nowrap;\"><table data-quarto-disable-processing=\"true\" class=\"table-form table-form-bracketed\" style=\"display:inline-table; text-align:center;font-size:12px;width: t;border: 1.5px solid steelblue;border-top-style: none;border-bottom-style: none;border-radius: 5px;border-spacing: 0px;border-collapse:separate;padding: 3px;margin: 0px auto;\"><tr style=\"padding: 0; margin: 0\"><td style=\"padding: 3px; text-align: center; white-space: nowrap;\">1080</td><td style=\"padding: 3px; text-align: center; white-space: nowrap;\">…</td><td style=\"padding: 3px; text-align: center; white-space: nowrap;\">1085</td></tr></table></td><td style=\"padding: 3px; text-align: center; white-space: nowrap;\">…</td><td style=\"padding: 3px; text-align: center; white-space: nowrap;\"><table data-quarto-disable-processing=\"true\" class=\"table-form table-form-bracketed\" style=\"display:inline-table; text-align:center;font-size:12px;width: t;border: 1.5px solid steelblue;border-top-style: none;border-bottom-style: none;border-radius: 5px;border-spacing: 0px;border-collapse:separate;padding: 3px;margin: 0px auto;\"><tr style=\"padding: 0; margin: 0\"><td style=\"padding: 3px; text-align: center; white-space: nowrap;\">1110</td><td style=\"padding: 3px; text-align: center; white-space: nowrap;\">…</td><td style=\"padding: 3px; text-align: center; white-space: nowrap;\">1115</td></tr></table></td></tr>\n",
       "<tr style=\"padding: 0; margin: 0\"><td style=\"padding: 3px; text-align: center; white-space: nowrap;\">︙</td><td style=\"padding: 3px; text-align: center; white-space: nowrap;\">⋱</td><td style=\"padding: 3px; text-align: center; white-space: nowrap;\">︙</td></tr>\n",
       "<tr style=\"padding: 0; margin: 0\"><td style=\"padding: 3px; text-align: center; white-space: nowrap;\"><table data-quarto-disable-processing=\"true\" class=\"table-form table-form-bracketed\" style=\"display:inline-table; text-align:center;font-size:12px;width: t;border: 1.5px solid steelblue;border-top-style: none;border-bottom-style: none;border-radius: 5px;border-spacing: 0px;border-collapse:separate;padding: 3px;margin: 0px auto;\"><tr style=\"padding: 0; margin: 0\"><td style=\"padding: 3px; text-align: center; white-space: nowrap;\">1260</td><td style=\"padding: 3px; text-align: center; white-space: nowrap;\">…</td><td style=\"padding: 3px; text-align: center; white-space: nowrap;\">1265</td></tr></table></td><td style=\"padding: 3px; text-align: center; white-space: nowrap;\">…</td><td style=\"padding: 3px; text-align: center; white-space: nowrap;\"><table data-quarto-disable-processing=\"true\" class=\"table-form table-form-bracketed\" style=\"display:inline-table; text-align:center;font-size:12px;width: t;border: 1.5px solid steelblue;border-top-style: none;border-bottom-style: none;border-radius: 5px;border-spacing: 0px;border-collapse:separate;padding: 3px;margin: 0px auto;\"><tr style=\"padding: 0; margin: 0\"><td style=\"padding: 3px; text-align: center; white-space: nowrap;\">1290</td><td style=\"padding: 3px; text-align: center; white-space: nowrap;\">…</td><td style=\"padding: 3px; text-align: center; white-space: nowrap;\">1295</td></tr></table></td></tr></table></td></tr>\n",
       "<tr style=\"padding: 0; margin: 0\"><td style=\"padding: 3px; text-align: center; white-space: nowrap;\">︙</td><td style=\"padding: 3px; text-align: center; white-space: nowrap;\">⋱</td><td style=\"padding: 3px; text-align: center; white-space: nowrap;\">︙</td></tr>\n",
       "<tr style=\"padding: 0; margin: 0\"><td style=\"padding: 3px; text-align: center; white-space: nowrap;\"><table data-quarto-disable-processing=\"true\" class=\"table-form table-form-boxed\" style=\"display:inline-table; text-align:center;font-size:12px;width: u;border: 1.5px solid steelblue;padding: 3px;margin: 0px auto;\"><tr style=\"padding: 0; margin: 0\"><td style=\"padding: 3px; text-align: center; white-space: nowrap;\"><table data-quarto-disable-processing=\"true\" class=\"table-form table-form-bracketed\" style=\"display:inline-table; text-align:center;font-size:12px;width: t;border: 1.5px solid steelblue;border-top-style: none;border-bottom-style: none;border-radius: 5px;border-spacing: 0px;border-collapse:separate;padding: 3px;margin: 0px auto;\"><tr style=\"padding: 0; margin: 0\"><td style=\"padding: 3px; text-align: center; white-space: nowrap;\">6480</td><td style=\"padding: 3px; text-align: center; white-space: nowrap;\">…</td><td style=\"padding: 3px; text-align: center; white-space: nowrap;\">6485</td></tr></table></td><td style=\"padding: 3px; text-align: center; white-space: nowrap;\">…</td><td style=\"padding: 3px; text-align: center; white-space: nowrap;\"><table data-quarto-disable-processing=\"true\" class=\"table-form table-form-bracketed\" style=\"display:inline-table; text-align:center;font-size:12px;width: t;border: 1.5px solid steelblue;border-top-style: none;border-bottom-style: none;border-radius: 5px;border-spacing: 0px;border-collapse:separate;padding: 3px;margin: 0px auto;\"><tr style=\"padding: 0; margin: 0\"><td style=\"padding: 3px; text-align: center; white-space: nowrap;\">6510</td><td style=\"padding: 3px; text-align: center; white-space: nowrap;\">…</td><td style=\"padding: 3px; text-align: center; white-space: nowrap;\">6515</td></tr></table></td></tr>\n",
       "<tr style=\"padding: 0; margin: 0\"><td style=\"padding: 3px; text-align: center; white-space: nowrap;\">︙</td><td style=\"padding: 3px; text-align: center; white-space: nowrap;\">⋱</td><td style=\"padding: 3px; text-align: center; white-space: nowrap;\">︙</td></tr>\n",
       "<tr style=\"padding: 0; margin: 0\"><td style=\"padding: 3px; text-align: center; white-space: nowrap;\"><table data-quarto-disable-processing=\"true\" class=\"table-form table-form-bracketed\" style=\"display:inline-table; text-align:center;font-size:12px;width: t;border: 1.5px solid steelblue;border-top-style: none;border-bottom-style: none;border-radius: 5px;border-spacing: 0px;border-collapse:separate;padding: 3px;margin: 0px auto;\"><tr style=\"padding: 0; margin: 0\"><td style=\"padding: 3px; text-align: center; white-space: nowrap;\">6660</td><td style=\"padding: 3px; text-align: center; white-space: nowrap;\">…</td><td style=\"padding: 3px; text-align: center; white-space: nowrap;\">6665</td></tr></table></td><td style=\"padding: 3px; text-align: center; white-space: nowrap;\">…</td><td style=\"padding: 3px; text-align: center; white-space: nowrap;\"><table data-quarto-disable-processing=\"true\" class=\"table-form table-form-bracketed\" style=\"display:inline-table; text-align:center;font-size:12px;width: t;border: 1.5px solid steelblue;border-top-style: none;border-bottom-style: none;border-radius: 5px;border-spacing: 0px;border-collapse:separate;padding: 3px;margin: 0px auto;\"><tr style=\"padding: 0; margin: 0\"><td style=\"padding: 3px; text-align: center; white-space: nowrap;\">6690</td><td style=\"padding: 3px; text-align: center; white-space: nowrap;\">…</td><td style=\"padding: 3px; text-align: center; white-space: nowrap;\">6695</td></tr></table></td></tr></table></td><td style=\"padding: 3px; text-align: center; white-space: nowrap;\">…</td><td style=\"padding: 3px; text-align: center; white-space: nowrap;\"><table data-quarto-disable-processing=\"true\" class=\"table-form table-form-boxed\" style=\"display:inline-table; text-align:center;font-size:12px;width: u;border: 1.5px solid steelblue;padding: 3px;margin: 0px auto;\"><tr style=\"padding: 0; margin: 0\"><td style=\"padding: 3px; text-align: center; white-space: nowrap;\"><table data-quarto-disable-processing=\"true\" class=\"table-form table-form-bracketed\" style=\"display:inline-table; text-align:center;font-size:12px;width: t;border: 1.5px solid steelblue;border-top-style: none;border-bottom-style: none;border-radius: 5px;border-spacing: 0px;border-collapse:separate;padding: 3px;margin: 0px auto;\"><tr style=\"padding: 0; margin: 0\"><td style=\"padding: 3px; text-align: center; white-space: nowrap;\">7560</td><td style=\"padding: 3px; text-align: center; white-space: nowrap;\">…</td><td style=\"padding: 3px; text-align: center; white-space: nowrap;\">7565</td></tr></table></td><td style=\"padding: 3px; text-align: center; white-space: nowrap;\">…</td><td style=\"padding: 3px; text-align: center; white-space: nowrap;\"><table data-quarto-disable-processing=\"true\" class=\"table-form table-form-bracketed\" style=\"display:inline-table; text-align:center;font-size:12px;width: t;border: 1.5px solid steelblue;border-top-style: none;border-bottom-style: none;border-radius: 5px;border-spacing: 0px;border-collapse:separate;padding: 3px;margin: 0px auto;\"><tr style=\"padding: 0; margin: 0\"><td style=\"padding: 3px; text-align: center; white-space: nowrap;\">7590</td><td style=\"padding: 3px; text-align: center; white-space: nowrap;\">…</td><td style=\"padding: 3px; text-align: center; white-space: nowrap;\">7595</td></tr></table></td></tr>\n",
       "<tr style=\"padding: 0; margin: 0\"><td style=\"padding: 3px; text-align: center; white-space: nowrap;\">︙</td><td style=\"padding: 3px; text-align: center; white-space: nowrap;\">⋱</td><td style=\"padding: 3px; text-align: center; white-space: nowrap;\">︙</td></tr>\n",
       "<tr style=\"padding: 0; margin: 0\"><td style=\"padding: 3px; text-align: center; white-space: nowrap;\"><table data-quarto-disable-processing=\"true\" class=\"table-form table-form-bracketed\" style=\"display:inline-table; text-align:center;font-size:12px;width: t;border: 1.5px solid steelblue;border-top-style: none;border-bottom-style: none;border-radius: 5px;border-spacing: 0px;border-collapse:separate;padding: 3px;margin: 0px auto;\"><tr style=\"padding: 0; margin: 0\"><td style=\"padding: 3px; text-align: center; white-space: nowrap;\">7740</td><td style=\"padding: 3px; text-align: center; white-space: nowrap;\">…</td><td style=\"padding: 3px; text-align: center; white-space: nowrap;\">7745</td></tr></table></td><td style=\"padding: 3px; text-align: center; white-space: nowrap;\">…</td><td style=\"padding: 3px; text-align: center; white-space: nowrap;\"><table data-quarto-disable-processing=\"true\" class=\"table-form table-form-bracketed\" style=\"display:inline-table; text-align:center;font-size:12px;width: t;border: 1.5px solid steelblue;border-top-style: none;border-bottom-style: none;border-radius: 5px;border-spacing: 0px;border-collapse:separate;padding: 3px;margin: 0px auto;\"><tr style=\"padding: 0; margin: 0\"><td style=\"padding: 3px; text-align: center; white-space: nowrap;\">7770</td><td style=\"padding: 3px; text-align: center; white-space: nowrap;\">…</td><td style=\"padding: 3px; text-align: center; white-space: nowrap;\">7775</td></tr></table></td></tr></table></td></tr></table>"
      ],
      "text/plain": [
       "<__main__.TableForm>"
      ]
     },
     "execution_count": null,
     "metadata": {},
     "output_type": "execute_result"
    }
   ],
   "source": [
    "TableForm(np.arange(6**5).reshape([6] * 5))"
   ]
  },
  {
   "cell_type": "code",
   "execution_count": null,
   "id": "89a3d301-aeac-485d-ace8-f3d9a873a695",
   "metadata": {},
   "outputs": [
    {
     "data": {
      "text/html": [
       "<div style=\"font-size:12px\">numpy ndarray (6, 6, 6, 6, 6, 6) int64</div><table data-quarto-disable-processing=\"true\" class=\"table-form table-form-boxed\" style=\"display:inline-table; text-align:center;font-size:12px;width: a;border: 1.5px solid steelblue;padding: 3px;margin: 0px 0;\"><tr style=\"padding: 0; margin: 0\"><td style=\"padding: 3px; text-align: center; white-space: nowrap;\"><table data-quarto-disable-processing=\"true\" class=\"table-form table-form-boxed\" style=\"display:inline-table; text-align:center;font-size:12px;width: u;border: 1.5px solid steelblue;padding: 3px;margin: 0px auto;\"><tr style=\"padding: 0; margin: 0\"><td style=\"padding: 3px; text-align: center; white-space: nowrap;\"><table data-quarto-disable-processing=\"true\" class=\"table-form table-form-boxed\" style=\"display:inline-table; text-align:center;font-size:12px;width: t;border: 1.5px solid steelblue;padding: 3px;margin: 0px auto;\"><tr style=\"padding: 0; margin: 0\"><td style=\"padding: 3px; text-align: center; white-space: nowrap;\">0</td><td style=\"padding: 3px; text-align: center; white-space: nowrap;\">…</td><td style=\"padding: 3px; text-align: center; white-space: nowrap;\">5</td></tr>\n",
       "<tr style=\"padding: 0; margin: 0\"><td style=\"padding: 3px; text-align: center; white-space: nowrap;\">︙</td><td style=\"padding: 3px; text-align: center; white-space: nowrap;\">⋱</td><td style=\"padding: 3px; text-align: center; white-space: nowrap;\">︙</td></tr>\n",
       "<tr style=\"padding: 0; margin: 0\"><td style=\"padding: 3px; text-align: center; white-space: nowrap;\">30</td><td style=\"padding: 3px; text-align: center; white-space: nowrap;\">…</td><td style=\"padding: 3px; text-align: center; white-space: nowrap;\">35</td></tr></table></td><td style=\"padding: 3px; text-align: center; white-space: nowrap;\">…</td><td style=\"padding: 3px; text-align: center; white-space: nowrap;\"><table data-quarto-disable-processing=\"true\" class=\"table-form table-form-boxed\" style=\"display:inline-table; text-align:center;font-size:12px;width: t;border: 1.5px solid steelblue;padding: 3px;margin: 0px auto;\"><tr style=\"padding: 0; margin: 0\"><td style=\"padding: 3px; text-align: center; white-space: nowrap;\">180</td><td style=\"padding: 3px; text-align: center; white-space: nowrap;\">…</td><td style=\"padding: 3px; text-align: center; white-space: nowrap;\">185</td></tr>\n",
       "<tr style=\"padding: 0; margin: 0\"><td style=\"padding: 3px; text-align: center; white-space: nowrap;\">︙</td><td style=\"padding: 3px; text-align: center; white-space: nowrap;\">⋱</td><td style=\"padding: 3px; text-align: center; white-space: nowrap;\">︙</td></tr>\n",
       "<tr style=\"padding: 0; margin: 0\"><td style=\"padding: 3px; text-align: center; white-space: nowrap;\">210</td><td style=\"padding: 3px; text-align: center; white-space: nowrap;\">…</td><td style=\"padding: 3px; text-align: center; white-space: nowrap;\">215</td></tr></table></td></tr>\n",
       "<tr style=\"padding: 0; margin: 0\"><td style=\"padding: 3px; text-align: center; white-space: nowrap;\">︙</td><td style=\"padding: 3px; text-align: center; white-space: nowrap;\">⋱</td><td style=\"padding: 3px; text-align: center; white-space: nowrap;\">︙</td></tr>\n",
       "<tr style=\"padding: 0; margin: 0\"><td style=\"padding: 3px; text-align: center; white-space: nowrap;\"><table data-quarto-disable-processing=\"true\" class=\"table-form table-form-boxed\" style=\"display:inline-table; text-align:center;font-size:12px;width: t;border: 1.5px solid steelblue;padding: 3px;margin: 0px auto;\"><tr style=\"padding: 0; margin: 0\"><td style=\"padding: 3px; text-align: center; white-space: nowrap;\">1080</td><td style=\"padding: 3px; text-align: center; white-space: nowrap;\">…</td><td style=\"padding: 3px; text-align: center; white-space: nowrap;\">1085</td></tr>\n",
       "<tr style=\"padding: 0; margin: 0\"><td style=\"padding: 3px; text-align: center; white-space: nowrap;\">︙</td><td style=\"padding: 3px; text-align: center; white-space: nowrap;\">⋱</td><td style=\"padding: 3px; text-align: center; white-space: nowrap;\">︙</td></tr>\n",
       "<tr style=\"padding: 0; margin: 0\"><td style=\"padding: 3px; text-align: center; white-space: nowrap;\">1110</td><td style=\"padding: 3px; text-align: center; white-space: nowrap;\">…</td><td style=\"padding: 3px; text-align: center; white-space: nowrap;\">1115</td></tr></table></td><td style=\"padding: 3px; text-align: center; white-space: nowrap;\">…</td><td style=\"padding: 3px; text-align: center; white-space: nowrap;\"><table data-quarto-disable-processing=\"true\" class=\"table-form table-form-boxed\" style=\"display:inline-table; text-align:center;font-size:12px;width: t;border: 1.5px solid steelblue;padding: 3px;margin: 0px auto;\"><tr style=\"padding: 0; margin: 0\"><td style=\"padding: 3px; text-align: center; white-space: nowrap;\">1260</td><td style=\"padding: 3px; text-align: center; white-space: nowrap;\">…</td><td style=\"padding: 3px; text-align: center; white-space: nowrap;\">1265</td></tr>\n",
       "<tr style=\"padding: 0; margin: 0\"><td style=\"padding: 3px; text-align: center; white-space: nowrap;\">︙</td><td style=\"padding: 3px; text-align: center; white-space: nowrap;\">⋱</td><td style=\"padding: 3px; text-align: center; white-space: nowrap;\">︙</td></tr>\n",
       "<tr style=\"padding: 0; margin: 0\"><td style=\"padding: 3px; text-align: center; white-space: nowrap;\">1290</td><td style=\"padding: 3px; text-align: center; white-space: nowrap;\">…</td><td style=\"padding: 3px; text-align: center; white-space: nowrap;\">1295</td></tr></table></td></tr></table></td><td style=\"padding: 3px; text-align: center; white-space: nowrap;\">…</td><td style=\"padding: 3px; text-align: center; white-space: nowrap;\"><table data-quarto-disable-processing=\"true\" class=\"table-form table-form-boxed\" style=\"display:inline-table; text-align:center;font-size:12px;width: u;border: 1.5px solid steelblue;padding: 3px;margin: 0px auto;\"><tr style=\"padding: 0; margin: 0\"><td style=\"padding: 3px; text-align: center; white-space: nowrap;\"><table data-quarto-disable-processing=\"true\" class=\"table-form table-form-boxed\" style=\"display:inline-table; text-align:center;font-size:12px;width: t;border: 1.5px solid steelblue;padding: 3px;margin: 0px auto;\"><tr style=\"padding: 0; margin: 0\"><td style=\"padding: 3px; text-align: center; white-space: nowrap;\">6480</td><td style=\"padding: 3px; text-align: center; white-space: nowrap;\">…</td><td style=\"padding: 3px; text-align: center; white-space: nowrap;\">6485</td></tr>\n",
       "<tr style=\"padding: 0; margin: 0\"><td style=\"padding: 3px; text-align: center; white-space: nowrap;\">︙</td><td style=\"padding: 3px; text-align: center; white-space: nowrap;\">⋱</td><td style=\"padding: 3px; text-align: center; white-space: nowrap;\">︙</td></tr>\n",
       "<tr style=\"padding: 0; margin: 0\"><td style=\"padding: 3px; text-align: center; white-space: nowrap;\">6510</td><td style=\"padding: 3px; text-align: center; white-space: nowrap;\">…</td><td style=\"padding: 3px; text-align: center; white-space: nowrap;\">6515</td></tr></table></td><td style=\"padding: 3px; text-align: center; white-space: nowrap;\">…</td><td style=\"padding: 3px; text-align: center; white-space: nowrap;\"><table data-quarto-disable-processing=\"true\" class=\"table-form table-form-boxed\" style=\"display:inline-table; text-align:center;font-size:12px;width: t;border: 1.5px solid steelblue;padding: 3px;margin: 0px auto;\"><tr style=\"padding: 0; margin: 0\"><td style=\"padding: 3px; text-align: center; white-space: nowrap;\">6660</td><td style=\"padding: 3px; text-align: center; white-space: nowrap;\">…</td><td style=\"padding: 3px; text-align: center; white-space: nowrap;\">6665</td></tr>\n",
       "<tr style=\"padding: 0; margin: 0\"><td style=\"padding: 3px; text-align: center; white-space: nowrap;\">︙</td><td style=\"padding: 3px; text-align: center; white-space: nowrap;\">⋱</td><td style=\"padding: 3px; text-align: center; white-space: nowrap;\">︙</td></tr>\n",
       "<tr style=\"padding: 0; margin: 0\"><td style=\"padding: 3px; text-align: center; white-space: nowrap;\">6690</td><td style=\"padding: 3px; text-align: center; white-space: nowrap;\">…</td><td style=\"padding: 3px; text-align: center; white-space: nowrap;\">6695</td></tr></table></td></tr>\n",
       "<tr style=\"padding: 0; margin: 0\"><td style=\"padding: 3px; text-align: center; white-space: nowrap;\">︙</td><td style=\"padding: 3px; text-align: center; white-space: nowrap;\">⋱</td><td style=\"padding: 3px; text-align: center; white-space: nowrap;\">︙</td></tr>\n",
       "<tr style=\"padding: 0; margin: 0\"><td style=\"padding: 3px; text-align: center; white-space: nowrap;\"><table data-quarto-disable-processing=\"true\" class=\"table-form table-form-boxed\" style=\"display:inline-table; text-align:center;font-size:12px;width: t;border: 1.5px solid steelblue;padding: 3px;margin: 0px auto;\"><tr style=\"padding: 0; margin: 0\"><td style=\"padding: 3px; text-align: center; white-space: nowrap;\">7560</td><td style=\"padding: 3px; text-align: center; white-space: nowrap;\">…</td><td style=\"padding: 3px; text-align: center; white-space: nowrap;\">7565</td></tr>\n",
       "<tr style=\"padding: 0; margin: 0\"><td style=\"padding: 3px; text-align: center; white-space: nowrap;\">︙</td><td style=\"padding: 3px; text-align: center; white-space: nowrap;\">⋱</td><td style=\"padding: 3px; text-align: center; white-space: nowrap;\">︙</td></tr>\n",
       "<tr style=\"padding: 0; margin: 0\"><td style=\"padding: 3px; text-align: center; white-space: nowrap;\">7590</td><td style=\"padding: 3px; text-align: center; white-space: nowrap;\">…</td><td style=\"padding: 3px; text-align: center; white-space: nowrap;\">7595</td></tr></table></td><td style=\"padding: 3px; text-align: center; white-space: nowrap;\">…</td><td style=\"padding: 3px; text-align: center; white-space: nowrap;\"><table data-quarto-disable-processing=\"true\" class=\"table-form table-form-boxed\" style=\"display:inline-table; text-align:center;font-size:12px;width: t;border: 1.5px solid steelblue;padding: 3px;margin: 0px auto;\"><tr style=\"padding: 0; margin: 0\"><td style=\"padding: 3px; text-align: center; white-space: nowrap;\">7740</td><td style=\"padding: 3px; text-align: center; white-space: nowrap;\">…</td><td style=\"padding: 3px; text-align: center; white-space: nowrap;\">7745</td></tr>\n",
       "<tr style=\"padding: 0; margin: 0\"><td style=\"padding: 3px; text-align: center; white-space: nowrap;\">︙</td><td style=\"padding: 3px; text-align: center; white-space: nowrap;\">⋱</td><td style=\"padding: 3px; text-align: center; white-space: nowrap;\">︙</td></tr>\n",
       "<tr style=\"padding: 0; margin: 0\"><td style=\"padding: 3px; text-align: center; white-space: nowrap;\">7770</td><td style=\"padding: 3px; text-align: center; white-space: nowrap;\">…</td><td style=\"padding: 3px; text-align: center; white-space: nowrap;\">7775</td></tr></table></td></tr></table></td></tr>\n",
       "<tr style=\"padding: 0; margin: 0\"><td style=\"padding: 3px; text-align: center; white-space: nowrap;\">︙</td><td style=\"padding: 3px; text-align: center; white-space: nowrap;\">⋱</td><td style=\"padding: 3px; text-align: center; white-space: nowrap;\">︙</td></tr>\n",
       "<tr style=\"padding: 0; margin: 0\"><td style=\"padding: 3px; text-align: center; white-space: nowrap;\"><table data-quarto-disable-processing=\"true\" class=\"table-form table-form-boxed\" style=\"display:inline-table; text-align:center;font-size:12px;width: u;border: 1.5px solid steelblue;padding: 3px;margin: 0px auto;\"><tr style=\"padding: 0; margin: 0\"><td style=\"padding: 3px; text-align: center; white-space: nowrap;\"><table data-quarto-disable-processing=\"true\" class=\"table-form table-form-boxed\" style=\"display:inline-table; text-align:center;font-size:12px;width: t;border: 1.5px solid steelblue;padding: 3px;margin: 0px auto;\"><tr style=\"padding: 0; margin: 0\"><td style=\"padding: 3px; text-align: center; white-space: nowrap;\">38880</td><td style=\"padding: 3px; text-align: center; white-space: nowrap;\">…</td><td style=\"padding: 3px; text-align: center; white-space: nowrap;\">38885</td></tr>\n",
       "<tr style=\"padding: 0; margin: 0\"><td style=\"padding: 3px; text-align: center; white-space: nowrap;\">︙</td><td style=\"padding: 3px; text-align: center; white-space: nowrap;\">⋱</td><td style=\"padding: 3px; text-align: center; white-space: nowrap;\">︙</td></tr>\n",
       "<tr style=\"padding: 0; margin: 0\"><td style=\"padding: 3px; text-align: center; white-space: nowrap;\">38910</td><td style=\"padding: 3px; text-align: center; white-space: nowrap;\">…</td><td style=\"padding: 3px; text-align: center; white-space: nowrap;\">38915</td></tr></table></td><td style=\"padding: 3px; text-align: center; white-space: nowrap;\">…</td><td style=\"padding: 3px; text-align: center; white-space: nowrap;\"><table data-quarto-disable-processing=\"true\" class=\"table-form table-form-boxed\" style=\"display:inline-table; text-align:center;font-size:12px;width: t;border: 1.5px solid steelblue;padding: 3px;margin: 0px auto;\"><tr style=\"padding: 0; margin: 0\"><td style=\"padding: 3px; text-align: center; white-space: nowrap;\">39060</td><td style=\"padding: 3px; text-align: center; white-space: nowrap;\">…</td><td style=\"padding: 3px; text-align: center; white-space: nowrap;\">39065</td></tr>\n",
       "<tr style=\"padding: 0; margin: 0\"><td style=\"padding: 3px; text-align: center; white-space: nowrap;\">︙</td><td style=\"padding: 3px; text-align: center; white-space: nowrap;\">⋱</td><td style=\"padding: 3px; text-align: center; white-space: nowrap;\">︙</td></tr>\n",
       "<tr style=\"padding: 0; margin: 0\"><td style=\"padding: 3px; text-align: center; white-space: nowrap;\">39090</td><td style=\"padding: 3px; text-align: center; white-space: nowrap;\">…</td><td style=\"padding: 3px; text-align: center; white-space: nowrap;\">39095</td></tr></table></td></tr>\n",
       "<tr style=\"padding: 0; margin: 0\"><td style=\"padding: 3px; text-align: center; white-space: nowrap;\">︙</td><td style=\"padding: 3px; text-align: center; white-space: nowrap;\">⋱</td><td style=\"padding: 3px; text-align: center; white-space: nowrap;\">︙</td></tr>\n",
       "<tr style=\"padding: 0; margin: 0\"><td style=\"padding: 3px; text-align: center; white-space: nowrap;\"><table data-quarto-disable-processing=\"true\" class=\"table-form table-form-boxed\" style=\"display:inline-table; text-align:center;font-size:12px;width: t;border: 1.5px solid steelblue;padding: 3px;margin: 0px auto;\"><tr style=\"padding: 0; margin: 0\"><td style=\"padding: 3px; text-align: center; white-space: nowrap;\">39960</td><td style=\"padding: 3px; text-align: center; white-space: nowrap;\">…</td><td style=\"padding: 3px; text-align: center; white-space: nowrap;\">39965</td></tr>\n",
       "<tr style=\"padding: 0; margin: 0\"><td style=\"padding: 3px; text-align: center; white-space: nowrap;\">︙</td><td style=\"padding: 3px; text-align: center; white-space: nowrap;\">⋱</td><td style=\"padding: 3px; text-align: center; white-space: nowrap;\">︙</td></tr>\n",
       "<tr style=\"padding: 0; margin: 0\"><td style=\"padding: 3px; text-align: center; white-space: nowrap;\">39990</td><td style=\"padding: 3px; text-align: center; white-space: nowrap;\">…</td><td style=\"padding: 3px; text-align: center; white-space: nowrap;\">39995</td></tr></table></td><td style=\"padding: 3px; text-align: center; white-space: nowrap;\">…</td><td style=\"padding: 3px; text-align: center; white-space: nowrap;\"><table data-quarto-disable-processing=\"true\" class=\"table-form table-form-boxed\" style=\"display:inline-table; text-align:center;font-size:12px;width: t;border: 1.5px solid steelblue;padding: 3px;margin: 0px auto;\"><tr style=\"padding: 0; margin: 0\"><td style=\"padding: 3px; text-align: center; white-space: nowrap;\">40140</td><td style=\"padding: 3px; text-align: center; white-space: nowrap;\">…</td><td style=\"padding: 3px; text-align: center; white-space: nowrap;\">40145</td></tr>\n",
       "<tr style=\"padding: 0; margin: 0\"><td style=\"padding: 3px; text-align: center; white-space: nowrap;\">︙</td><td style=\"padding: 3px; text-align: center; white-space: nowrap;\">⋱</td><td style=\"padding: 3px; text-align: center; white-space: nowrap;\">︙</td></tr>\n",
       "<tr style=\"padding: 0; margin: 0\"><td style=\"padding: 3px; text-align: center; white-space: nowrap;\">40170</td><td style=\"padding: 3px; text-align: center; white-space: nowrap;\">…</td><td style=\"padding: 3px; text-align: center; white-space: nowrap;\">40175</td></tr></table></td></tr></table></td><td style=\"padding: 3px; text-align: center; white-space: nowrap;\">…</td><td style=\"padding: 3px; text-align: center; white-space: nowrap;\"><table data-quarto-disable-processing=\"true\" class=\"table-form table-form-boxed\" style=\"display:inline-table; text-align:center;font-size:12px;width: u;border: 1.5px solid steelblue;padding: 3px;margin: 0px auto;\"><tr style=\"padding: 0; margin: 0\"><td style=\"padding: 3px; text-align: center; white-space: nowrap;\"><table data-quarto-disable-processing=\"true\" class=\"table-form table-form-boxed\" style=\"display:inline-table; text-align:center;font-size:12px;width: t;border: 1.5px solid steelblue;padding: 3px;margin: 0px auto;\"><tr style=\"padding: 0; margin: 0\"><td style=\"padding: 3px; text-align: center; white-space: nowrap;\">45360</td><td style=\"padding: 3px; text-align: center; white-space: nowrap;\">…</td><td style=\"padding: 3px; text-align: center; white-space: nowrap;\">45365</td></tr>\n",
       "<tr style=\"padding: 0; margin: 0\"><td style=\"padding: 3px; text-align: center; white-space: nowrap;\">︙</td><td style=\"padding: 3px; text-align: center; white-space: nowrap;\">⋱</td><td style=\"padding: 3px; text-align: center; white-space: nowrap;\">︙</td></tr>\n",
       "<tr style=\"padding: 0; margin: 0\"><td style=\"padding: 3px; text-align: center; white-space: nowrap;\">45390</td><td style=\"padding: 3px; text-align: center; white-space: nowrap;\">…</td><td style=\"padding: 3px; text-align: center; white-space: nowrap;\">45395</td></tr></table></td><td style=\"padding: 3px; text-align: center; white-space: nowrap;\">…</td><td style=\"padding: 3px; text-align: center; white-space: nowrap;\"><table data-quarto-disable-processing=\"true\" class=\"table-form table-form-boxed\" style=\"display:inline-table; text-align:center;font-size:12px;width: t;border: 1.5px solid steelblue;padding: 3px;margin: 0px auto;\"><tr style=\"padding: 0; margin: 0\"><td style=\"padding: 3px; text-align: center; white-space: nowrap;\">45540</td><td style=\"padding: 3px; text-align: center; white-space: nowrap;\">…</td><td style=\"padding: 3px; text-align: center; white-space: nowrap;\">45545</td></tr>\n",
       "<tr style=\"padding: 0; margin: 0\"><td style=\"padding: 3px; text-align: center; white-space: nowrap;\">︙</td><td style=\"padding: 3px; text-align: center; white-space: nowrap;\">⋱</td><td style=\"padding: 3px; text-align: center; white-space: nowrap;\">︙</td></tr>\n",
       "<tr style=\"padding: 0; margin: 0\"><td style=\"padding: 3px; text-align: center; white-space: nowrap;\">45570</td><td style=\"padding: 3px; text-align: center; white-space: nowrap;\">…</td><td style=\"padding: 3px; text-align: center; white-space: nowrap;\">45575</td></tr></table></td></tr>\n",
       "<tr style=\"padding: 0; margin: 0\"><td style=\"padding: 3px; text-align: center; white-space: nowrap;\">︙</td><td style=\"padding: 3px; text-align: center; white-space: nowrap;\">⋱</td><td style=\"padding: 3px; text-align: center; white-space: nowrap;\">︙</td></tr>\n",
       "<tr style=\"padding: 0; margin: 0\"><td style=\"padding: 3px; text-align: center; white-space: nowrap;\"><table data-quarto-disable-processing=\"true\" class=\"table-form table-form-boxed\" style=\"display:inline-table; text-align:center;font-size:12px;width: t;border: 1.5px solid steelblue;padding: 3px;margin: 0px auto;\"><tr style=\"padding: 0; margin: 0\"><td style=\"padding: 3px; text-align: center; white-space: nowrap;\">46440</td><td style=\"padding: 3px; text-align: center; white-space: nowrap;\">…</td><td style=\"padding: 3px; text-align: center; white-space: nowrap;\">46445</td></tr>\n",
       "<tr style=\"padding: 0; margin: 0\"><td style=\"padding: 3px; text-align: center; white-space: nowrap;\">︙</td><td style=\"padding: 3px; text-align: center; white-space: nowrap;\">⋱</td><td style=\"padding: 3px; text-align: center; white-space: nowrap;\">︙</td></tr>\n",
       "<tr style=\"padding: 0; margin: 0\"><td style=\"padding: 3px; text-align: center; white-space: nowrap;\">46470</td><td style=\"padding: 3px; text-align: center; white-space: nowrap;\">…</td><td style=\"padding: 3px; text-align: center; white-space: nowrap;\">46475</td></tr></table></td><td style=\"padding: 3px; text-align: center; white-space: nowrap;\">…</td><td style=\"padding: 3px; text-align: center; white-space: nowrap;\"><table data-quarto-disable-processing=\"true\" class=\"table-form table-form-boxed\" style=\"display:inline-table; text-align:center;font-size:12px;width: t;border: 1.5px solid steelblue;padding: 3px;margin: 0px auto;\"><tr style=\"padding: 0; margin: 0\"><td style=\"padding: 3px; text-align: center; white-space: nowrap;\">46620</td><td style=\"padding: 3px; text-align: center; white-space: nowrap;\">…</td><td style=\"padding: 3px; text-align: center; white-space: nowrap;\">46625</td></tr>\n",
       "<tr style=\"padding: 0; margin: 0\"><td style=\"padding: 3px; text-align: center; white-space: nowrap;\">︙</td><td style=\"padding: 3px; text-align: center; white-space: nowrap;\">⋱</td><td style=\"padding: 3px; text-align: center; white-space: nowrap;\">︙</td></tr>\n",
       "<tr style=\"padding: 0; margin: 0\"><td style=\"padding: 3px; text-align: center; white-space: nowrap;\">46650</td><td style=\"padding: 3px; text-align: center; white-space: nowrap;\">…</td><td style=\"padding: 3px; text-align: center; white-space: nowrap;\">46655</td></tr></table></td></tr></table></td></tr></table>"
      ],
      "text/plain": [
       "<__main__.TableForm>"
      ]
     },
     "execution_count": null,
     "metadata": {},
     "output_type": "execute_result"
    }
   ],
   "source": [
    "TableForm(np.arange(6**6).reshape([6] * 6))"
   ]
  },
  {
   "cell_type": "markdown",
   "id": "517858b8-3005-4381-80f9-7c8610dee785",
   "metadata": {},
   "source": [
    "Complex dtype"
   ]
  },
  {
   "cell_type": "code",
   "execution_count": null,
   "id": "3811f63e-fc3a-4b5b-82f6-276f9ac981ff",
   "metadata": {},
   "outputs": [
    {
     "data": {
      "text/html": [
       "<div style=\"font-size:12px\">numpy ndarray (40, 40, 40) complex128</div><table data-quarto-disable-processing=\"true\" class=\"table-form table-form-boxed\" style=\"display:inline-table; text-align:center;font-size:12px;width: a;border: 1.5px solid steelblue;padding: 3px;margin: 0px 0;\"><tr style=\"padding: 0; margin: 0\"><td style=\"padding: 3px; text-align: center; white-space: nowrap;\"><table data-quarto-disable-processing=\"true\" class=\"table-form table-form-bracketed\" style=\"display:inline-table; text-align:center;font-size:12px;width: u;border: 1.5px solid steelblue;border-top-style: none;border-bottom-style: none;border-radius: 5px;border-spacing: 0px;border-collapse:separate;padding: 3px;margin: 0px auto;\"><tr style=\"padding: 0; margin: 0\"><td style=\"padding: 3px; text-align: center; white-space: nowrap;\"><div style=\"font-size:12px;\">1.72-0.38j</div></td><td style=\"padding: 3px; text-align: center; white-space: nowrap;\"><div style=\"font-size:12px;\">-0.78-2.77j</div></td><td style=\"padding: 3px; text-align: center; white-space: nowrap;\"><div style=\"font-size:12px;\">-1.65+0.19j</div></td><td style=\"padding: 3px; text-align: center; white-space: nowrap;\">…</td><td style=\"padding: 3px; text-align: center; white-space: nowrap;\"><div style=\"font-size:12px;\">0.32+0.42j</div></td><td style=\"padding: 3px; text-align: center; white-space: nowrap;\"><div style=\"font-size:12px;\">1.54+1.17j</div></td><td style=\"padding: 3px; text-align: center; white-space: nowrap;\"><div style=\"font-size:12px;\">0.30+0.93j</div></td></tr></table></td><td style=\"padding: 3px; text-align: center; white-space: nowrap;\"><table data-quarto-disable-processing=\"true\" class=\"table-form table-form-bracketed\" style=\"display:inline-table; text-align:center;font-size:12px;width: u;border: 1.5px solid steelblue;border-top-style: none;border-bottom-style: none;border-radius: 5px;border-spacing: 0px;border-collapse:separate;padding: 3px;margin: 0px auto;\"><tr style=\"padding: 0; margin: 0\"><td style=\"padding: 3px; text-align: center; white-space: nowrap;\"><div style=\"font-size:12px;\">-0.42+0.28j</div></td><td style=\"padding: 3px; text-align: center; white-space: nowrap;\"><div style=\"font-size:12px;\">-1.53-1.16j</div></td><td style=\"padding: 3px; text-align: center; white-space: nowrap;\"><div style=\"font-size:12px;\">1.55+0.92j</div></td><td style=\"padding: 3px; text-align: center; white-space: nowrap;\">…</td><td style=\"padding: 3px; text-align: center; white-space: nowrap;\"><div style=\"font-size:12px;\">-0.31+0.36j</div></td><td style=\"padding: 3px; text-align: center; white-space: nowrap;\"><div style=\"font-size:12px;\">-0.93+0.11j</div></td><td style=\"padding: 3px; text-align: center; white-space: nowrap;\"><div style=\"font-size:12px;\">0.05+0.87j</div></td></tr></table></td><td style=\"padding: 3px; text-align: center; white-space: nowrap;\"><table data-quarto-disable-processing=\"true\" class=\"table-form table-form-bracketed\" style=\"display:inline-table; text-align:center;font-size:12px;width: u;border: 1.5px solid steelblue;border-top-style: none;border-bottom-style: none;border-radius: 5px;border-spacing: 0px;border-collapse:separate;padding: 3px;margin: 0px auto;\"><tr style=\"padding: 0; margin: 0\"><td style=\"padding: 3px; text-align: center; white-space: nowrap;\"><div style=\"font-size:12px;\">0.56-0.48j</div></td><td style=\"padding: 3px; text-align: center; white-space: nowrap;\"><div style=\"font-size:12px;\">1.53+1.45j</div></td><td style=\"padding: 3px; text-align: center; white-space: nowrap;\"><div style=\"font-size:12px;\">1.31-1.00j</div></td><td style=\"padding: 3px; text-align: center; white-space: nowrap;\">…</td><td style=\"padding: 3px; text-align: center; white-space: nowrap;\"><div style=\"font-size:12px;\">0.03-0.05j</div></td><td style=\"padding: 3px; text-align: center; white-space: nowrap;\"><div style=\"font-size:12px;\">-0.77-0.67j</div></td><td style=\"padding: 3px; text-align: center; white-space: nowrap;\"><div style=\"font-size:12px;\">1.91+1.73j</div></td></tr></table></td><td style=\"padding: 3px; text-align: center; white-space: nowrap;\">…</td><td style=\"padding: 3px; text-align: center; white-space: nowrap;\"><table data-quarto-disable-processing=\"true\" class=\"table-form table-form-bracketed\" style=\"display:inline-table; text-align:center;font-size:12px;width: u;border: 1.5px solid steelblue;border-top-style: none;border-bottom-style: none;border-radius: 5px;border-spacing: 0px;border-collapse:separate;padding: 3px;margin: 0px auto;\"><tr style=\"padding: 0; margin: 0\"><td style=\"padding: 3px; text-align: center; white-space: nowrap;\"><div style=\"font-size:12px;\">-0.00+1.50j</div></td><td style=\"padding: 3px; text-align: center; white-space: nowrap;\"><div style=\"font-size:12px;\">-1.10-1.19j</div></td><td style=\"padding: 3px; text-align: center; white-space: nowrap;\"><div style=\"font-size:12px;\">0.03-2.20j</div></td><td style=\"padding: 3px; text-align: center; white-space: nowrap;\">…</td><td style=\"padding: 3px; text-align: center; white-space: nowrap;\"><div style=\"font-size:12px;\">-0.61-1.62j</div></td><td style=\"padding: 3px; text-align: center; white-space: nowrap;\"><div style=\"font-size:12px;\">-0.00-2.25j</div></td><td style=\"padding: 3px; text-align: center; white-space: nowrap;\"><div style=\"font-size:12px;\">0.68+1.53j</div></td></tr></table></td><td style=\"padding: 3px; text-align: center; white-space: nowrap;\"><table data-quarto-disable-processing=\"true\" class=\"table-form table-form-bracketed\" style=\"display:inline-table; text-align:center;font-size:12px;width: u;border: 1.5px solid steelblue;border-top-style: none;border-bottom-style: none;border-radius: 5px;border-spacing: 0px;border-collapse:separate;padding: 3px;margin: 0px auto;\"><tr style=\"padding: 0; margin: 0\"><td style=\"padding: 3px; text-align: center; white-space: nowrap;\"><div style=\"font-size:12px;\">-0.96-0.74j</div></td><td style=\"padding: 3px; text-align: center; white-space: nowrap;\"><div style=\"font-size:12px;\">-0.09-0.32j</div></td><td style=\"padding: 3px; text-align: center; white-space: nowrap;\"><div style=\"font-size:12px;\">0.94-1.91j</div></td><td style=\"padding: 3px; text-align: center; white-space: nowrap;\">…</td><td style=\"padding: 3px; text-align: center; white-space: nowrap;\"><div style=\"font-size:12px;\">-0.16-0.70j</div></td><td style=\"padding: 3px; text-align: center; white-space: nowrap;\"><div style=\"font-size:12px;\">1.52+1.67j</div></td><td style=\"padding: 3px; text-align: center; white-space: nowrap;\"><div style=\"font-size:12px;\">1.29+0.88j</div></td></tr></table></td><td style=\"padding: 3px; text-align: center; white-space: nowrap;\"><table data-quarto-disable-processing=\"true\" class=\"table-form table-form-bracketed\" style=\"display:inline-table; text-align:center;font-size:12px;width: u;border: 1.5px solid steelblue;border-top-style: none;border-bottom-style: none;border-radius: 5px;border-spacing: 0px;border-collapse:separate;padding: 3px;margin: 0px auto;\"><tr style=\"padding: 0; margin: 0\"><td style=\"padding: 3px; text-align: center; white-space: nowrap;\"><div style=\"font-size:12px;\">0.70+1.44j</div></td><td style=\"padding: 3px; text-align: center; white-space: nowrap;\"><div style=\"font-size:12px;\">-0.17+1.01j</div></td><td style=\"padding: 3px; text-align: center; white-space: nowrap;\"><div style=\"font-size:12px;\">-1.88+1.74j</div></td><td style=\"padding: 3px; text-align: center; white-space: nowrap;\">…</td><td style=\"padding: 3px; text-align: center; white-space: nowrap;\"><div style=\"font-size:12px;\">0.02-0.90j</div></td><td style=\"padding: 3px; text-align: center; white-space: nowrap;\"><div style=\"font-size:12px;\">-0.96+0.46j</div></td><td style=\"padding: 3px; text-align: center; white-space: nowrap;\"><div style=\"font-size:12px;\">-0.76+1.52j</div></td></tr></table></td></tr>\n",
       "<tr style=\"padding: 0; margin: 0\"><td style=\"padding: 3px; text-align: center; white-space: nowrap;\"><table data-quarto-disable-processing=\"true\" class=\"table-form table-form-bracketed\" style=\"display:inline-table; text-align:center;font-size:12px;width: u;border: 1.5px solid steelblue;border-top-style: none;border-bottom-style: none;border-radius: 5px;border-spacing: 0px;border-collapse:separate;padding: 3px;margin: 0px auto;\"><tr style=\"padding: 0; margin: 0\"><td style=\"padding: 3px; text-align: center; white-space: nowrap;\"><div style=\"font-size:12px;\">0.05+1.75j</div></td><td style=\"padding: 3px; text-align: center; white-space: nowrap;\"><div style=\"font-size:12px;\">-0.33-0.54j</div></td><td style=\"padding: 3px; text-align: center; white-space: nowrap;\"><div style=\"font-size:12px;\">1.08-2.27j</div></td><td style=\"padding: 3px; text-align: center; white-space: nowrap;\">…</td><td style=\"padding: 3px; text-align: center; white-space: nowrap;\"><div style=\"font-size:12px;\">-1.01+0.19j</div></td><td style=\"padding: 3px; text-align: center; white-space: nowrap;\"><div style=\"font-size:12px;\">-0.52-0.64j</div></td><td style=\"padding: 3px; text-align: center; white-space: nowrap;\"><div style=\"font-size:12px;\">-0.16-1.47j</div></td></tr></table></td><td style=\"padding: 3px; text-align: center; white-space: nowrap;\"><table data-quarto-disable-processing=\"true\" class=\"table-form table-form-bracketed\" style=\"display:inline-table; text-align:center;font-size:12px;width: u;border: 1.5px solid steelblue;border-top-style: none;border-bottom-style: none;border-radius: 5px;border-spacing: 0px;border-collapse:separate;padding: 3px;margin: 0px auto;\"><tr style=\"padding: 0; margin: 0\"><td style=\"padding: 3px; text-align: center; white-space: nowrap;\"><div style=\"font-size:12px;\">0.11-0.86j</div></td><td style=\"padding: 3px; text-align: center; white-space: nowrap;\"><div style=\"font-size:12px;\">-0.37+0.16j</div></td><td style=\"padding: 3px; text-align: center; white-space: nowrap;\"><div style=\"font-size:12px;\">0.25+0.80j</div></td><td style=\"padding: 3px; text-align: center; white-space: nowrap;\">…</td><td style=\"padding: 3px; text-align: center; white-space: nowrap;\"><div style=\"font-size:12px;\">-0.17+1.85j</div></td><td style=\"padding: 3px; text-align: center; white-space: nowrap;\"><div style=\"font-size:12px;\">-1.92-0.49j</div></td><td style=\"padding: 3px; text-align: center; white-space: nowrap;\"><div style=\"font-size:12px;\">1.96+0.30j</div></td></tr></table></td><td style=\"padding: 3px; text-align: center; white-space: nowrap;\"><table data-quarto-disable-processing=\"true\" class=\"table-form table-form-bracketed\" style=\"display:inline-table; text-align:center;font-size:12px;width: u;border: 1.5px solid steelblue;border-top-style: none;border-bottom-style: none;border-radius: 5px;border-spacing: 0px;border-collapse:separate;padding: 3px;margin: 0px auto;\"><tr style=\"padding: 0; margin: 0\"><td style=\"padding: 3px; text-align: center; white-space: nowrap;\"><div style=\"font-size:12px;\">-0.76+0.63j</div></td><td style=\"padding: 3px; text-align: center; white-space: nowrap;\"><div style=\"font-size:12px;\">-0.77+0.69j</div></td><td style=\"padding: 3px; text-align: center; white-space: nowrap;\"><div style=\"font-size:12px;\">-1.09-0.94j</div></td><td style=\"padding: 3px; text-align: center; white-space: nowrap;\">…</td><td style=\"padding: 3px; text-align: center; white-space: nowrap;\"><div style=\"font-size:12px;\">-0.44-1.34j</div></td><td style=\"padding: 3px; text-align: center; white-space: nowrap;\"><div style=\"font-size:12px;\">0.82-0.49j</div></td><td style=\"padding: 3px; text-align: center; white-space: nowrap;\"><div style=\"font-size:12px;\">0.72+0.54j</div></td></tr></table></td><td style=\"padding: 3px; text-align: center; white-space: nowrap;\">…</td><td style=\"padding: 3px; text-align: center; white-space: nowrap;\"><table data-quarto-disable-processing=\"true\" class=\"table-form table-form-bracketed\" style=\"display:inline-table; text-align:center;font-size:12px;width: u;border: 1.5px solid steelblue;border-top-style: none;border-bottom-style: none;border-radius: 5px;border-spacing: 0px;border-collapse:separate;padding: 3px;margin: 0px auto;\"><tr style=\"padding: 0; margin: 0\"><td style=\"padding: 3px; text-align: center; white-space: nowrap;\"><div style=\"font-size:12px;\">-0.67-0.77j</div></td><td style=\"padding: 3px; text-align: center; white-space: nowrap;\"><div style=\"font-size:12px;\">-0.15-1.48j</div></td><td style=\"padding: 3px; text-align: center; white-space: nowrap;\"><div style=\"font-size:12px;\">1.32+1.02j</div></td><td style=\"padding: 3px; text-align: center; white-space: nowrap;\">…</td><td style=\"padding: 3px; text-align: center; white-space: nowrap;\"><div style=\"font-size:12px;\">-1.82-1.54j</div></td><td style=\"padding: 3px; text-align: center; white-space: nowrap;\"><div style=\"font-size:12px;\">-0.39-0.94j</div></td><td style=\"padding: 3px; text-align: center; white-space: nowrap;\"><div style=\"font-size:12px;\">-0.53-0.48j</div></td></tr></table></td><td style=\"padding: 3px; text-align: center; white-space: nowrap;\"><table data-quarto-disable-processing=\"true\" class=\"table-form table-form-bracketed\" style=\"display:inline-table; text-align:center;font-size:12px;width: u;border: 1.5px solid steelblue;border-top-style: none;border-bottom-style: none;border-radius: 5px;border-spacing: 0px;border-collapse:separate;padding: 3px;margin: 0px auto;\"><tr style=\"padding: 0; margin: 0\"><td style=\"padding: 3px; text-align: center; white-space: nowrap;\"><div style=\"font-size:12px;\">-0.02-0.87j</div></td><td style=\"padding: 3px; text-align: center; white-space: nowrap;\"><div style=\"font-size:12px;\">1.35+1.01j</div></td><td style=\"padding: 3px; text-align: center; white-space: nowrap;\"><div style=\"font-size:12px;\">-0.71-1.00j</div></td><td style=\"padding: 3px; text-align: center; white-space: nowrap;\">…</td><td style=\"padding: 3px; text-align: center; white-space: nowrap;\"><div style=\"font-size:12px;\">-0.70-1.16j</div></td><td style=\"padding: 3px; text-align: center; white-space: nowrap;\"><div style=\"font-size:12px;\">-0.47+0.89j</div></td><td style=\"padding: 3px; text-align: center; white-space: nowrap;\"><div style=\"font-size:12px;\">-0.15-0.53j</div></td></tr></table></td><td style=\"padding: 3px; text-align: center; white-space: nowrap;\"><table data-quarto-disable-processing=\"true\" class=\"table-form table-form-bracketed\" style=\"display:inline-table; text-align:center;font-size:12px;width: u;border: 1.5px solid steelblue;border-top-style: none;border-bottom-style: none;border-radius: 5px;border-spacing: 0px;border-collapse:separate;padding: 3px;margin: 0px auto;\"><tr style=\"padding: 0; margin: 0\"><td style=\"padding: 3px; text-align: center; white-space: nowrap;\"><div style=\"font-size:12px;\">-2.00+0.54j</div></td><td style=\"padding: 3px; text-align: center; white-space: nowrap;\"><div style=\"font-size:12px;\">-0.26+0.75j</div></td><td style=\"padding: 3px; text-align: center; white-space: nowrap;\"><div style=\"font-size:12px;\">0.87-1.29j</div></td><td style=\"padding: 3px; text-align: center; white-space: nowrap;\">…</td><td style=\"padding: 3px; text-align: center; white-space: nowrap;\"><div style=\"font-size:12px;\">0.31+0.50j</div></td><td style=\"padding: 3px; text-align: center; white-space: nowrap;\"><div style=\"font-size:12px;\">-1.69+2.45j</div></td><td style=\"padding: 3px; text-align: center; white-space: nowrap;\"><div style=\"font-size:12px;\">-0.81+0.44j</div></td></tr></table></td></tr>\n",
       "<tr style=\"padding: 0; margin: 0\"><td style=\"padding: 3px; text-align: center; white-space: nowrap;\"><table data-quarto-disable-processing=\"true\" class=\"table-form table-form-bracketed\" style=\"display:inline-table; text-align:center;font-size:12px;width: u;border: 1.5px solid steelblue;border-top-style: none;border-bottom-style: none;border-radius: 5px;border-spacing: 0px;border-collapse:separate;padding: 3px;margin: 0px auto;\"><tr style=\"padding: 0; margin: 0\"><td style=\"padding: 3px; text-align: center; white-space: nowrap;\"><div style=\"font-size:12px;\">0.14+0.66j</div></td><td style=\"padding: 3px; text-align: center; white-space: nowrap;\"><div style=\"font-size:12px;\">0.86+1.24j</div></td><td style=\"padding: 3px; text-align: center; white-space: nowrap;\"><div style=\"font-size:12px;\">-1.07+0.46j</div></td><td style=\"padding: 3px; text-align: center; white-space: nowrap;\">…</td><td style=\"padding: 3px; text-align: center; white-space: nowrap;\"><div style=\"font-size:12px;\">-0.19-0.27j</div></td><td style=\"padding: 3px; text-align: center; white-space: nowrap;\"><div style=\"font-size:12px;\">-0.82+0.42j</div></td><td style=\"padding: 3px; text-align: center; white-space: nowrap;\"><div style=\"font-size:12px;\">1.26-0.18j</div></td></tr></table></td><td style=\"padding: 3px; text-align: center; white-space: nowrap;\"><table data-quarto-disable-processing=\"true\" class=\"table-form table-form-bracketed\" style=\"display:inline-table; text-align:center;font-size:12px;width: u;border: 1.5px solid steelblue;border-top-style: none;border-bottom-style: none;border-radius: 5px;border-spacing: 0px;border-collapse:separate;padding: 3px;margin: 0px auto;\"><tr style=\"padding: 0; margin: 0\"><td style=\"padding: 3px; text-align: center; white-space: nowrap;\"><div style=\"font-size:12px;\">-2.22+1.20j</div></td><td style=\"padding: 3px; text-align: center; white-space: nowrap;\"><div style=\"font-size:12px;\">2.42-0.57j</div></td><td style=\"padding: 3px; text-align: center; white-space: nowrap;\"><div style=\"font-size:12px;\">1.31+1.72j</div></td><td style=\"padding: 3px; text-align: center; white-space: nowrap;\">…</td><td style=\"padding: 3px; text-align: center; white-space: nowrap;\"><div style=\"font-size:12px;\">-0.48-1.07j</div></td><td style=\"padding: 3px; text-align: center; white-space: nowrap;\"><div style=\"font-size:12px;\">1.00-0.43j</div></td><td style=\"padding: 3px; text-align: center; white-space: nowrap;\"><div style=\"font-size:12px;\">1.01+0.94j</div></td></tr></table></td><td style=\"padding: 3px; text-align: center; white-space: nowrap;\"><table data-quarto-disable-processing=\"true\" class=\"table-form table-form-bracketed\" style=\"display:inline-table; text-align:center;font-size:12px;width: u;border: 1.5px solid steelblue;border-top-style: none;border-bottom-style: none;border-radius: 5px;border-spacing: 0px;border-collapse:separate;padding: 3px;margin: 0px auto;\"><tr style=\"padding: 0; margin: 0\"><td style=\"padding: 3px; text-align: center; white-space: nowrap;\"><div style=\"font-size:12px;\">-0.17-0.88j</div></td><td style=\"padding: 3px; text-align: center; white-space: nowrap;\"><div style=\"font-size:12px;\">-0.21+0.40j</div></td><td style=\"padding: 3px; text-align: center; white-space: nowrap;\"><div style=\"font-size:12px;\">-0.64+0.91j</div></td><td style=\"padding: 3px; text-align: center; white-space: nowrap;\">…</td><td style=\"padding: 3px; text-align: center; white-space: nowrap;\"><div style=\"font-size:12px;\">-0.77+0.26j</div></td><td style=\"padding: 3px; text-align: center; white-space: nowrap;\"><div style=\"font-size:12px;\">-0.33-1.01j</div></td><td style=\"padding: 3px; text-align: center; white-space: nowrap;\"><div style=\"font-size:12px;\">-0.15+2.10j</div></td></tr></table></td><td style=\"padding: 3px; text-align: center; white-space: nowrap;\">…</td><td style=\"padding: 3px; text-align: center; white-space: nowrap;\"><table data-quarto-disable-processing=\"true\" class=\"table-form table-form-bracketed\" style=\"display:inline-table; text-align:center;font-size:12px;width: u;border: 1.5px solid steelblue;border-top-style: none;border-bottom-style: none;border-radius: 5px;border-spacing: 0px;border-collapse:separate;padding: 3px;margin: 0px auto;\"><tr style=\"padding: 0; margin: 0\"><td style=\"padding: 3px; text-align: center; white-space: nowrap;\"><div style=\"font-size:12px;\">-0.77-0.95j</div></td><td style=\"padding: 3px; text-align: center; white-space: nowrap;\"><div style=\"font-size:12px;\">1.64-0.36j</div></td><td style=\"padding: 3px; text-align: center; white-space: nowrap;\"><div style=\"font-size:12px;\">0.40+0.53j</div></td><td style=\"padding: 3px; text-align: center; white-space: nowrap;\">…</td><td style=\"padding: 3px; text-align: center; white-space: nowrap;\"><div style=\"font-size:12px;\">-1.12+1.36j</div></td><td style=\"padding: 3px; text-align: center; white-space: nowrap;\"><div style=\"font-size:12px;\">1.81-0.41j</div></td><td style=\"padding: 3px; text-align: center; white-space: nowrap;\"><div style=\"font-size:12px;\">0.59+2.55j</div></td></tr></table></td><td style=\"padding: 3px; text-align: center; white-space: nowrap;\"><table data-quarto-disable-processing=\"true\" class=\"table-form table-form-bracketed\" style=\"display:inline-table; text-align:center;font-size:12px;width: u;border: 1.5px solid steelblue;border-top-style: none;border-bottom-style: none;border-radius: 5px;border-spacing: 0px;border-collapse:separate;padding: 3px;margin: 0px auto;\"><tr style=\"padding: 0; margin: 0\"><td style=\"padding: 3px; text-align: center; white-space: nowrap;\"><div style=\"font-size:12px;\">-1.15+1.96j</div></td><td style=\"padding: 3px; text-align: center; white-space: nowrap;\"><div style=\"font-size:12px;\">1.08-0.72j</div></td><td style=\"padding: 3px; text-align: center; white-space: nowrap;\"><div style=\"font-size:12px;\">2.15-0.11j</div></td><td style=\"padding: 3px; text-align: center; white-space: nowrap;\">…</td><td style=\"padding: 3px; text-align: center; white-space: nowrap;\"><div style=\"font-size:12px;\">-0.57-1.61j</div></td><td style=\"padding: 3px; text-align: center; white-space: nowrap;\"><div style=\"font-size:12px;\">0.20-0.03j</div></td><td style=\"padding: 3px; text-align: center; white-space: nowrap;\"><div style=\"font-size:12px;\">0.18-0.59j</div></td></tr></table></td><td style=\"padding: 3px; text-align: center; white-space: nowrap;\"><table data-quarto-disable-processing=\"true\" class=\"table-form table-form-bracketed\" style=\"display:inline-table; text-align:center;font-size:12px;width: u;border: 1.5px solid steelblue;border-top-style: none;border-bottom-style: none;border-radius: 5px;border-spacing: 0px;border-collapse:separate;padding: 3px;margin: 0px auto;\"><tr style=\"padding: 0; margin: 0\"><td style=\"padding: 3px; text-align: center; white-space: nowrap;\"><div style=\"font-size:12px;\">-0.69+0.15j</div></td><td style=\"padding: 3px; text-align: center; white-space: nowrap;\"><div style=\"font-size:12px;\">-0.98-0.70j</div></td><td style=\"padding: 3px; text-align: center; white-space: nowrap;\"><div style=\"font-size:12px;\">1.56+1.05j</div></td><td style=\"padding: 3px; text-align: center; white-space: nowrap;\">…</td><td style=\"padding: 3px; text-align: center; white-space: nowrap;\"><div style=\"font-size:12px;\">1.82+2.71j</div></td><td style=\"padding: 3px; text-align: center; white-space: nowrap;\"><div style=\"font-size:12px;\">1.43+0.56j</div></td><td style=\"padding: 3px; text-align: center; white-space: nowrap;\"><div style=\"font-size:12px;\">-0.86+0.29j</div></td></tr></table></td></tr>\n",
       "<tr style=\"padding: 0; margin: 0\"><td style=\"padding: 3px; text-align: center; white-space: nowrap;\">︙</td><td style=\"padding: 3px; text-align: center; white-space: nowrap;\">︙</td><td style=\"padding: 3px; text-align: center; white-space: nowrap;\">︙</td><td style=\"padding: 3px; text-align: center; white-space: nowrap;\">⋱</td><td style=\"padding: 3px; text-align: center; white-space: nowrap;\">︙</td><td style=\"padding: 3px; text-align: center; white-space: nowrap;\">︙</td><td style=\"padding: 3px; text-align: center; white-space: nowrap;\">︙</td></tr>\n",
       "<tr style=\"padding: 0; margin: 0\"><td style=\"padding: 3px; text-align: center; white-space: nowrap;\"><table data-quarto-disable-processing=\"true\" class=\"table-form table-form-bracketed\" style=\"display:inline-table; text-align:center;font-size:12px;width: u;border: 1.5px solid steelblue;border-top-style: none;border-bottom-style: none;border-radius: 5px;border-spacing: 0px;border-collapse:separate;padding: 3px;margin: 0px auto;\"><tr style=\"padding: 0; margin: 0\"><td style=\"padding: 3px; text-align: center; white-space: nowrap;\"><div style=\"font-size:12px;\">0.43+0.79j</div></td><td style=\"padding: 3px; text-align: center; white-space: nowrap;\"><div style=\"font-size:12px;\">0.54-0.55j</div></td><td style=\"padding: 3px; text-align: center; white-space: nowrap;\"><div style=\"font-size:12px;\">-0.15-0.13j</div></td><td style=\"padding: 3px; text-align: center; white-space: nowrap;\">…</td><td style=\"padding: 3px; text-align: center; white-space: nowrap;\"><div style=\"font-size:12px;\">-0.55+0.38j</div></td><td style=\"padding: 3px; text-align: center; white-space: nowrap;\"><div style=\"font-size:12px;\">1.19+0.48j</div></td><td style=\"padding: 3px; text-align: center; white-space: nowrap;\"><div style=\"font-size:12px;\">-0.05-2.19j</div></td></tr></table></td><td style=\"padding: 3px; text-align: center; white-space: nowrap;\"><table data-quarto-disable-processing=\"true\" class=\"table-form table-form-bracketed\" style=\"display:inline-table; text-align:center;font-size:12px;width: u;border: 1.5px solid steelblue;border-top-style: none;border-bottom-style: none;border-radius: 5px;border-spacing: 0px;border-collapse:separate;padding: 3px;margin: 0px auto;\"><tr style=\"padding: 0; margin: 0\"><td style=\"padding: 3px; text-align: center; white-space: nowrap;\"><div style=\"font-size:12px;\">0.87-0.43j</div></td><td style=\"padding: 3px; text-align: center; white-space: nowrap;\"><div style=\"font-size:12px;\">1.02+0.99j</div></td><td style=\"padding: 3px; text-align: center; white-space: nowrap;\"><div style=\"font-size:12px;\">-0.47+0.44j</div></td><td style=\"padding: 3px; text-align: center; white-space: nowrap;\">…</td><td style=\"padding: 3px; text-align: center; white-space: nowrap;\"><div style=\"font-size:12px;\">0.93+1.36j</div></td><td style=\"padding: 3px; text-align: center; white-space: nowrap;\"><div style=\"font-size:12px;\">-0.77-0.13j</div></td><td style=\"padding: 3px; text-align: center; white-space: nowrap;\"><div style=\"font-size:12px;\">0.87-0.92j</div></td></tr></table></td><td style=\"padding: 3px; text-align: center; white-space: nowrap;\"><table data-quarto-disable-processing=\"true\" class=\"table-form table-form-bracketed\" style=\"display:inline-table; text-align:center;font-size:12px;width: u;border: 1.5px solid steelblue;border-top-style: none;border-bottom-style: none;border-radius: 5px;border-spacing: 0px;border-collapse:separate;padding: 3px;margin: 0px auto;\"><tr style=\"padding: 0; margin: 0\"><td style=\"padding: 3px; text-align: center; white-space: nowrap;\"><div style=\"font-size:12px;\">-1.61+0.06j</div></td><td style=\"padding: 3px; text-align: center; white-space: nowrap;\"><div style=\"font-size:12px;\">-0.23+0.06j</div></td><td style=\"padding: 3px; text-align: center; white-space: nowrap;\"><div style=\"font-size:12px;\">-2.45-1.63j</div></td><td style=\"padding: 3px; text-align: center; white-space: nowrap;\">…</td><td style=\"padding: 3px; text-align: center; white-space: nowrap;\"><div style=\"font-size:12px;\">1.08-0.79j</div></td><td style=\"padding: 3px; text-align: center; white-space: nowrap;\"><div style=\"font-size:12px;\">-1.05-0.26j</div></td><td style=\"padding: 3px; text-align: center; white-space: nowrap;\"><div style=\"font-size:12px;\">1.26+1.81j</div></td></tr></table></td><td style=\"padding: 3px; text-align: center; white-space: nowrap;\">…</td><td style=\"padding: 3px; text-align: center; white-space: nowrap;\"><table data-quarto-disable-processing=\"true\" class=\"table-form table-form-bracketed\" style=\"display:inline-table; text-align:center;font-size:12px;width: u;border: 1.5px solid steelblue;border-top-style: none;border-bottom-style: none;border-radius: 5px;border-spacing: 0px;border-collapse:separate;padding: 3px;margin: 0px auto;\"><tr style=\"padding: 0; margin: 0\"><td style=\"padding: 3px; text-align: center; white-space: nowrap;\"><div style=\"font-size:12px;\">-1.03+1.44j</div></td><td style=\"padding: 3px; text-align: center; white-space: nowrap;\"><div style=\"font-size:12px;\">-0.19+0.93j</div></td><td style=\"padding: 3px; text-align: center; white-space: nowrap;\"><div style=\"font-size:12px;\">-0.56+0.18j</div></td><td style=\"padding: 3px; text-align: center; white-space: nowrap;\">…</td><td style=\"padding: 3px; text-align: center; white-space: nowrap;\"><div style=\"font-size:12px;\">0.82+0.65j</div></td><td style=\"padding: 3px; text-align: center; white-space: nowrap;\"><div style=\"font-size:12px;\">-0.14+0.56j</div></td><td style=\"padding: 3px; text-align: center; white-space: nowrap;\"><div style=\"font-size:12px;\">-1.40+2.40j</div></td></tr></table></td><td style=\"padding: 3px; text-align: center; white-space: nowrap;\"><table data-quarto-disable-processing=\"true\" class=\"table-form table-form-bracketed\" style=\"display:inline-table; text-align:center;font-size:12px;width: u;border: 1.5px solid steelblue;border-top-style: none;border-bottom-style: none;border-radius: 5px;border-spacing: 0px;border-collapse:separate;padding: 3px;margin: 0px auto;\"><tr style=\"padding: 0; margin: 0\"><td style=\"padding: 3px; text-align: center; white-space: nowrap;\"><div style=\"font-size:12px;\">-0.21+0.15j</div></td><td style=\"padding: 3px; text-align: center; white-space: nowrap;\"><div style=\"font-size:12px;\">-0.53-0.07j</div></td><td style=\"padding: 3px; text-align: center; white-space: nowrap;\"><div style=\"font-size:12px;\">1.19+0.58j</div></td><td style=\"padding: 3px; text-align: center; white-space: nowrap;\">…</td><td style=\"padding: 3px; text-align: center; white-space: nowrap;\"><div style=\"font-size:12px;\">1.23-0.21j</div></td><td style=\"padding: 3px; text-align: center; white-space: nowrap;\"><div style=\"font-size:12px;\">-2.51+0.84j</div></td><td style=\"padding: 3px; text-align: center; white-space: nowrap;\"><div style=\"font-size:12px;\">-0.61-1.50j</div></td></tr></table></td><td style=\"padding: 3px; text-align: center; white-space: nowrap;\"><table data-quarto-disable-processing=\"true\" class=\"table-form table-form-bracketed\" style=\"display:inline-table; text-align:center;font-size:12px;width: u;border: 1.5px solid steelblue;border-top-style: none;border-bottom-style: none;border-radius: 5px;border-spacing: 0px;border-collapse:separate;padding: 3px;margin: 0px auto;\"><tr style=\"padding: 0; margin: 0\"><td style=\"padding: 3px; text-align: center; white-space: nowrap;\"><div style=\"font-size:12px;\">0.85-0.11j</div></td><td style=\"padding: 3px; text-align: center; white-space: nowrap;\"><div style=\"font-size:12px;\">-0.34+1.42j</div></td><td style=\"padding: 3px; text-align: center; white-space: nowrap;\"><div style=\"font-size:12px;\">0.59+0.41j</div></td><td style=\"padding: 3px; text-align: center; white-space: nowrap;\">…</td><td style=\"padding: 3px; text-align: center; white-space: nowrap;\"><div style=\"font-size:12px;\">0.78-0.77j</div></td><td style=\"padding: 3px; text-align: center; white-space: nowrap;\"><div style=\"font-size:12px;\">-0.36-0.52j</div></td><td style=\"padding: 3px; text-align: center; white-space: nowrap;\"><div style=\"font-size:12px;\">-0.34-0.42j</div></td></tr></table></td></tr>\n",
       "<tr style=\"padding: 0; margin: 0\"><td style=\"padding: 3px; text-align: center; white-space: nowrap;\"><table data-quarto-disable-processing=\"true\" class=\"table-form table-form-bracketed\" style=\"display:inline-table; text-align:center;font-size:12px;width: u;border: 1.5px solid steelblue;border-top-style: none;border-bottom-style: none;border-radius: 5px;border-spacing: 0px;border-collapse:separate;padding: 3px;margin: 0px auto;\"><tr style=\"padding: 0; margin: 0\"><td style=\"padding: 3px; text-align: center; white-space: nowrap;\"><div style=\"font-size:12px;\">0.01+1.05j</div></td><td style=\"padding: 3px; text-align: center; white-space: nowrap;\"><div style=\"font-size:12px;\">0.62-0.11j</div></td><td style=\"padding: 3px; text-align: center; white-space: nowrap;\"><div style=\"font-size:12px;\">-0.65-0.39j</div></td><td style=\"padding: 3px; text-align: center; white-space: nowrap;\">…</td><td style=\"padding: 3px; text-align: center; white-space: nowrap;\"><div style=\"font-size:12px;\">1.53+1.48j</div></td><td style=\"padding: 3px; text-align: center; white-space: nowrap;\"><div style=\"font-size:12px;\">-0.16+0.50j</div></td><td style=\"padding: 3px; text-align: center; white-space: nowrap;\"><div style=\"font-size:12px;\">0.64-0.83j</div></td></tr></table></td><td style=\"padding: 3px; text-align: center; white-space: nowrap;\"><table data-quarto-disable-processing=\"true\" class=\"table-form table-form-bracketed\" style=\"display:inline-table; text-align:center;font-size:12px;width: u;border: 1.5px solid steelblue;border-top-style: none;border-bottom-style: none;border-radius: 5px;border-spacing: 0px;border-collapse:separate;padding: 3px;margin: 0px auto;\"><tr style=\"padding: 0; margin: 0\"><td style=\"padding: 3px; text-align: center; white-space: nowrap;\"><div style=\"font-size:12px;\">0.25+0.15j</div></td><td style=\"padding: 3px; text-align: center; white-space: nowrap;\"><div style=\"font-size:12px;\">-0.68+0.62j</div></td><td style=\"padding: 3px; text-align: center; white-space: nowrap;\"><div style=\"font-size:12px;\">-1.05-0.58j</div></td><td style=\"padding: 3px; text-align: center; white-space: nowrap;\">…</td><td style=\"padding: 3px; text-align: center; white-space: nowrap;\"><div style=\"font-size:12px;\">-0.93+1.19j</div></td><td style=\"padding: 3px; text-align: center; white-space: nowrap;\"><div style=\"font-size:12px;\">2.11-0.11j</div></td><td style=\"padding: 3px; text-align: center; white-space: nowrap;\"><div style=\"font-size:12px;\">0.51-0.29j</div></td></tr></table></td><td style=\"padding: 3px; text-align: center; white-space: nowrap;\"><table data-quarto-disable-processing=\"true\" class=\"table-form table-form-bracketed\" style=\"display:inline-table; text-align:center;font-size:12px;width: u;border: 1.5px solid steelblue;border-top-style: none;border-bottom-style: none;border-radius: 5px;border-spacing: 0px;border-collapse:separate;padding: 3px;margin: 0px auto;\"><tr style=\"padding: 0; margin: 0\"><td style=\"padding: 3px; text-align: center; white-space: nowrap;\"><div style=\"font-size:12px;\">1.18-1.25j</div></td><td style=\"padding: 3px; text-align: center; white-space: nowrap;\"><div style=\"font-size:12px;\">0.48-1.83j</div></td><td style=\"padding: 3px; text-align: center; white-space: nowrap;\"><div style=\"font-size:12px;\">-1.80+0.06j</div></td><td style=\"padding: 3px; text-align: center; white-space: nowrap;\">…</td><td style=\"padding: 3px; text-align: center; white-space: nowrap;\"><div style=\"font-size:12px;\">-1.17-1.16j</div></td><td style=\"padding: 3px; text-align: center; white-space: nowrap;\"><div style=\"font-size:12px;\">-0.79-1.54j</div></td><td style=\"padding: 3px; text-align: center; white-space: nowrap;\"><div style=\"font-size:12px;\">-0.13+0.29j</div></td></tr></table></td><td style=\"padding: 3px; text-align: center; white-space: nowrap;\">…</td><td style=\"padding: 3px; text-align: center; white-space: nowrap;\"><table data-quarto-disable-processing=\"true\" class=\"table-form table-form-bracketed\" style=\"display:inline-table; text-align:center;font-size:12px;width: u;border: 1.5px solid steelblue;border-top-style: none;border-bottom-style: none;border-radius: 5px;border-spacing: 0px;border-collapse:separate;padding: 3px;margin: 0px auto;\"><tr style=\"padding: 0; margin: 0\"><td style=\"padding: 3px; text-align: center; white-space: nowrap;\"><div style=\"font-size:12px;\">0.85+0.27j</div></td><td style=\"padding: 3px; text-align: center; white-space: nowrap;\"><div style=\"font-size:12px;\">0.89+0.55j</div></td><td style=\"padding: 3px; text-align: center; white-space: nowrap;\"><div style=\"font-size:12px;\">1.36-1.42j</div></td><td style=\"padding: 3px; text-align: center; white-space: nowrap;\">…</td><td style=\"padding: 3px; text-align: center; white-space: nowrap;\"><div style=\"font-size:12px;\">0.95+1.38j</div></td><td style=\"padding: 3px; text-align: center; white-space: nowrap;\"><div style=\"font-size:12px;\">1.66+0.11j</div></td><td style=\"padding: 3px; text-align: center; white-space: nowrap;\"><div style=\"font-size:12px;\">-1.78+0.87j</div></td></tr></table></td><td style=\"padding: 3px; text-align: center; white-space: nowrap;\"><table data-quarto-disable-processing=\"true\" class=\"table-form table-form-bracketed\" style=\"display:inline-table; text-align:center;font-size:12px;width: u;border: 1.5px solid steelblue;border-top-style: none;border-bottom-style: none;border-radius: 5px;border-spacing: 0px;border-collapse:separate;padding: 3px;margin: 0px auto;\"><tr style=\"padding: 0; margin: 0\"><td style=\"padding: 3px; text-align: center; white-space: nowrap;\"><div style=\"font-size:12px;\">-0.15-1.47j</div></td><td style=\"padding: 3px; text-align: center; white-space: nowrap;\"><div style=\"font-size:12px;\">0.21-0.63j</div></td><td style=\"padding: 3px; text-align: center; white-space: nowrap;\"><div style=\"font-size:12px;\">-2.16-0.23j</div></td><td style=\"padding: 3px; text-align: center; white-space: nowrap;\">…</td><td style=\"padding: 3px; text-align: center; white-space: nowrap;\"><div style=\"font-size:12px;\">0.01+0.46j</div></td><td style=\"padding: 3px; text-align: center; white-space: nowrap;\"><div style=\"font-size:12px;\">1.64+0.50j</div></td><td style=\"padding: 3px; text-align: center; white-space: nowrap;\"><div style=\"font-size:12px;\">0.12+0.43j</div></td></tr></table></td><td style=\"padding: 3px; text-align: center; white-space: nowrap;\"><table data-quarto-disable-processing=\"true\" class=\"table-form table-form-bracketed\" style=\"display:inline-table; text-align:center;font-size:12px;width: u;border: 1.5px solid steelblue;border-top-style: none;border-bottom-style: none;border-radius: 5px;border-spacing: 0px;border-collapse:separate;padding: 3px;margin: 0px auto;\"><tr style=\"padding: 0; margin: 0\"><td style=\"padding: 3px; text-align: center; white-space: nowrap;\"><div style=\"font-size:12px;\">-0.75-0.81j</div></td><td style=\"padding: 3px; text-align: center; white-space: nowrap;\"><div style=\"font-size:12px;\">-0.44+0.37j</div></td><td style=\"padding: 3px; text-align: center; white-space: nowrap;\"><div style=\"font-size:12px;\">-0.48-0.05j</div></td><td style=\"padding: 3px; text-align: center; white-space: nowrap;\">…</td><td style=\"padding: 3px; text-align: center; white-space: nowrap;\"><div style=\"font-size:12px;\">-0.01-0.07j</div></td><td style=\"padding: 3px; text-align: center; white-space: nowrap;\"><div style=\"font-size:12px;\">-0.27+0.34j</div></td><td style=\"padding: 3px; text-align: center; white-space: nowrap;\"><div style=\"font-size:12px;\">-0.79+0.18j</div></td></tr></table></td></tr>\n",
       "<tr style=\"padding: 0; margin: 0\"><td style=\"padding: 3px; text-align: center; white-space: nowrap;\"><table data-quarto-disable-processing=\"true\" class=\"table-form table-form-bracketed\" style=\"display:inline-table; text-align:center;font-size:12px;width: u;border: 1.5px solid steelblue;border-top-style: none;border-bottom-style: none;border-radius: 5px;border-spacing: 0px;border-collapse:separate;padding: 3px;margin: 0px auto;\"><tr style=\"padding: 0; margin: 0\"><td style=\"padding: 3px; text-align: center; white-space: nowrap;\"><div style=\"font-size:12px;\">1.09-0.30j</div></td><td style=\"padding: 3px; text-align: center; white-space: nowrap;\"><div style=\"font-size:12px;\">-0.21+0.88j</div></td><td style=\"padding: 3px; text-align: center; white-space: nowrap;\"><div style=\"font-size:12px;\">-0.04+0.91j</div></td><td style=\"padding: 3px; text-align: center; white-space: nowrap;\">…</td><td style=\"padding: 3px; text-align: center; white-space: nowrap;\"><div style=\"font-size:12px;\">-1.08+0.85j</div></td><td style=\"padding: 3px; text-align: center; white-space: nowrap;\"><div style=\"font-size:12px;\">-0.37+0.40j</div></td><td style=\"padding: 3px; text-align: center; white-space: nowrap;\"><div style=\"font-size:12px;\">1.45-0.31j</div></td></tr></table></td><td style=\"padding: 3px; text-align: center; white-space: nowrap;\"><table data-quarto-disable-processing=\"true\" class=\"table-form table-form-bracketed\" style=\"display:inline-table; text-align:center;font-size:12px;width: u;border: 1.5px solid steelblue;border-top-style: none;border-bottom-style: none;border-radius: 5px;border-spacing: 0px;border-collapse:separate;padding: 3px;margin: 0px auto;\"><tr style=\"padding: 0; margin: 0\"><td style=\"padding: 3px; text-align: center; white-space: nowrap;\"><div style=\"font-size:12px;\">0.59+1.73j</div></td><td style=\"padding: 3px; text-align: center; white-space: nowrap;\"><div style=\"font-size:12px;\">0.36+0.60j</div></td><td style=\"padding: 3px; text-align: center; white-space: nowrap;\"><div style=\"font-size:12px;\">-0.69-0.65j</div></td><td style=\"padding: 3px; text-align: center; white-space: nowrap;\">…</td><td style=\"padding: 3px; text-align: center; white-space: nowrap;\"><div style=\"font-size:12px;\">0.65+0.62j</div></td><td style=\"padding: 3px; text-align: center; white-space: nowrap;\"><div style=\"font-size:12px;\">-1.56+1.31j</div></td><td style=\"padding: 3px; text-align: center; white-space: nowrap;\"><div style=\"font-size:12px;\">-0.16-1.26j</div></td></tr></table></td><td style=\"padding: 3px; text-align: center; white-space: nowrap;\"><table data-quarto-disable-processing=\"true\" class=\"table-form table-form-bracketed\" style=\"display:inline-table; text-align:center;font-size:12px;width: u;border: 1.5px solid steelblue;border-top-style: none;border-bottom-style: none;border-radius: 5px;border-spacing: 0px;border-collapse:separate;padding: 3px;margin: 0px auto;\"><tr style=\"padding: 0; margin: 0\"><td style=\"padding: 3px; text-align: center; white-space: nowrap;\"><div style=\"font-size:12px;\">-0.89+0.05j</div></td><td style=\"padding: 3px; text-align: center; white-space: nowrap;\"><div style=\"font-size:12px;\">0.61+1.02j</div></td><td style=\"padding: 3px; text-align: center; white-space: nowrap;\"><div style=\"font-size:12px;\">-1.32-1.86j</div></td><td style=\"padding: 3px; text-align: center; white-space: nowrap;\">…</td><td style=\"padding: 3px; text-align: center; white-space: nowrap;\"><div style=\"font-size:12px;\">-0.29+0.03j</div></td><td style=\"padding: 3px; text-align: center; white-space: nowrap;\"><div style=\"font-size:12px;\">-0.59-0.75j</div></td><td style=\"padding: 3px; text-align: center; white-space: nowrap;\"><div style=\"font-size:12px;\">-0.25-1.81j</div></td></tr></table></td><td style=\"padding: 3px; text-align: center; white-space: nowrap;\">…</td><td style=\"padding: 3px; text-align: center; white-space: nowrap;\"><table data-quarto-disable-processing=\"true\" class=\"table-form table-form-bracketed\" style=\"display:inline-table; text-align:center;font-size:12px;width: u;border: 1.5px solid steelblue;border-top-style: none;border-bottom-style: none;border-radius: 5px;border-spacing: 0px;border-collapse:separate;padding: 3px;margin: 0px auto;\"><tr style=\"padding: 0; margin: 0\"><td style=\"padding: 3px; text-align: center; white-space: nowrap;\"><div style=\"font-size:12px;\">1.04+0.86j</div></td><td style=\"padding: 3px; text-align: center; white-space: nowrap;\"><div style=\"font-size:12px;\">0.61-0.64j</div></td><td style=\"padding: 3px; text-align: center; white-space: nowrap;\"><div style=\"font-size:12px;\">0.16+0.65j</div></td><td style=\"padding: 3px; text-align: center; white-space: nowrap;\">…</td><td style=\"padding: 3px; text-align: center; white-space: nowrap;\"><div style=\"font-size:12px;\">1.07+1.65j</div></td><td style=\"padding: 3px; text-align: center; white-space: nowrap;\"><div style=\"font-size:12px;\">2.25-0.22j</div></td><td style=\"padding: 3px; text-align: center; white-space: nowrap;\"><div style=\"font-size:12px;\">-1.98+1.06j</div></td></tr></table></td><td style=\"padding: 3px; text-align: center; white-space: nowrap;\"><table data-quarto-disable-processing=\"true\" class=\"table-form table-form-bracketed\" style=\"display:inline-table; text-align:center;font-size:12px;width: u;border: 1.5px solid steelblue;border-top-style: none;border-bottom-style: none;border-radius: 5px;border-spacing: 0px;border-collapse:separate;padding: 3px;margin: 0px auto;\"><tr style=\"padding: 0; margin: 0\"><td style=\"padding: 3px; text-align: center; white-space: nowrap;\"><div style=\"font-size:12px;\">-0.76+0.36j</div></td><td style=\"padding: 3px; text-align: center; white-space: nowrap;\"><div style=\"font-size:12px;\">0.56-0.60j</div></td><td style=\"padding: 3px; text-align: center; white-space: nowrap;\"><div style=\"font-size:12px;\">0.11+0.59j</div></td><td style=\"padding: 3px; text-align: center; white-space: nowrap;\">…</td><td style=\"padding: 3px; text-align: center; white-space: nowrap;\"><div style=\"font-size:12px;\">0.93+0.50j</div></td><td style=\"padding: 3px; text-align: center; white-space: nowrap;\"><div style=\"font-size:12px;\">0.51-1.56j</div></td><td style=\"padding: 3px; text-align: center; white-space: nowrap;\"><div style=\"font-size:12px;\">1.23-0.51j</div></td></tr></table></td><td style=\"padding: 3px; text-align: center; white-space: nowrap;\"><table data-quarto-disable-processing=\"true\" class=\"table-form table-form-bracketed\" style=\"display:inline-table; text-align:center;font-size:12px;width: u;border: 1.5px solid steelblue;border-top-style: none;border-bottom-style: none;border-radius: 5px;border-spacing: 0px;border-collapse:separate;padding: 3px;margin: 0px auto;\"><tr style=\"padding: 0; margin: 0\"><td style=\"padding: 3px; text-align: center; white-space: nowrap;\"><div style=\"font-size:12px;\">-2.30-2.09j</div></td><td style=\"padding: 3px; text-align: center; white-space: nowrap;\"><div style=\"font-size:12px;\">-0.68+0.47j</div></td><td style=\"padding: 3px; text-align: center; white-space: nowrap;\"><div style=\"font-size:12px;\">-0.76-0.28j</div></td><td style=\"padding: 3px; text-align: center; white-space: nowrap;\">…</td><td style=\"padding: 3px; text-align: center; white-space: nowrap;\"><div style=\"font-size:12px;\">0.86-0.18j</div></td><td style=\"padding: 3px; text-align: center; white-space: nowrap;\"><div style=\"font-size:12px;\">-1.90+0.18j</div></td><td style=\"padding: 3px; text-align: center; white-space: nowrap;\"><div style=\"font-size:12px;\">-0.36-0.22j</div></td></tr></table></td></tr></table>"
      ],
      "text/plain": [
       "<__main__.TableForm>"
      ]
     },
     "execution_count": null,
     "metadata": {},
     "output_type": "execute_result"
    }
   ],
   "source": [
    "TableForm(np.random.normal(size=(40, 40, 40)) + 1j * np.random.normal(size=(40, 40, 40)), edgeitems=3)"
   ]
  },
  {
   "cell_type": "markdown",
   "id": "6b5a3293-f1be-4fab-86d9-58221170185f",
   "metadata": {},
   "source": [
    "#### pint `Quantity`s"
   ]
  },
  {
   "cell_type": "code",
   "execution_count": null,
   "id": "bb4a3ce1-1ce9-4811-a7f1-e28698d44170",
   "metadata": {},
   "outputs": [],
   "source": [
    "import pint"
   ]
  },
  {
   "cell_type": "code",
   "execution_count": null,
   "id": "2fa18b43-7e13-4b22-9b5b-bd2ae8a0aac4",
   "metadata": {},
   "outputs": [],
   "source": [
    "u = pint.UnitRegistry(force_ndarray_like=True)"
   ]
  },
  {
   "cell_type": "code",
   "execution_count": null,
   "id": "91b30f73-daa8-408f-9e31-6dd9633a7e70",
   "metadata": {},
   "outputs": [
    {
     "data": {
      "text/html": [
       "<div style=\"font-size:12px\">pint Quantity () float64 cm</div><div style=\"font-size:12px;\">2.54</div>"
      ],
      "text/plain": [
       "<__main__.TableForm>"
      ]
     },
     "execution_count": null,
     "metadata": {},
     "output_type": "execute_result"
    }
   ],
   "source": [
    "TableForm(2.54 * u.cm)"
   ]
  },
  {
   "cell_type": "code",
   "execution_count": null,
   "id": "0a8e4443-b1b9-43d7-9c91-b854c5169f43",
   "metadata": {},
   "outputs": [
    {
     "data": {
      "text/html": [
       "<div style=\"font-size:12px\">pint Quantity (3, 4, 5) float64 m²</div><table data-quarto-disable-processing=\"true\" class=\"table-form table-form-boxed\" style=\"display:inline-table; text-align:center;font-size:12px;width: a;border: 1.5px solid steelblue;padding: 3px;margin: 0px 0;\"><tr style=\"padding: 0; margin: 0\"><td style=\"padding: 3px; text-align: center; white-space: nowrap;\"><table data-quarto-disable-processing=\"true\" class=\"table-form table-form-bracketed\" style=\"display:inline-table; text-align:center;font-size:12px;width: u;border: 1.5px solid steelblue;border-top-style: none;border-bottom-style: none;border-radius: 5px;border-spacing: 0px;border-collapse:separate;padding: 3px;margin: 0px auto;\"><tr style=\"padding: 0; margin: 0\"><td style=\"padding: 3px; text-align: center; white-space: nowrap;\"><div style=\"font-size:12px;\">1.00</div></td><td style=\"padding: 3px; text-align: center; white-space: nowrap;\"><div style=\"font-size:12px;\">1.00</div></td><td style=\"padding: 3px; text-align: center; white-space: nowrap;\"><div style=\"font-size:12px;\">1.00</div></td><td style=\"padding: 3px; text-align: center; white-space: nowrap;\"><div style=\"font-size:12px;\">1.00</div></td><td style=\"padding: 3px; text-align: center; white-space: nowrap;\"><div style=\"font-size:12px;\">1.00</div></td></tr></table></td><td style=\"padding: 3px; text-align: center; white-space: nowrap;\"><table data-quarto-disable-processing=\"true\" class=\"table-form table-form-bracketed\" style=\"display:inline-table; text-align:center;font-size:12px;width: u;border: 1.5px solid steelblue;border-top-style: none;border-bottom-style: none;border-radius: 5px;border-spacing: 0px;border-collapse:separate;padding: 3px;margin: 0px auto;\"><tr style=\"padding: 0; margin: 0\"><td style=\"padding: 3px; text-align: center; white-space: nowrap;\"><div style=\"font-size:12px;\">1.00</div></td><td style=\"padding: 3px; text-align: center; white-space: nowrap;\"><div style=\"font-size:12px;\">1.00</div></td><td style=\"padding: 3px; text-align: center; white-space: nowrap;\"><div style=\"font-size:12px;\">1.00</div></td><td style=\"padding: 3px; text-align: center; white-space: nowrap;\"><div style=\"font-size:12px;\">1.00</div></td><td style=\"padding: 3px; text-align: center; white-space: nowrap;\"><div style=\"font-size:12px;\">1.00</div></td></tr></table></td><td style=\"padding: 3px; text-align: center; white-space: nowrap;\"><table data-quarto-disable-processing=\"true\" class=\"table-form table-form-bracketed\" style=\"display:inline-table; text-align:center;font-size:12px;width: u;border: 1.5px solid steelblue;border-top-style: none;border-bottom-style: none;border-radius: 5px;border-spacing: 0px;border-collapse:separate;padding: 3px;margin: 0px auto;\"><tr style=\"padding: 0; margin: 0\"><td style=\"padding: 3px; text-align: center; white-space: nowrap;\"><div style=\"font-size:12px;\">1.00</div></td><td style=\"padding: 3px; text-align: center; white-space: nowrap;\"><div style=\"font-size:12px;\">1.00</div></td><td style=\"padding: 3px; text-align: center; white-space: nowrap;\"><div style=\"font-size:12px;\">1.00</div></td><td style=\"padding: 3px; text-align: center; white-space: nowrap;\"><div style=\"font-size:12px;\">1.00</div></td><td style=\"padding: 3px; text-align: center; white-space: nowrap;\"><div style=\"font-size:12px;\">1.00</div></td></tr></table></td><td style=\"padding: 3px; text-align: center; white-space: nowrap;\"><table data-quarto-disable-processing=\"true\" class=\"table-form table-form-bracketed\" style=\"display:inline-table; text-align:center;font-size:12px;width: u;border: 1.5px solid steelblue;border-top-style: none;border-bottom-style: none;border-radius: 5px;border-spacing: 0px;border-collapse:separate;padding: 3px;margin: 0px auto;\"><tr style=\"padding: 0; margin: 0\"><td style=\"padding: 3px; text-align: center; white-space: nowrap;\"><div style=\"font-size:12px;\">1.00</div></td><td style=\"padding: 3px; text-align: center; white-space: nowrap;\"><div style=\"font-size:12px;\">1.00</div></td><td style=\"padding: 3px; text-align: center; white-space: nowrap;\"><div style=\"font-size:12px;\">1.00</div></td><td style=\"padding: 3px; text-align: center; white-space: nowrap;\"><div style=\"font-size:12px;\">1.00</div></td><td style=\"padding: 3px; text-align: center; white-space: nowrap;\"><div style=\"font-size:12px;\">1.00</div></td></tr></table></td></tr>\n",
       "<tr style=\"padding: 0; margin: 0\"><td style=\"padding: 3px; text-align: center; white-space: nowrap;\"><table data-quarto-disable-processing=\"true\" class=\"table-form table-form-bracketed\" style=\"display:inline-table; text-align:center;font-size:12px;width: u;border: 1.5px solid steelblue;border-top-style: none;border-bottom-style: none;border-radius: 5px;border-spacing: 0px;border-collapse:separate;padding: 3px;margin: 0px auto;\"><tr style=\"padding: 0; margin: 0\"><td style=\"padding: 3px; text-align: center; white-space: nowrap;\"><div style=\"font-size:12px;\">1.00</div></td><td style=\"padding: 3px; text-align: center; white-space: nowrap;\"><div style=\"font-size:12px;\">1.00</div></td><td style=\"padding: 3px; text-align: center; white-space: nowrap;\"><div style=\"font-size:12px;\">1.00</div></td><td style=\"padding: 3px; text-align: center; white-space: nowrap;\"><div style=\"font-size:12px;\">1.00</div></td><td style=\"padding: 3px; text-align: center; white-space: nowrap;\"><div style=\"font-size:12px;\">1.00</div></td></tr></table></td><td style=\"padding: 3px; text-align: center; white-space: nowrap;\"><table data-quarto-disable-processing=\"true\" class=\"table-form table-form-bracketed\" style=\"display:inline-table; text-align:center;font-size:12px;width: u;border: 1.5px solid steelblue;border-top-style: none;border-bottom-style: none;border-radius: 5px;border-spacing: 0px;border-collapse:separate;padding: 3px;margin: 0px auto;\"><tr style=\"padding: 0; margin: 0\"><td style=\"padding: 3px; text-align: center; white-space: nowrap;\"><div style=\"font-size:12px;\">1.00</div></td><td style=\"padding: 3px; text-align: center; white-space: nowrap;\"><div style=\"font-size:12px;\">1.00</div></td><td style=\"padding: 3px; text-align: center; white-space: nowrap;\"><div style=\"font-size:12px;\">1.00</div></td><td style=\"padding: 3px; text-align: center; white-space: nowrap;\"><div style=\"font-size:12px;\">1.00</div></td><td style=\"padding: 3px; text-align: center; white-space: nowrap;\"><div style=\"font-size:12px;\">1.00</div></td></tr></table></td><td style=\"padding: 3px; text-align: center; white-space: nowrap;\"><table data-quarto-disable-processing=\"true\" class=\"table-form table-form-bracketed\" style=\"display:inline-table; text-align:center;font-size:12px;width: u;border: 1.5px solid steelblue;border-top-style: none;border-bottom-style: none;border-radius: 5px;border-spacing: 0px;border-collapse:separate;padding: 3px;margin: 0px auto;\"><tr style=\"padding: 0; margin: 0\"><td style=\"padding: 3px; text-align: center; white-space: nowrap;\"><div style=\"font-size:12px;\">1.00</div></td><td style=\"padding: 3px; text-align: center; white-space: nowrap;\"><div style=\"font-size:12px;\">1.00</div></td><td style=\"padding: 3px; text-align: center; white-space: nowrap;\"><div style=\"font-size:12px;\">1.00</div></td><td style=\"padding: 3px; text-align: center; white-space: nowrap;\"><div style=\"font-size:12px;\">1.00</div></td><td style=\"padding: 3px; text-align: center; white-space: nowrap;\"><div style=\"font-size:12px;\">1.00</div></td></tr></table></td><td style=\"padding: 3px; text-align: center; white-space: nowrap;\"><table data-quarto-disable-processing=\"true\" class=\"table-form table-form-bracketed\" style=\"display:inline-table; text-align:center;font-size:12px;width: u;border: 1.5px solid steelblue;border-top-style: none;border-bottom-style: none;border-radius: 5px;border-spacing: 0px;border-collapse:separate;padding: 3px;margin: 0px auto;\"><tr style=\"padding: 0; margin: 0\"><td style=\"padding: 3px; text-align: center; white-space: nowrap;\"><div style=\"font-size:12px;\">1.00</div></td><td style=\"padding: 3px; text-align: center; white-space: nowrap;\"><div style=\"font-size:12px;\">1.00</div></td><td style=\"padding: 3px; text-align: center; white-space: nowrap;\"><div style=\"font-size:12px;\">1.00</div></td><td style=\"padding: 3px; text-align: center; white-space: nowrap;\"><div style=\"font-size:12px;\">1.00</div></td><td style=\"padding: 3px; text-align: center; white-space: nowrap;\"><div style=\"font-size:12px;\">1.00</div></td></tr></table></td></tr>\n",
       "<tr style=\"padding: 0; margin: 0\"><td style=\"padding: 3px; text-align: center; white-space: nowrap;\"><table data-quarto-disable-processing=\"true\" class=\"table-form table-form-bracketed\" style=\"display:inline-table; text-align:center;font-size:12px;width: u;border: 1.5px solid steelblue;border-top-style: none;border-bottom-style: none;border-radius: 5px;border-spacing: 0px;border-collapse:separate;padding: 3px;margin: 0px auto;\"><tr style=\"padding: 0; margin: 0\"><td style=\"padding: 3px; text-align: center; white-space: nowrap;\"><div style=\"font-size:12px;\">1.00</div></td><td style=\"padding: 3px; text-align: center; white-space: nowrap;\"><div style=\"font-size:12px;\">1.00</div></td><td style=\"padding: 3px; text-align: center; white-space: nowrap;\"><div style=\"font-size:12px;\">1.00</div></td><td style=\"padding: 3px; text-align: center; white-space: nowrap;\"><div style=\"font-size:12px;\">1.00</div></td><td style=\"padding: 3px; text-align: center; white-space: nowrap;\"><div style=\"font-size:12px;\">1.00</div></td></tr></table></td><td style=\"padding: 3px; text-align: center; white-space: nowrap;\"><table data-quarto-disable-processing=\"true\" class=\"table-form table-form-bracketed\" style=\"display:inline-table; text-align:center;font-size:12px;width: u;border: 1.5px solid steelblue;border-top-style: none;border-bottom-style: none;border-radius: 5px;border-spacing: 0px;border-collapse:separate;padding: 3px;margin: 0px auto;\"><tr style=\"padding: 0; margin: 0\"><td style=\"padding: 3px; text-align: center; white-space: nowrap;\"><div style=\"font-size:12px;\">1.00</div></td><td style=\"padding: 3px; text-align: center; white-space: nowrap;\"><div style=\"font-size:12px;\">1.00</div></td><td style=\"padding: 3px; text-align: center; white-space: nowrap;\"><div style=\"font-size:12px;\">1.00</div></td><td style=\"padding: 3px; text-align: center; white-space: nowrap;\"><div style=\"font-size:12px;\">1.00</div></td><td style=\"padding: 3px; text-align: center; white-space: nowrap;\"><div style=\"font-size:12px;\">1.00</div></td></tr></table></td><td style=\"padding: 3px; text-align: center; white-space: nowrap;\"><table data-quarto-disable-processing=\"true\" class=\"table-form table-form-bracketed\" style=\"display:inline-table; text-align:center;font-size:12px;width: u;border: 1.5px solid steelblue;border-top-style: none;border-bottom-style: none;border-radius: 5px;border-spacing: 0px;border-collapse:separate;padding: 3px;margin: 0px auto;\"><tr style=\"padding: 0; margin: 0\"><td style=\"padding: 3px; text-align: center; white-space: nowrap;\"><div style=\"font-size:12px;\">1.00</div></td><td style=\"padding: 3px; text-align: center; white-space: nowrap;\"><div style=\"font-size:12px;\">1.00</div></td><td style=\"padding: 3px; text-align: center; white-space: nowrap;\"><div style=\"font-size:12px;\">1.00</div></td><td style=\"padding: 3px; text-align: center; white-space: nowrap;\"><div style=\"font-size:12px;\">1.00</div></td><td style=\"padding: 3px; text-align: center; white-space: nowrap;\"><div style=\"font-size:12px;\">1.00</div></td></tr></table></td><td style=\"padding: 3px; text-align: center; white-space: nowrap;\"><table data-quarto-disable-processing=\"true\" class=\"table-form table-form-bracketed\" style=\"display:inline-table; text-align:center;font-size:12px;width: u;border: 1.5px solid steelblue;border-top-style: none;border-bottom-style: none;border-radius: 5px;border-spacing: 0px;border-collapse:separate;padding: 3px;margin: 0px auto;\"><tr style=\"padding: 0; margin: 0\"><td style=\"padding: 3px; text-align: center; white-space: nowrap;\"><div style=\"font-size:12px;\">1.00</div></td><td style=\"padding: 3px; text-align: center; white-space: nowrap;\"><div style=\"font-size:12px;\">1.00</div></td><td style=\"padding: 3px; text-align: center; white-space: nowrap;\"><div style=\"font-size:12px;\">1.00</div></td><td style=\"padding: 3px; text-align: center; white-space: nowrap;\"><div style=\"font-size:12px;\">1.00</div></td><td style=\"padding: 3px; text-align: center; white-space: nowrap;\"><div style=\"font-size:12px;\">1.00</div></td></tr></table></td></tr></table>"
      ],
      "text/plain": [
       "<__main__.TableForm>"
      ]
     },
     "execution_count": null,
     "metadata": {},
     "output_type": "execute_result"
    }
   ],
   "source": [
    "TableForm(np.ones((3, 4, 5)) * u.m**2)"
   ]
  },
  {
   "cell_type": "markdown",
   "id": "e2294b7b-98b9-438b-8026-c73fb271d61c",
   "metadata": {},
   "source": [
    "#### astropy `Quantity`s"
   ]
  },
  {
   "cell_type": "code",
   "execution_count": null,
   "id": "5fe8acf3-ab0e-49b0-bf4c-51c5f40ebb78",
   "metadata": {},
   "outputs": [],
   "source": [
    "import astropy.units as apu"
   ]
  },
  {
   "cell_type": "code",
   "execution_count": null,
   "id": "88237525-1d78-4c6b-b864-fdc505bc3f2d",
   "metadata": {},
   "outputs": [
    {
     "data": {
      "text/html": [
       "<div style=\"font-size:12px\">astropy Quantity (2,) float64 m²</div><table data-quarto-disable-processing=\"true\" class=\"table-form table-form-bracketed\" style=\"display:inline-table; text-align:center;font-size:12px;width: a;border: 1.5px solid steelblue;border-top-style: none;border-bottom-style: none;border-radius: 5px;border-spacing: 0px;border-collapse:separate;padding: 3px;margin: 0px 0;\"><tr style=\"padding: 0; margin: 0\"><td style=\"padding: 3px; text-align: center; white-space: nowrap;\"><div style=\"font-size:12px;\">1.00</div></td><td style=\"padding: 3px; text-align: center; white-space: nowrap;\"><div style=\"font-size:12px;\">1.00</div></td></tr></table>"
      ],
      "text/plain": [
       "<__main__.TableForm>"
      ]
     },
     "execution_count": null,
     "metadata": {},
     "output_type": "execute_result"
    }
   ],
   "source": [
    "TableForm(apu.Quantity([1., 1.] , unit=apu.m**2))"
   ]
  },
  {
   "cell_type": "code",
   "execution_count": null,
   "id": "9e92320d-7ce8-48d0-b28b-9ea9be1b3e15",
   "metadata": {},
   "outputs": [
    {
     "data": {
      "text/html": [
       "<div style=\"font-size:12px\">astropy Quantity () float64 m²</div><div style=\"font-size:12px;\">1.00</div>"
      ],
      "text/plain": [
       "<__main__.TableForm>"
      ]
     },
     "execution_count": null,
     "metadata": {},
     "output_type": "execute_result"
    }
   ],
   "source": [
    "TableForm(apu.Quantity(1., unit=apu.m**2))"
   ]
  },
  {
   "cell_type": "markdown",
   "id": "767978dc-d957-4dc8-8c2a-bd6c6094e08e",
   "metadata": {},
   "source": [
    "#### Register formatter"
   ]
  },
  {
   "cell_type": "code",
   "execution_count": null,
   "id": "dbd502ff-2ce1-49bb-8ed2-6acd735bf82b",
   "metadata": {},
   "outputs": [],
   "source": [
    "#|export\n",
    "try: TableForm.register(sys.modules['numpy'].ndarray, sys.modules['pint'].Quantity)\n",
    "except KeyError: pass"
   ]
  },
  {
   "cell_type": "code",
   "execution_count": null,
   "id": "e9f3219b-1ce7-4f61-9895-b2abe3739930",
   "metadata": {},
   "outputs": [
    {
     "data": {
      "text/html": [
       "<div style=\"font-size:12px\">numpy MaskedArray (4, 4) float64</div><table data-quarto-disable-processing=\"true\" class=\"table-form table-form-boxed\" style=\"display:inline-table; text-align:center;font-size:12px;width: a;border: 1.5px solid steelblue;padding: 3px;margin: 0px 0;\"><tr style=\"padding: 0; margin: 0\"><td style=\"padding: 3px; text-align: center; white-space: nowrap;\"><div style=\"font-size:12px;\">0.39</div></td><td style=\"padding: 3px; text-align: center; white-space: nowrap;\"><div style=\"font-size:12px;\">0.59</div></td><td style=\"padding: 3px; text-align: center; white-space: nowrap;\"><div style=\"font-size:12px;\">0.81</div></td><td style=\"padding: 3px; text-align: center; white-space: nowrap;\"><div style=\"font-size:12px;\">0.70</div></td></tr>\n",
       "<tr style=\"padding: 0; margin: 0\"><td style=\"padding: 3px; text-align: center; white-space: nowrap;\"><div style=\"font-size:12px;\">0.54</div></td><td style=\"padding: 3px; text-align: center; white-space: nowrap;\"><div style=\"font-size:12px;\">0.00</div></td><td style=\"padding: 3px; text-align: center; white-space: nowrap;\"><div style=\"font-size:12px;\">0.00</div></td><td style=\"padding: 3px; text-align: center; white-space: nowrap;\"><div style=\"font-size:12px;\">0.09</div></td></tr>\n",
       "<tr style=\"padding: 0; margin: 0\"><td style=\"padding: 3px; text-align: center; white-space: nowrap;\"><div style=\"font-size:12px;\">0.00</div></td><td style=\"padding: 3px; text-align: center; white-space: nowrap;\"><div style=\"font-size:12px;\">0.92</div></td><td style=\"padding: 3px; text-align: center; white-space: nowrap;\"><div style=\"font-size:12px;\">0.98</div></td><td style=\"padding: 3px; text-align: center; white-space: nowrap;\"><div style=\"font-size:12px;\">0.00</div></td></tr>\n",
       "<tr style=\"padding: 0; margin: 0\"><td style=\"padding: 3px; text-align: center; white-space: nowrap;\"><div style=\"font-size:12px;\">0.92</div></td><td style=\"padding: 3px; text-align: center; white-space: nowrap;\"><div style=\"font-size:12px;\">0.39</div></td><td style=\"padding: 3px; text-align: center; white-space: nowrap;\"><div style=\"font-size:12px;\">0.93</div></td><td style=\"padding: 3px; text-align: center; white-space: nowrap;\"><div style=\"font-size:12px;\">0.19</div></td></tr></table>"
      ],
      "text/plain": [
       "masked_array(\n",
       "  data=[[0.38568773144676993, 0.5906218331752482, 0.8109966801546341,\n",
       "         0.695303648252273],\n",
       "        [0.5437090351054963, --, --, 0.08865201722562188],\n",
       "        [--, 0.9150057054934754, 0.9814675551998251, --],\n",
       "        [0.9178290793654911, 0.38885065495542204, 0.9319272894533587,\n",
       "         0.18792859985573984]],\n",
       "  mask=[[False, False, False, False],\n",
       "        [False,  True,  True, False],\n",
       "        [ True, False, False,  True],\n",
       "        [False, False, False, False]],\n",
       "  fill_value=1e+20)"
      ]
     },
     "execution_count": null,
     "metadata": {},
     "output_type": "execute_result"
    }
   ],
   "source": [
    "np.ma.array(np.random.rand(4, 4), mask=np.random.randint(2, size=[4, 4]))"
   ]
  },
  {
   "cell_type": "code",
   "execution_count": null,
   "id": "b8d0151d-050f-4f80-8a61-1e6b65343434",
   "metadata": {},
   "outputs": [
    {
     "data": {
      "text/html": [
       "<div style=\"font-size:12px\">pint Quantity (3, 4, 5) float64 m²</div><table data-quarto-disable-processing=\"true\" class=\"table-form table-form-boxed\" style=\"display:inline-table; text-align:center;font-size:12px;width: a;border: 1.5px solid steelblue;padding: 3px;margin: 0px 0;\"><tr style=\"padding: 0; margin: 0\"><td style=\"padding: 3px; text-align: center; white-space: nowrap;\"><table data-quarto-disable-processing=\"true\" class=\"table-form table-form-bracketed\" style=\"display:inline-table; text-align:center;font-size:12px;width: u;border: 1.5px solid steelblue;border-top-style: none;border-bottom-style: none;border-radius: 5px;border-spacing: 0px;border-collapse:separate;padding: 3px;margin: 0px auto;\"><tr style=\"padding: 0; margin: 0\"><td style=\"padding: 3px; text-align: center; white-space: nowrap;\"><div style=\"font-size:12px;\">1.00</div></td><td style=\"padding: 3px; text-align: center; white-space: nowrap;\"><div style=\"font-size:12px;\">1.00</div></td><td style=\"padding: 3px; text-align: center; white-space: nowrap;\"><div style=\"font-size:12px;\">1.00</div></td><td style=\"padding: 3px; text-align: center; white-space: nowrap;\"><div style=\"font-size:12px;\">1.00</div></td><td style=\"padding: 3px; text-align: center; white-space: nowrap;\"><div style=\"font-size:12px;\">1.00</div></td></tr></table></td><td style=\"padding: 3px; text-align: center; white-space: nowrap;\"><table data-quarto-disable-processing=\"true\" class=\"table-form table-form-bracketed\" style=\"display:inline-table; text-align:center;font-size:12px;width: u;border: 1.5px solid steelblue;border-top-style: none;border-bottom-style: none;border-radius: 5px;border-spacing: 0px;border-collapse:separate;padding: 3px;margin: 0px auto;\"><tr style=\"padding: 0; margin: 0\"><td style=\"padding: 3px; text-align: center; white-space: nowrap;\"><div style=\"font-size:12px;\">1.00</div></td><td style=\"padding: 3px; text-align: center; white-space: nowrap;\"><div style=\"font-size:12px;\">1.00</div></td><td style=\"padding: 3px; text-align: center; white-space: nowrap;\"><div style=\"font-size:12px;\">1.00</div></td><td style=\"padding: 3px; text-align: center; white-space: nowrap;\"><div style=\"font-size:12px;\">1.00</div></td><td style=\"padding: 3px; text-align: center; white-space: nowrap;\"><div style=\"font-size:12px;\">1.00</div></td></tr></table></td><td style=\"padding: 3px; text-align: center; white-space: nowrap;\"><table data-quarto-disable-processing=\"true\" class=\"table-form table-form-bracketed\" style=\"display:inline-table; text-align:center;font-size:12px;width: u;border: 1.5px solid steelblue;border-top-style: none;border-bottom-style: none;border-radius: 5px;border-spacing: 0px;border-collapse:separate;padding: 3px;margin: 0px auto;\"><tr style=\"padding: 0; margin: 0\"><td style=\"padding: 3px; text-align: center; white-space: nowrap;\"><div style=\"font-size:12px;\">1.00</div></td><td style=\"padding: 3px; text-align: center; white-space: nowrap;\"><div style=\"font-size:12px;\">1.00</div></td><td style=\"padding: 3px; text-align: center; white-space: nowrap;\"><div style=\"font-size:12px;\">1.00</div></td><td style=\"padding: 3px; text-align: center; white-space: nowrap;\"><div style=\"font-size:12px;\">1.00</div></td><td style=\"padding: 3px; text-align: center; white-space: nowrap;\"><div style=\"font-size:12px;\">1.00</div></td></tr></table></td><td style=\"padding: 3px; text-align: center; white-space: nowrap;\"><table data-quarto-disable-processing=\"true\" class=\"table-form table-form-bracketed\" style=\"display:inline-table; text-align:center;font-size:12px;width: u;border: 1.5px solid steelblue;border-top-style: none;border-bottom-style: none;border-radius: 5px;border-spacing: 0px;border-collapse:separate;padding: 3px;margin: 0px auto;\"><tr style=\"padding: 0; margin: 0\"><td style=\"padding: 3px; text-align: center; white-space: nowrap;\"><div style=\"font-size:12px;\">1.00</div></td><td style=\"padding: 3px; text-align: center; white-space: nowrap;\"><div style=\"font-size:12px;\">1.00</div></td><td style=\"padding: 3px; text-align: center; white-space: nowrap;\"><div style=\"font-size:12px;\">1.00</div></td><td style=\"padding: 3px; text-align: center; white-space: nowrap;\"><div style=\"font-size:12px;\">1.00</div></td><td style=\"padding: 3px; text-align: center; white-space: nowrap;\"><div style=\"font-size:12px;\">1.00</div></td></tr></table></td></tr>\n",
       "<tr style=\"padding: 0; margin: 0\"><td style=\"padding: 3px; text-align: center; white-space: nowrap;\"><table data-quarto-disable-processing=\"true\" class=\"table-form table-form-bracketed\" style=\"display:inline-table; text-align:center;font-size:12px;width: u;border: 1.5px solid steelblue;border-top-style: none;border-bottom-style: none;border-radius: 5px;border-spacing: 0px;border-collapse:separate;padding: 3px;margin: 0px auto;\"><tr style=\"padding: 0; margin: 0\"><td style=\"padding: 3px; text-align: center; white-space: nowrap;\"><div style=\"font-size:12px;\">1.00</div></td><td style=\"padding: 3px; text-align: center; white-space: nowrap;\"><div style=\"font-size:12px;\">1.00</div></td><td style=\"padding: 3px; text-align: center; white-space: nowrap;\"><div style=\"font-size:12px;\">1.00</div></td><td style=\"padding: 3px; text-align: center; white-space: nowrap;\"><div style=\"font-size:12px;\">1.00</div></td><td style=\"padding: 3px; text-align: center; white-space: nowrap;\"><div style=\"font-size:12px;\">1.00</div></td></tr></table></td><td style=\"padding: 3px; text-align: center; white-space: nowrap;\"><table data-quarto-disable-processing=\"true\" class=\"table-form table-form-bracketed\" style=\"display:inline-table; text-align:center;font-size:12px;width: u;border: 1.5px solid steelblue;border-top-style: none;border-bottom-style: none;border-radius: 5px;border-spacing: 0px;border-collapse:separate;padding: 3px;margin: 0px auto;\"><tr style=\"padding: 0; margin: 0\"><td style=\"padding: 3px; text-align: center; white-space: nowrap;\"><div style=\"font-size:12px;\">1.00</div></td><td style=\"padding: 3px; text-align: center; white-space: nowrap;\"><div style=\"font-size:12px;\">1.00</div></td><td style=\"padding: 3px; text-align: center; white-space: nowrap;\"><div style=\"font-size:12px;\">1.00</div></td><td style=\"padding: 3px; text-align: center; white-space: nowrap;\"><div style=\"font-size:12px;\">1.00</div></td><td style=\"padding: 3px; text-align: center; white-space: nowrap;\"><div style=\"font-size:12px;\">1.00</div></td></tr></table></td><td style=\"padding: 3px; text-align: center; white-space: nowrap;\"><table data-quarto-disable-processing=\"true\" class=\"table-form table-form-bracketed\" style=\"display:inline-table; text-align:center;font-size:12px;width: u;border: 1.5px solid steelblue;border-top-style: none;border-bottom-style: none;border-radius: 5px;border-spacing: 0px;border-collapse:separate;padding: 3px;margin: 0px auto;\"><tr style=\"padding: 0; margin: 0\"><td style=\"padding: 3px; text-align: center; white-space: nowrap;\"><div style=\"font-size:12px;\">1.00</div></td><td style=\"padding: 3px; text-align: center; white-space: nowrap;\"><div style=\"font-size:12px;\">1.00</div></td><td style=\"padding: 3px; text-align: center; white-space: nowrap;\"><div style=\"font-size:12px;\">1.00</div></td><td style=\"padding: 3px; text-align: center; white-space: nowrap;\"><div style=\"font-size:12px;\">1.00</div></td><td style=\"padding: 3px; text-align: center; white-space: nowrap;\"><div style=\"font-size:12px;\">1.00</div></td></tr></table></td><td style=\"padding: 3px; text-align: center; white-space: nowrap;\"><table data-quarto-disable-processing=\"true\" class=\"table-form table-form-bracketed\" style=\"display:inline-table; text-align:center;font-size:12px;width: u;border: 1.5px solid steelblue;border-top-style: none;border-bottom-style: none;border-radius: 5px;border-spacing: 0px;border-collapse:separate;padding: 3px;margin: 0px auto;\"><tr style=\"padding: 0; margin: 0\"><td style=\"padding: 3px; text-align: center; white-space: nowrap;\"><div style=\"font-size:12px;\">1.00</div></td><td style=\"padding: 3px; text-align: center; white-space: nowrap;\"><div style=\"font-size:12px;\">1.00</div></td><td style=\"padding: 3px; text-align: center; white-space: nowrap;\"><div style=\"font-size:12px;\">1.00</div></td><td style=\"padding: 3px; text-align: center; white-space: nowrap;\"><div style=\"font-size:12px;\">1.00</div></td><td style=\"padding: 3px; text-align: center; white-space: nowrap;\"><div style=\"font-size:12px;\">1.00</div></td></tr></table></td></tr>\n",
       "<tr style=\"padding: 0; margin: 0\"><td style=\"padding: 3px; text-align: center; white-space: nowrap;\"><table data-quarto-disable-processing=\"true\" class=\"table-form table-form-bracketed\" style=\"display:inline-table; text-align:center;font-size:12px;width: u;border: 1.5px solid steelblue;border-top-style: none;border-bottom-style: none;border-radius: 5px;border-spacing: 0px;border-collapse:separate;padding: 3px;margin: 0px auto;\"><tr style=\"padding: 0; margin: 0\"><td style=\"padding: 3px; text-align: center; white-space: nowrap;\"><div style=\"font-size:12px;\">1.00</div></td><td style=\"padding: 3px; text-align: center; white-space: nowrap;\"><div style=\"font-size:12px;\">1.00</div></td><td style=\"padding: 3px; text-align: center; white-space: nowrap;\"><div style=\"font-size:12px;\">1.00</div></td><td style=\"padding: 3px; text-align: center; white-space: nowrap;\"><div style=\"font-size:12px;\">1.00</div></td><td style=\"padding: 3px; text-align: center; white-space: nowrap;\"><div style=\"font-size:12px;\">1.00</div></td></tr></table></td><td style=\"padding: 3px; text-align: center; white-space: nowrap;\"><table data-quarto-disable-processing=\"true\" class=\"table-form table-form-bracketed\" style=\"display:inline-table; text-align:center;font-size:12px;width: u;border: 1.5px solid steelblue;border-top-style: none;border-bottom-style: none;border-radius: 5px;border-spacing: 0px;border-collapse:separate;padding: 3px;margin: 0px auto;\"><tr style=\"padding: 0; margin: 0\"><td style=\"padding: 3px; text-align: center; white-space: nowrap;\"><div style=\"font-size:12px;\">1.00</div></td><td style=\"padding: 3px; text-align: center; white-space: nowrap;\"><div style=\"font-size:12px;\">1.00</div></td><td style=\"padding: 3px; text-align: center; white-space: nowrap;\"><div style=\"font-size:12px;\">1.00</div></td><td style=\"padding: 3px; text-align: center; white-space: nowrap;\"><div style=\"font-size:12px;\">1.00</div></td><td style=\"padding: 3px; text-align: center; white-space: nowrap;\"><div style=\"font-size:12px;\">1.00</div></td></tr></table></td><td style=\"padding: 3px; text-align: center; white-space: nowrap;\"><table data-quarto-disable-processing=\"true\" class=\"table-form table-form-bracketed\" style=\"display:inline-table; text-align:center;font-size:12px;width: u;border: 1.5px solid steelblue;border-top-style: none;border-bottom-style: none;border-radius: 5px;border-spacing: 0px;border-collapse:separate;padding: 3px;margin: 0px auto;\"><tr style=\"padding: 0; margin: 0\"><td style=\"padding: 3px; text-align: center; white-space: nowrap;\"><div style=\"font-size:12px;\">1.00</div></td><td style=\"padding: 3px; text-align: center; white-space: nowrap;\"><div style=\"font-size:12px;\">1.00</div></td><td style=\"padding: 3px; text-align: center; white-space: nowrap;\"><div style=\"font-size:12px;\">1.00</div></td><td style=\"padding: 3px; text-align: center; white-space: nowrap;\"><div style=\"font-size:12px;\">1.00</div></td><td style=\"padding: 3px; text-align: center; white-space: nowrap;\"><div style=\"font-size:12px;\">1.00</div></td></tr></table></td><td style=\"padding: 3px; text-align: center; white-space: nowrap;\"><table data-quarto-disable-processing=\"true\" class=\"table-form table-form-bracketed\" style=\"display:inline-table; text-align:center;font-size:12px;width: u;border: 1.5px solid steelblue;border-top-style: none;border-bottom-style: none;border-radius: 5px;border-spacing: 0px;border-collapse:separate;padding: 3px;margin: 0px auto;\"><tr style=\"padding: 0; margin: 0\"><td style=\"padding: 3px; text-align: center; white-space: nowrap;\"><div style=\"font-size:12px;\">1.00</div></td><td style=\"padding: 3px; text-align: center; white-space: nowrap;\"><div style=\"font-size:12px;\">1.00</div></td><td style=\"padding: 3px; text-align: center; white-space: nowrap;\"><div style=\"font-size:12px;\">1.00</div></td><td style=\"padding: 3px; text-align: center; white-space: nowrap;\"><div style=\"font-size:12px;\">1.00</div></td><td style=\"padding: 3px; text-align: center; white-space: nowrap;\"><div style=\"font-size:12px;\">1.00</div></td></tr></table></td></tr></table>"
      ],
      "text/latex": [
       "$arr[,0,:,:] = \\begin{pmatrix} &  &  &  & \\\\ \n",
       " &  &  &  & \\\\ \n",
       " &  &  &  & \\\\ \n",
       " &  &  &  & \\end{pmatrix}\n",
       "arr[,1,:,:] = \\begin{pmatrix} &  &  &  & \\\\ \n",
       " &  &  &  & \\\\ \n",
       " &  &  &  & \\\\ \n",
       " &  &  &  & \\end{pmatrix}\n",
       "arr[,2,:,:] = \\begin{pmatrix} &  &  &  & \\\\ \n",
       " &  &  &  & \\\\ \n",
       " &  &  &  & \\\\ \n",
       " &  &  &  & \\end{pmatrix}\\ \\mathrm{meter}^{2}$"
      ],
      "text/plain": [
       "<Quantity([[[1. 1. 1. 1. 1.]\n",
       "  [1. 1. 1. 1. 1.]\n",
       "  [1. 1. 1. 1. 1.]\n",
       "  [1. 1. 1. 1. 1.]]\n",
       "\n",
       " [[1. 1. 1. 1. 1.]\n",
       "  [1. 1. 1. 1. 1.]\n",
       "  [1. 1. 1. 1. 1.]\n",
       "  [1. 1. 1. 1. 1.]]\n",
       "\n",
       " [[1. 1. 1. 1. 1.]\n",
       "  [1. 1. 1. 1. 1.]\n",
       "  [1. 1. 1. 1. 1.]\n",
       "  [1. 1. 1. 1. 1.]]], 'meter ** 2')>"
      ]
     },
     "execution_count": null,
     "metadata": {},
     "output_type": "execute_result"
    }
   ],
   "source": [
    "np.ones((3, 4, 5)) * u.m**2"
   ]
  },
  {
   "cell_type": "code",
   "execution_count": null,
   "id": "23860ec5-6fcb-42b7-8152-daac8ac6238d",
   "metadata": {},
   "outputs": [
    {
     "data": {
      "text/html": [
       "<div style=\"font-size:12px\">astropy Quantity (2,) float64 m²</div><table data-quarto-disable-processing=\"true\" class=\"table-form table-form-bracketed\" style=\"display:inline-table; text-align:center;font-size:12px;width: a;border: 1.5px solid steelblue;border-top-style: none;border-bottom-style: none;border-radius: 5px;border-spacing: 0px;border-collapse:separate;padding: 3px;margin: 0px 0;\"><tr style=\"padding: 0; margin: 0\"><td style=\"padding: 3px; text-align: center; white-space: nowrap;\"><div style=\"font-size:12px;\">1.00</div></td><td style=\"padding: 3px; text-align: center; white-space: nowrap;\"><div style=\"font-size:12px;\">1.00</div></td></tr></table>"
      ],
      "text/latex": [
       "$[1,~1] \\; \\mathrm{m^{2}}$"
      ],
      "text/plain": [
       "<Quantity [1., 1.] m2>"
      ]
     },
     "execution_count": null,
     "metadata": {},
     "output_type": "execute_result"
    }
   ],
   "source": [
    "apu.Quantity([1., 1.], unit=apu.m**2)"
   ]
  },
  {
   "cell_type": "code",
   "execution_count": null,
   "id": "eb7d67b9",
   "metadata": {},
   "outputs": [],
   "source": [
    "#| hide\n",
    "import nbdev; nbdev.nbdev_export()"
   ]
  },
  {
   "cell_type": "code",
   "execution_count": null,
   "id": "1f03892c-4acd-4cde-9dd5-3b62bdbc39d5",
   "metadata": {},
   "outputs": [],
   "source": []
  }
 ],
 "metadata": {
  "kernelspec": {
   "display_name": "conda-3.9-srt",
   "language": "python",
   "name": "conda-3.9-srt"
  }
 },
 "nbformat": 4,
 "nbformat_minor": 5
}
